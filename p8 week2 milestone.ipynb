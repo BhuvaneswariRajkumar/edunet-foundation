{
 "cells": [
  {
   "cell_type": "markdown",
   "id": "0de3cd6b",
   "metadata": {},
   "source": [
    "<div style=\"border-radius:10px; padding: 15px; background-color: #ffeacc; font-size:130%; text-align:left\">\n",
    "\n",
    "<h2 align=\"left\"><font color=#ff6200>Building Customer Segmentation Models using Python:</font></h2>"
   ]
  },
  {
   "cell_type": "markdown",
   "id": "7c9b8473",
   "metadata": {
    "papermill": {
     "duration": 0.056654,
     "end_time": "2023-09-13T18:55:29.073469",
     "exception": false,
     "start_time": "2023-09-13T18:55:29.016815",
     "status": "completed"
    },
    "tags": []
   },
   "source": [
    "<img src=\"https://github.com/FarzadNekouee/Retail_Customer_Segmentation_Recommendation_System/blob/master/image.png?raw=true\" width=\"2400\">"
   ]
  },
  {
   "cell_type": "markdown",
   "id": "ae7b7d8d",
   "metadata": {
    "papermill": {
     "duration": 0.054531,
     "end_time": "2023-09-13T18:55:29.182670",
     "exception": false,
     "start_time": "2023-09-13T18:55:29.128139",
     "status": "completed"
    },
    "tags": []
   },
   "source": [
    "<div style=\"border-radius:10px; padding: 15px; background-color: #ffeacc; font-size:130%; text-align:left\">\n",
    "\n",
    "<h2 align=\"left\"><font color=#ff6200>Problem:</font></h2>\n",
    "\n",
    "\n",
    "In this project, we delve deep into the thriving sector of __online retail__ by analyzing a __transactional dataset__ from a UK-based retailer, available at the [UCI Machine Learning Repository](https://archive.ics.uci.edu/dataset/352/online+retail). This dataset documents all transactions between 2010 and 2011. Our primary objective is to amplify the efficiency of marketing strategies and boost sales through __customer segmentation__. We aim to transform the transactional data into a customer-centric dataset by creating new features that will facilitate the segmentation of customers into distinct groups using the __K-means clustering__ algorithm. This segmentation will allow us to understand the distinct __profiles__ and preferences of different customer groups. Building upon this, we intend to develop a __recommendation system__ that will suggest top-selling products to customers within each segment who haven't purchased those items yet, ultimately enhancing marketing efficacy and fostering increased sales.\n"
   ]
  },
  {
   "cell_type": "markdown",
   "id": "546e6474",
   "metadata": {
    "papermill": {
     "duration": 0.059462,
     "end_time": "2023-09-13T18:55:29.374439",
     "exception": false,
     "start_time": "2023-09-13T18:55:29.314977",
     "status": "completed"
    },
    "tags": []
   },
   "source": [
    "<div style=\"border-radius:10px; padding: 15px; background-color: #ffeacc; font-size:130%; text-align:left\">\n",
    "\n",
    "<h2 align=\"left\"><font color=#ff6200>Objectives:</font></h2>\n",
    "\n",
    "\n",
    "- **Data Cleaning & Transformation**: Clean the dataset by handling missing values, duplicates, and outliers, preparing it for effective clustering.\n",
    "\n",
    "    \n",
    "- **Feature Engineering**: Develop new features based on the transactional data to create a customer-centric dataset, setting the foundation for customer segmentation.\n",
    "\n",
    "    \n",
    "- **Data Preprocessing**: Undertake feature scaling and dimensionality reduction to streamline the data, enhancing the efficiency of the clustering process.\n",
    "\n",
    "    \n",
    "- **Customer Segmentation using K-Means Clustering**: Segment customers into distinct groups using K-means, facilitating targeted marketing and personalized strategies.\n",
    "\n",
    "    \n",
    "- **Cluster Analysis & Evaluation**: Analyze and profile each cluster to develop targeted marketing strategies and assess the quality of the clusters formed.\n",
    "\n",
    "    \n",
    "- **Recommendation System**: Implement a system to recommend best-selling products to customers within the same cluster who haven't purchased those products, aiming to boost sales and marketing effectiveness.\n"
   ]
  },
  {
   "cell_type": "markdown",
   "id": "b0167c09",
   "metadata": {
    "papermill": {
     "duration": 0.054838,
     "end_time": "2023-09-13T18:55:29.487191",
     "exception": false,
     "start_time": "2023-09-13T18:55:29.432353",
     "status": "completed"
    },
    "tags": []
   },
   "source": [
    "<a id=\"contents_tabel\"></a>    \n",
    "<div style=\"border-radius:10px; padding: 15px; background-color: #ffeacc; font-size:130%; text-align:left\">\n",
    "\n",
    "<h2 align=\"left\"><font color=#ff6200>Table of Contents:</font></h2>\n",
    "    \n",
    "* [Step 1 | Setup and Initialization](#setup)\n",
    "    - [Step 1.1 | Importing Necessary Libraries](#libraries) \n",
    "    - [Step 1.2 | Loading the Dataset](#load_dataset)\n",
    "* [Step 2 | Initial Data Analysis](#initial_analysis) \n",
    "    - [Step 2.1 | Dataset Overview](#overview) \n",
    "    - [Step 2.2 | Summary Statistics](#statistics) \n",
    "* [Step 3 | Data Cleaning & Transformation](#data_cleaning)\n",
    "    - [Step 3.1 | Handling Missing Values](#missing_values)\n",
    "    - [Step 3.2 | Handling Duplicates](#duplicates)\n",
    "    - [Step 3.3 | Treating Cancelled Transactions](#InvoiceNo_cleaning)\n",
    "    - [Step 3.4 | Correcting StockCode Anomalies](#StockCode_cleaning)\n",
    "    - [Step 3.5 | Cleaning Description Column](#Description_cleaning)\n",
    "    - [Step 3.6 | Treating Zero Unit Prices](#UnitPrice_cleaning)\n",
    "    - [Step 3.7 | Outlier Treatment](#outlier_cleaning)\n",
    "* [Step 4 | Feature Engineering](#feature_engineering)\n",
    "    - [Step 4.1 | RFM Features](#rfm_features)\n",
    "        - [Step 4.1.1 | Recency (R)](#recency) \n",
    "        - [Step 4.1.2 | Frequency (F)](#frequency)\n",
    "        - [Step 4.1.3 | Monetary (M)](#monetary)\n",
    "    - [Step 4.2 | Product Diversity](#product_diversity)\n",
    "    - [Step 4.3 | Behavioral Features](#behaviroal_features)\n",
    "    - [Step 4.4 | Geographic Features](#geographical_features)\n",
    "    - [Step 4.5 | Cancellation Insights](#cancellation_insights) \n",
    "    - [Step 4.6 | Seasonality & Trends](#seasonality_trends) \n",
    "* [Step 5 | Outlier Detection and Treatment](#outlier_detection)"
   ]
  },
  {
   "cell_type": "markdown",
   "id": "54bff998",
   "metadata": {
    "papermill": {
     "duration": 0.058194,
     "end_time": "2023-09-13T18:55:29.602828",
     "exception": false,
     "start_time": "2023-09-13T18:55:29.544634",
     "status": "completed"
    },
    "tags": []
   },
   "source": [
    "<h2 align=\"left\"><font color=#ff6200>Let's get started:</font></h2>"
   ]
  },
  {
   "cell_type": "markdown",
   "id": "158e6dcc",
   "metadata": {
    "papermill": {
     "duration": 0.055048,
     "end_time": "2023-09-13T18:55:29.713486",
     "exception": false,
     "start_time": "2023-09-13T18:55:29.658438",
     "status": "completed"
    },
    "tags": []
   },
   "source": [
    "<a id=\"setup\"></a>\n",
    "# <p style=\"background-color: #ff6200; font-family:calibri; color:white; font-size:140%; font-family:Verdana; text-align:center; border-radius:15px 50px;\">Step 1 | Setup and Initialization</p>\n",
    "⬆️ [Tabel of Contents](#contents_tabel)"
   ]
  },
  {
   "cell_type": "markdown",
   "id": "c4e393a0",
   "metadata": {
    "papermill": {
     "duration": 0.054748,
     "end_time": "2023-09-13T18:55:29.823414",
     "exception": false,
     "start_time": "2023-09-13T18:55:29.768666",
     "status": "completed"
    },
    "tags": []
   },
   "source": [
    "<a id=\"libraries\"></a>\n",
    "# <b><span style='color:#fcc36d'>Step 1.1 |</span><span style='color:#ff6200'> Importing Necessary Libraries</span></b>\n",
    "⬆️ [Tabel of Contents](#contents_tabel)"
   ]
  },
  {
   "cell_type": "markdown",
   "id": "b187bc22",
   "metadata": {
    "papermill": {
     "duration": 0.054579,
     "end_time": "2023-09-13T18:55:29.932823",
     "exception": false,
     "start_time": "2023-09-13T18:55:29.878244",
     "status": "completed"
    },
    "tags": []
   },
   "source": [
    "<div style=\"border-radius:10px; padding: 15px; background-color: #ffeacc; font-size:120%; text-align:left\">\n",
    "    \n",
    "First of all, we will import all the necessary libraries that we will use throughout the project. This generally includes libraries for data manipulation, data visualization, and others based on the specific needs of the project:"
   ]
  },
  {
   "cell_type": "code",
   "execution_count": 1,
   "id": "88c0d4f2",
   "metadata": {
    "execution": {
     "iopub.execute_input": "2023-09-13T18:55:30.045883Z",
     "iopub.status.busy": "2023-09-13T18:55:30.045468Z",
     "iopub.status.idle": "2023-09-13T18:55:33.701518Z",
     "shell.execute_reply": "2023-09-13T18:55:33.699161Z"
    },
    "papermill": {
     "duration": 3.71761,
     "end_time": "2023-09-13T18:55:33.705058",
     "exception": false,
     "start_time": "2023-09-13T18:55:29.987448",
     "status": "completed"
    },
    "tags": []
   },
   "outputs": [],
   "source": [
    "# Ignore warnings\n",
    "import warnings\n",
    "warnings.filterwarnings('ignore')\n",
    "\n",
    "import numpy as np\n",
    "import pandas as pd\n",
    "import seaborn as sns\n",
    "import matplotlib.pyplot as plt\n",
    "import matplotlib.gridspec as gridspec\n",
    "import plotly.graph_objects as go\n",
    "from matplotlib.colors import LinearSegmentedColormap\n",
    "from matplotlib import colors as mcolors\n",
    "from scipy.stats import linregress\n",
    "from sklearn.ensemble import IsolationForest\n",
    "from sklearn.preprocessing import StandardScaler\n",
    "from sklearn.decomposition import PCA\n",
    "from yellowbrick.cluster import KElbowVisualizer, SilhouetteVisualizer\n",
    "from sklearn.metrics import silhouette_score, calinski_harabasz_score, davies_bouldin_score\n",
    "from sklearn.cluster import KMeans\n",
    "from tabulate import tabulate\n",
    "from collections import Counter\n",
    "\n",
    "%matplotlib inline"
   ]
  },
  {
   "cell_type": "code",
   "execution_count": 2,
   "id": "6f2a57e4",
   "metadata": {
    "execution": {
     "iopub.execute_input": "2023-09-13T18:55:33.835541Z",
     "iopub.status.busy": "2023-09-13T18:55:33.834798Z",
     "iopub.status.idle": "2023-09-13T18:55:34.101961Z",
     "shell.execute_reply": "2023-09-13T18:55:34.100644Z"
    },
    "papermill": {
     "duration": 0.326571,
     "end_time": "2023-09-13T18:55:34.104602",
     "exception": false,
     "start_time": "2023-09-13T18:55:33.778031",
     "status": "completed"
    },
    "tags": []
   },
   "outputs": [
    {
     "data": {
      "text/html": [
       "        <script type=\"text/javascript\">\n",
       "        window.PlotlyConfig = {MathJaxConfig: 'local'};\n",
       "        if (window.MathJax && window.MathJax.Hub && window.MathJax.Hub.Config) {window.MathJax.Hub.Config({SVG: {font: \"STIX-Web\"}});}\n",
       "        if (typeof require !== 'undefined') {\n",
       "        require.undef(\"plotly\");\n",
       "        requirejs.config({\n",
       "            paths: {\n",
       "                'plotly': ['https://cdn.plot.ly/plotly-2.29.1.min']\n",
       "            }\n",
       "        });\n",
       "        require(['plotly'], function(Plotly) {\n",
       "            window._Plotly = Plotly;\n",
       "        });\n",
       "        }\n",
       "        </script>\n",
       "        "
      ]
     },
     "metadata": {},
     "output_type": "display_data"
    }
   ],
   "source": [
    "# Initialize Plotly for use in the notebook\n",
    "from plotly.offline import init_notebook_mode\n",
    "init_notebook_mode(connected=True)"
   ]
  },
  {
   "cell_type": "code",
   "execution_count": 3,
   "id": "e7f647ef",
   "metadata": {
    "execution": {
     "iopub.execute_input": "2023-09-13T18:55:34.218004Z",
     "iopub.status.busy": "2023-09-13T18:55:34.216856Z",
     "iopub.status.idle": "2023-09-13T18:55:34.223459Z",
     "shell.execute_reply": "2023-09-13T18:55:34.222527Z"
    },
    "papermill": {
     "duration": 0.065754,
     "end_time": "2023-09-13T18:55:34.225966",
     "exception": false,
     "start_time": "2023-09-13T18:55:34.160212",
     "status": "completed"
    },
    "tags": []
   },
   "outputs": [],
   "source": [
    "# Configure Seaborn plot styles: Set background color and use dark grid\n",
    "sns.set(rc={'axes.facecolor': '#fcf0dc'}, style='darkgrid')"
   ]
  },
  {
   "cell_type": "markdown",
   "id": "1859bfb9",
   "metadata": {
    "papermill": {
     "duration": 0.05608,
     "end_time": "2023-09-13T18:55:34.336948",
     "exception": false,
     "start_time": "2023-09-13T18:55:34.280868",
     "status": "completed"
    },
    "tags": []
   },
   "source": [
    "<a id=\"load_dataset\"></a>\n",
    "# <b><span style='color:#fcc36d'>Step 1.2 |</span><span style='color:#ff6200'> Loading the Dataset</span></b>\n",
    "⬆️ [Tabel of Contents](#contents_tabel)"
   ]
  },
  {
   "cell_type": "markdown",
   "id": "37684594",
   "metadata": {
    "papermill": {
     "duration": 0.055541,
     "end_time": "2023-09-13T18:55:34.447416",
     "exception": false,
     "start_time": "2023-09-13T18:55:34.391875",
     "status": "completed"
    },
    "tags": []
   },
   "source": [
    "<div style=\"border-radius:10px; padding: 15px; background-color: #ffeacc; font-size:120%; text-align:left\">\n",
    "    \n",
    "Next, we will load the dataset into a pandas DataFrame which will facilitate easy manipulation and analysis:"
   ]
  },
  {
   "cell_type": "code",
   "execution_count": 4,
   "id": "baaa0be4",
   "metadata": {
    "execution": {
     "iopub.execute_input": "2023-09-13T18:55:34.563857Z",
     "iopub.status.busy": "2023-09-13T18:55:34.562725Z",
     "iopub.status.idle": "2023-09-13T18:55:36.314527Z",
     "shell.execute_reply": "2023-09-13T18:55:36.312902Z"
    },
    "papermill": {
     "duration": 1.815595,
     "end_time": "2023-09-13T18:55:36.317782",
     "exception": false,
     "start_time": "2023-09-13T18:55:34.502187",
     "status": "completed"
    },
    "tags": []
   },
   "outputs": [],
   "source": [
    "df = pd.read_csv('customer_data_internship.csv', encoding=\"ISO-8859-1\")"
   ]
  },
  {
   "cell_type": "markdown",
   "id": "53887068",
   "metadata": {
    "papermill": {
     "duration": 0.055908,
     "end_time": "2023-09-13T18:55:36.429299",
     "exception": false,
     "start_time": "2023-09-13T18:55:36.373391",
     "status": "completed"
    },
    "tags": []
   },
   "source": [
    "<div style=\"border-radius:10px; padding: 15px; background-color: #ffeacc; font-size:130%; text-align:left\">\n",
    "\n",
    "<h2 align=\"left\"><font color=#ff6200>Dataset Description:</font></h2>\n",
    "\n",
    "| __Variable__   | __Description__ |\n",
    "|     :---       |       :---      |      \n",
    "| __InvoiceNo__  | Code representing each unique transaction.  If this code starts with letter 'c', it indicates a cancellation. |\n",
    "| __StockCode__  | Code uniquely assigned to each distinct product. |\n",
    "| __Description__| Description of each product. |\n",
    "| __Quantity__   | The number of units of a product in a transaction. |\n",
    "| __InvoiceDate__| The date and time of the transaction. |\n",
    "| __UnitPrice__  | The unit price of the product in sterling. |\n",
    "| __CustomerID__ | Identifier uniquely assigned to each customer. |\n",
    "| __Country__    | The country of the customer. |\n"
   ]
  },
  {
   "cell_type": "markdown",
   "id": "e275d113",
   "metadata": {
    "papermill": {
     "duration": 0.05478,
     "end_time": "2023-09-13T18:55:36.539387",
     "exception": false,
     "start_time": "2023-09-13T18:55:36.484607",
     "status": "completed"
    },
    "tags": []
   },
   "source": [
    "<a id=\"initial_analysis\"></a>\n",
    "# <p style=\"background-color: #ff6200; font-family:calibri; color:white; font-size:140%; font-family:Verdana; text-align:center; border-radius:15px 50px;\">Step 2 | Initial Data Analysis</p>\n",
    "⬆️ [Tabel of Contents](#contents_tabel)"
   ]
  },
  {
   "cell_type": "markdown",
   "id": "321c88dc",
   "metadata": {
    "papermill": {
     "duration": 0.055637,
     "end_time": "2023-09-13T18:55:36.654099",
     "exception": false,
     "start_time": "2023-09-13T18:55:36.598462",
     "status": "completed"
    },
    "tags": []
   },
   "source": [
    "<div style=\"border-radius:10px; padding: 15px; background-color: #ffeacc; font-size:120%; text-align:left\">\n",
    "    \n",
    "Afterward, we are going to gain a thorough understanding of the dataset before proceeding to the data cleaning and transformation stages."
   ]
  },
  {
   "cell_type": "markdown",
   "id": "dc056c8f",
   "metadata": {
    "papermill": {
     "duration": 0.054688,
     "end_time": "2023-09-13T18:55:36.764128",
     "exception": false,
     "start_time": "2023-09-13T18:55:36.709440",
     "status": "completed"
    },
    "tags": []
   },
   "source": [
    "<a id=\"overview\"></a>\n",
    "# <b><span style='color:#fcc36d'>Step 2.1 |</span><span style='color:#ff6200'> Dataset Overview</span></b>\n",
    "⬆️ [Tabel of Contents](#contents_tabel)"
   ]
  },
  {
   "cell_type": "markdown",
   "id": "33b2c029",
   "metadata": {
    "papermill": {
     "duration": 0.056899,
     "end_time": "2023-09-13T18:55:36.876789",
     "exception": false,
     "start_time": "2023-09-13T18:55:36.819890",
     "status": "completed"
    },
    "tags": []
   },
   "source": [
    "<div style=\"border-radius:10px; padding: 15px; background-color: #ffeacc; font-size:120%; text-align:left\">\n",
    "\n",
    "First we will perform a preliminary analysis to understand the structure and types of data columns:"
   ]
  },
  {
   "cell_type": "code",
   "execution_count": 5,
   "id": "4cec4265",
   "metadata": {
    "execution": {
     "iopub.execute_input": "2023-09-13T18:55:36.990952Z",
     "iopub.status.busy": "2023-09-13T18:55:36.990507Z",
     "iopub.status.idle": "2023-09-13T18:55:37.028503Z",
     "shell.execute_reply": "2023-09-13T18:55:37.026858Z"
    },
    "papermill": {
     "duration": 0.098838,
     "end_time": "2023-09-13T18:55:37.031877",
     "exception": false,
     "start_time": "2023-09-13T18:55:36.933039",
     "status": "completed"
    },
    "tags": []
   },
   "outputs": [
    {
     "data": {
      "text/html": [
       "<div>\n",
       "<style scoped>\n",
       "    .dataframe tbody tr th:only-of-type {\n",
       "        vertical-align: middle;\n",
       "    }\n",
       "\n",
       "    .dataframe tbody tr th {\n",
       "        vertical-align: top;\n",
       "    }\n",
       "\n",
       "    .dataframe thead th {\n",
       "        text-align: right;\n",
       "    }\n",
       "</style>\n",
       "<table border=\"1\" class=\"dataframe\">\n",
       "  <thead>\n",
       "    <tr style=\"text-align: right;\">\n",
       "      <th></th>\n",
       "      <th>InvoiceNo</th>\n",
       "      <th>StockCode</th>\n",
       "      <th>Description</th>\n",
       "      <th>Quantity</th>\n",
       "      <th>InvoiceDate</th>\n",
       "      <th>UnitPrice</th>\n",
       "      <th>CustomerID</th>\n",
       "      <th>Country</th>\n",
       "    </tr>\n",
       "  </thead>\n",
       "  <tbody>\n",
       "    <tr>\n",
       "      <th>0</th>\n",
       "      <td>536365</td>\n",
       "      <td>85123A</td>\n",
       "      <td>WHITE HANGING HEART T-LIGHT HOLDER</td>\n",
       "      <td>6.0</td>\n",
       "      <td>12/1/2010 8:26</td>\n",
       "      <td>2.55</td>\n",
       "      <td>17850.0</td>\n",
       "      <td>United Kingdom</td>\n",
       "    </tr>\n",
       "    <tr>\n",
       "      <th>1</th>\n",
       "      <td>536365</td>\n",
       "      <td>71053</td>\n",
       "      <td>WHITE METAL LANTERN</td>\n",
       "      <td>6.0</td>\n",
       "      <td>12/1/2010 8:26</td>\n",
       "      <td>3.39</td>\n",
       "      <td>17850.0</td>\n",
       "      <td>United Kingdom</td>\n",
       "    </tr>\n",
       "    <tr>\n",
       "      <th>2</th>\n",
       "      <td>536365</td>\n",
       "      <td>84406B</td>\n",
       "      <td>CREAM CUPID HEARTS COAT HANGER</td>\n",
       "      <td>8.0</td>\n",
       "      <td>12/1/2010 8:26</td>\n",
       "      <td>2.75</td>\n",
       "      <td>17850.0</td>\n",
       "      <td>United Kingdom</td>\n",
       "    </tr>\n",
       "    <tr>\n",
       "      <th>3</th>\n",
       "      <td>536365</td>\n",
       "      <td>84029G</td>\n",
       "      <td>KNITTED UNION FLAG HOT WATER BOTTLE</td>\n",
       "      <td>6.0</td>\n",
       "      <td>12/1/2010 8:26</td>\n",
       "      <td>3.39</td>\n",
       "      <td>17850.0</td>\n",
       "      <td>United Kingdom</td>\n",
       "    </tr>\n",
       "    <tr>\n",
       "      <th>4</th>\n",
       "      <td>536365</td>\n",
       "      <td>84029E</td>\n",
       "      <td>RED WOOLLY HOTTIE WHITE HEART.</td>\n",
       "      <td>6.0</td>\n",
       "      <td>12/1/2010 8:26</td>\n",
       "      <td>3.39</td>\n",
       "      <td>17850.0</td>\n",
       "      <td>United Kingdom</td>\n",
       "    </tr>\n",
       "    <tr>\n",
       "      <th>5</th>\n",
       "      <td>536365</td>\n",
       "      <td>22752</td>\n",
       "      <td>SET 7 BABUSHKA NESTING BOXES</td>\n",
       "      <td>2.0</td>\n",
       "      <td>12/1/2010 8:26</td>\n",
       "      <td>7.65</td>\n",
       "      <td>17850.0</td>\n",
       "      <td>United Kingdom</td>\n",
       "    </tr>\n",
       "    <tr>\n",
       "      <th>6</th>\n",
       "      <td>536365</td>\n",
       "      <td>21730</td>\n",
       "      <td>GLASS STAR FROSTED T-LIGHT HOLDER</td>\n",
       "      <td>6.0</td>\n",
       "      <td>12/1/2010 8:26</td>\n",
       "      <td>4.25</td>\n",
       "      <td>17850.0</td>\n",
       "      <td>United Kingdom</td>\n",
       "    </tr>\n",
       "    <tr>\n",
       "      <th>7</th>\n",
       "      <td>536366</td>\n",
       "      <td>22633</td>\n",
       "      <td>HAND WARMER UNION JACK</td>\n",
       "      <td>6.0</td>\n",
       "      <td>12/1/2010 8:28</td>\n",
       "      <td>1.85</td>\n",
       "      <td>17850.0</td>\n",
       "      <td>United Kingdom</td>\n",
       "    </tr>\n",
       "    <tr>\n",
       "      <th>8</th>\n",
       "      <td>536366</td>\n",
       "      <td>22632</td>\n",
       "      <td>HAND WARMER RED POLKA DOT</td>\n",
       "      <td>6.0</td>\n",
       "      <td>12/1/2010 8:28</td>\n",
       "      <td>1.85</td>\n",
       "      <td>17850.0</td>\n",
       "      <td>United Kingdom</td>\n",
       "    </tr>\n",
       "    <tr>\n",
       "      <th>9</th>\n",
       "      <td>536367</td>\n",
       "      <td>84879</td>\n",
       "      <td>ASSORTED COLOUR BIRD ORNAMENT</td>\n",
       "      <td>32.0</td>\n",
       "      <td>12/1/2010 8:34</td>\n",
       "      <td>1.69</td>\n",
       "      <td>13047.0</td>\n",
       "      <td>United Kingdom</td>\n",
       "    </tr>\n",
       "  </tbody>\n",
       "</table>\n",
       "</div>"
      ],
      "text/plain": [
       "  InvoiceNo StockCode                          Description  Quantity  \\\n",
       "0    536365    85123A   WHITE HANGING HEART T-LIGHT HOLDER       6.0   \n",
       "1    536365     71053                  WHITE METAL LANTERN       6.0   \n",
       "2    536365    84406B       CREAM CUPID HEARTS COAT HANGER       8.0   \n",
       "3    536365    84029G  KNITTED UNION FLAG HOT WATER BOTTLE       6.0   \n",
       "4    536365    84029E       RED WOOLLY HOTTIE WHITE HEART.       6.0   \n",
       "5    536365     22752         SET 7 BABUSHKA NESTING BOXES       2.0   \n",
       "6    536365     21730    GLASS STAR FROSTED T-LIGHT HOLDER       6.0   \n",
       "7    536366     22633               HAND WARMER UNION JACK       6.0   \n",
       "8    536366     22632            HAND WARMER RED POLKA DOT       6.0   \n",
       "9    536367     84879        ASSORTED COLOUR BIRD ORNAMENT      32.0   \n",
       "\n",
       "      InvoiceDate  UnitPrice  CustomerID         Country  \n",
       "0  12/1/2010 8:26       2.55     17850.0  United Kingdom  \n",
       "1  12/1/2010 8:26       3.39     17850.0  United Kingdom  \n",
       "2  12/1/2010 8:26       2.75     17850.0  United Kingdom  \n",
       "3  12/1/2010 8:26       3.39     17850.0  United Kingdom  \n",
       "4  12/1/2010 8:26       3.39     17850.0  United Kingdom  \n",
       "5  12/1/2010 8:26       7.65     17850.0  United Kingdom  \n",
       "6  12/1/2010 8:26       4.25     17850.0  United Kingdom  \n",
       "7  12/1/2010 8:28       1.85     17850.0  United Kingdom  \n",
       "8  12/1/2010 8:28       1.85     17850.0  United Kingdom  \n",
       "9  12/1/2010 8:34       1.69     13047.0  United Kingdom  "
      ]
     },
     "execution_count": 5,
     "metadata": {},
     "output_type": "execute_result"
    }
   ],
   "source": [
    "df.head(10)"
   ]
  },
  {
   "cell_type": "code",
   "execution_count": 6,
   "id": "d408d719",
   "metadata": {
    "execution": {
     "iopub.execute_input": "2023-09-13T18:55:37.146324Z",
     "iopub.status.busy": "2023-09-13T18:55:37.144933Z",
     "iopub.status.idle": "2023-09-13T18:55:37.452307Z",
     "shell.execute_reply": "2023-09-13T18:55:37.450632Z"
    },
    "papermill": {
     "duration": 0.367369,
     "end_time": "2023-09-13T18:55:37.454997",
     "exception": false,
     "start_time": "2023-09-13T18:55:37.087628",
     "status": "completed"
    },
    "tags": []
   },
   "outputs": [
    {
     "name": "stdout",
     "output_type": "stream",
     "text": [
      "<class 'pandas.core.frame.DataFrame'>\n",
      "RangeIndex: 371618 entries, 0 to 371617\n",
      "Data columns (total 8 columns):\n",
      " #   Column       Non-Null Count   Dtype  \n",
      "---  ------       --------------   -----  \n",
      " 0   InvoiceNo    371618 non-null  object \n",
      " 1   StockCode    371617 non-null  object \n",
      " 2   Description  370357 non-null  object \n",
      " 3   Quantity     371617 non-null  float64\n",
      " 4   InvoiceDate  371617 non-null  object \n",
      " 5   UnitPrice    371617 non-null  float64\n",
      " 6   CustomerID   273561 non-null  float64\n",
      " 7   Country      371617 non-null  object \n",
      "dtypes: float64(3), object(5)\n",
      "memory usage: 22.7+ MB\n"
     ]
    }
   ],
   "source": [
    "df.info()"
   ]
  },
  {
   "cell_type": "markdown",
   "id": "6f2947d7",
   "metadata": {
    "papermill": {
     "duration": 0.056558,
     "end_time": "2023-09-13T18:55:37.566435",
     "exception": false,
     "start_time": "2023-09-13T18:55:37.509877",
     "status": "completed"
    },
    "tags": []
   },
   "source": [
    "<div style=\"border-radius:10px; padding: 15px; background-color: #ffeacc; font-size:120%; text-align:left\">\n",
    "<h3 align=\"left\"><font color=#ff6200>Inferences:</font></h3>\n",
    "    \n",
    "The dataset consists of 541,909 entries and 8 columns. Here is a brief overview of each column:\n",
    "\n",
    "- __`InvoiceNo`__: This is an object data type column that contains the invoice number for each transaction. Each invoice number can represent multiple items purchased in a single transaction.\n",
    "   \n",
    "    \n",
    "- __`StockCode`__: An object data type column representing the product code for each item. \n",
    "\n",
    "    \n",
    "- __`Description`__: This column, also an object data type, contains descriptions of the products. It has some missing values, with 540,455 non-null entries out of 541,909.\n",
    "\n",
    "    \n",
    "- __`Quantity`__: This is an integer column indicating the quantity of products purchased in each transaction.\n",
    "   \n",
    "\n",
    "- __`InvoiceDate`__: A datetime column that records the date and time of each transaction.\n",
    "\n",
    "    \n",
    "- __`UnitPrice`__: A float column representing the unit price of each product.\n",
    "\n",
    "    \n",
    "- __`CustomerID`__: A float column that contains the customer ID for each transaction. This column has a significant number of missing values, with only 406,829 non-null entries out of 541,909.\n",
    "\n",
    "    \n",
    "- __`Country`__: An object column recording the country where each transaction took place.\n",
    "\n",
    "From a preliminary overview, it seems that there are missing values in the `Description` and `CustomerID` columns which need to be addressed. The `InvoiceDate` column is already in datetime format, which will facilitate further time series analysis. We also observe that a single customer can have multiple transactions as inferred from the repeated `CustomerID` in the initial rows.\n",
    "\n",
    "The next steps would include deeper data cleaning and preprocessing to handle missing values, potentially erroneous data, and to create new features that can help in achieving the project goals."
   ]
  },
  {
   "cell_type": "markdown",
   "id": "5606eacb",
   "metadata": {
    "papermill": {
     "duration": 0.057565,
     "end_time": "2023-09-13T18:55:37.681334",
     "exception": false,
     "start_time": "2023-09-13T18:55:37.623769",
     "status": "completed"
    },
    "tags": []
   },
   "source": [
    "<a id=\"statistics\"></a>\n",
    "# <b><span style='color:#fcc36d'>Step 2.2 |</span><span style='color:#ff6200'> Summary Statistics</span></b>\n",
    "⬆️ [Tabel of Contents](#contents_tabel)"
   ]
  },
  {
   "cell_type": "markdown",
   "id": "a4b3d6d9",
   "metadata": {
    "papermill": {
     "duration": 0.056226,
     "end_time": "2023-09-13T18:55:37.795485",
     "exception": false,
     "start_time": "2023-09-13T18:55:37.739259",
     "status": "completed"
    },
    "tags": []
   },
   "source": [
    "<div style=\"border-radius:10px; padding: 15px; background-color: #ffeacc; font-size:120%; text-align:left\">\n",
    "    \n",
    "Now, we are going to generate summary statistics to gain initial insights into the data distribution:"
   ]
  },
  {
   "cell_type": "code",
   "execution_count": 7,
   "id": "e4fa41f6",
   "metadata": {
    "execution": {
     "iopub.execute_input": "2023-09-13T18:55:37.912313Z",
     "iopub.status.busy": "2023-09-13T18:55:37.911775Z",
     "iopub.status.idle": "2023-09-13T18:55:38.026234Z",
     "shell.execute_reply": "2023-09-13T18:55:38.024352Z"
    },
    "papermill": {
     "duration": 0.177485,
     "end_time": "2023-09-13T18:55:38.029051",
     "exception": false,
     "start_time": "2023-09-13T18:55:37.851566",
     "status": "completed"
    },
    "tags": []
   },
   "outputs": [
    {
     "data": {
      "text/html": [
       "<div>\n",
       "<style scoped>\n",
       "    .dataframe tbody tr th:only-of-type {\n",
       "        vertical-align: middle;\n",
       "    }\n",
       "\n",
       "    .dataframe tbody tr th {\n",
       "        vertical-align: top;\n",
       "    }\n",
       "\n",
       "    .dataframe thead th {\n",
       "        text-align: right;\n",
       "    }\n",
       "</style>\n",
       "<table border=\"1\" class=\"dataframe\">\n",
       "  <thead>\n",
       "    <tr style=\"text-align: right;\">\n",
       "      <th></th>\n",
       "      <th>count</th>\n",
       "      <th>mean</th>\n",
       "      <th>std</th>\n",
       "      <th>min</th>\n",
       "      <th>25%</th>\n",
       "      <th>50%</th>\n",
       "      <th>75%</th>\n",
       "      <th>max</th>\n",
       "    </tr>\n",
       "  </thead>\n",
       "  <tbody>\n",
       "    <tr>\n",
       "      <th>Quantity</th>\n",
       "      <td>371617.0</td>\n",
       "      <td>9.807250</td>\n",
       "      <td>181.205513</td>\n",
       "      <td>-74215.00</td>\n",
       "      <td>1.00</td>\n",
       "      <td>3.0</td>\n",
       "      <td>10.00</td>\n",
       "      <td>74215.0</td>\n",
       "    </tr>\n",
       "    <tr>\n",
       "      <th>UnitPrice</th>\n",
       "      <td>371617.0</td>\n",
       "      <td>4.779653</td>\n",
       "      <td>106.851629</td>\n",
       "      <td>-11062.06</td>\n",
       "      <td>1.25</td>\n",
       "      <td>2.1</td>\n",
       "      <td>4.13</td>\n",
       "      <td>38970.0</td>\n",
       "    </tr>\n",
       "    <tr>\n",
       "      <th>CustomerID</th>\n",
       "      <td>273561.0</td>\n",
       "      <td>15279.097338</td>\n",
       "      <td>1718.236426</td>\n",
       "      <td>12346.00</td>\n",
       "      <td>13871.00</td>\n",
       "      <td>15150.0</td>\n",
       "      <td>16791.00</td>\n",
       "      <td>18287.0</td>\n",
       "    </tr>\n",
       "  </tbody>\n",
       "</table>\n",
       "</div>"
      ],
      "text/plain": [
       "               count          mean          std       min       25%      50%  \\\n",
       "Quantity    371617.0      9.807250   181.205513 -74215.00      1.00      3.0   \n",
       "UnitPrice   371617.0      4.779653   106.851629 -11062.06      1.25      2.1   \n",
       "CustomerID  273561.0  15279.097338  1718.236426  12346.00  13871.00  15150.0   \n",
       "\n",
       "                 75%      max  \n",
       "Quantity       10.00  74215.0  \n",
       "UnitPrice       4.13  38970.0  \n",
       "CustomerID  16791.00  18287.0  "
      ]
     },
     "execution_count": 7,
     "metadata": {},
     "output_type": "execute_result"
    }
   ],
   "source": [
    "# Summary statistics for numerical variables\n",
    "df.describe().T"
   ]
  },
  {
   "cell_type": "code",
   "execution_count": 8,
   "id": "38d8e05d",
   "metadata": {
    "execution": {
     "iopub.execute_input": "2023-09-13T18:55:38.146804Z",
     "iopub.status.busy": "2023-09-13T18:55:38.145535Z",
     "iopub.status.idle": "2023-09-13T18:55:38.926847Z",
     "shell.execute_reply": "2023-09-13T18:55:38.925304Z"
    },
    "papermill": {
     "duration": 0.843701,
     "end_time": "2023-09-13T18:55:38.930130",
     "exception": false,
     "start_time": "2023-09-13T18:55:38.086429",
     "status": "completed"
    },
    "scrolled": true,
    "tags": []
   },
   "outputs": [
    {
     "data": {
      "text/html": [
       "<div>\n",
       "<style scoped>\n",
       "    .dataframe tbody tr th:only-of-type {\n",
       "        vertical-align: middle;\n",
       "    }\n",
       "\n",
       "    .dataframe tbody tr th {\n",
       "        vertical-align: top;\n",
       "    }\n",
       "\n",
       "    .dataframe thead th {\n",
       "        text-align: right;\n",
       "    }\n",
       "</style>\n",
       "<table border=\"1\" class=\"dataframe\">\n",
       "  <thead>\n",
       "    <tr style=\"text-align: right;\">\n",
       "      <th></th>\n",
       "      <th>count</th>\n",
       "      <th>unique</th>\n",
       "      <th>top</th>\n",
       "      <th>freq</th>\n",
       "    </tr>\n",
       "  </thead>\n",
       "  <tbody>\n",
       "    <tr>\n",
       "      <th>InvoiceNo</th>\n",
       "      <td>371618</td>\n",
       "      <td>18806</td>\n",
       "      <td>558475</td>\n",
       "      <td>705</td>\n",
       "    </tr>\n",
       "    <tr>\n",
       "      <th>StockCode</th>\n",
       "      <td>371617</td>\n",
       "      <td>3890</td>\n",
       "      <td>85123A</td>\n",
       "      <td>1817</td>\n",
       "    </tr>\n",
       "    <tr>\n",
       "      <th>Description</th>\n",
       "      <td>370357</td>\n",
       "      <td>3948</td>\n",
       "      <td>WHITE HANGING HEART T-LIGHT HOLDER</td>\n",
       "      <td>1864</td>\n",
       "    </tr>\n",
       "    <tr>\n",
       "      <th>InvoiceDate</th>\n",
       "      <td>371617</td>\n",
       "      <td>16994</td>\n",
       "      <td>6/29/2011 15:58</td>\n",
       "      <td>705</td>\n",
       "    </tr>\n",
       "    <tr>\n",
       "      <th>Country</th>\n",
       "      <td>371617</td>\n",
       "      <td>37</td>\n",
       "      <td>United Kingdom</td>\n",
       "      <td>339077</td>\n",
       "    </tr>\n",
       "  </tbody>\n",
       "</table>\n",
       "</div>"
      ],
      "text/plain": [
       "              count unique                                 top    freq\n",
       "InvoiceNo    371618  18806                              558475     705\n",
       "StockCode    371617   3890                              85123A    1817\n",
       "Description  370357   3948  WHITE HANGING HEART T-LIGHT HOLDER    1864\n",
       "InvoiceDate  371617  16994                     6/29/2011 15:58     705\n",
       "Country      371617     37                      United Kingdom  339077"
      ]
     },
     "execution_count": 8,
     "metadata": {},
     "output_type": "execute_result"
    }
   ],
   "source": [
    "# Summary statistics for categorical variables\n",
    "df.describe(include='object').T"
   ]
  },
  {
   "cell_type": "markdown",
   "id": "c5e67213",
   "metadata": {
    "papermill": {
     "duration": 0.060269,
     "end_time": "2023-09-13T18:55:39.048706",
     "exception": false,
     "start_time": "2023-09-13T18:55:38.988437",
     "status": "completed"
    },
    "tags": []
   },
   "source": [
    "<div style=\"border-radius:10px; padding: 15px; background-color: #ffeacc; font-size:120%; text-align:left\">\n",
    "<h3 align=\"left\"><font color=#ff6200>Inferences:</font></h3>\n",
    "\n",
    "\n",
    "- __`Quantity`__:\n",
    "   - The average quantity of products in a transaction is approximately 9.55.\n",
    "   - The quantity has a wide range, with a minimum value of -80995 and a maximum value of 80995. The negative values indicate returned or cancelled orders, which need to be handled appropriately.\n",
    "   - The standard deviation is quite large, indicating a significant spread in the data. The presence of outliers is indicated by a large difference between the maximum and the 75th percentile values.\n",
    "\n",
    "    \n",
    "- __`UnitPrice`__:\n",
    "   - The average unit price of the products is approximately 4.61.\n",
    "   - The unit price also shows a wide range, from -11062.06 to 38970, which suggests the presence of errors or noise in the data, as negative prices don't make sense.\n",
    "   - Similar to the Quantity column, the presence of outliers is indicated by a large difference between the maximum and the 75th percentile values.\n",
    " \n",
    "    \n",
    "- __`CustomerID`__:\n",
    "   - There are 406829 non-null entries, indicating missing values in the dataset which need to be addressed.\n",
    "   - The Customer IDs range from 12346 to 18287, helping in identifying unique customers.\n",
    "\n",
    "    \n",
    "- __`InvoiceNo`__:\n",
    "   - There are 25900 unique invoice numbers, indicating 25900 separate transactions.\n",
    "   - The most frequent invoice number is 573585, appearing 1114 times, possibly representing a large transaction or an order with multiple items.\n",
    "\n",
    "    \n",
    "- __`StockCode`__:\n",
    "   - There are 4070 unique stock codes representing different products.\n",
    "   - The most frequent stock code is 85123A, appearing 2313 times in the dataset.\n",
    "\n",
    "    \n",
    "- __`Description`__:\n",
    "   - There are 4223 unique product descriptions.\n",
    "   - The most frequent product description is \"WHITE HANGING HEART T-LIGHT HOLDER\", appearing 2369 times.\n",
    "   - There are some missing values in this column which need to be treated.\n",
    "\n",
    "    \n",
    "- __`Country`__:\n",
    "   - The transactions come from 38 different countries, with a dominant majority of the transactions (approximately 91.4%) originating from the United Kingdom."
   ]
  },
  {
   "cell_type": "markdown",
   "id": "e987c3f4",
   "metadata": {
    "papermill": {
     "duration": 0.058377,
     "end_time": "2023-09-13T18:55:39.164241",
     "exception": false,
     "start_time": "2023-09-13T18:55:39.105864",
     "status": "completed"
    },
    "tags": []
   },
   "source": [
    "<a id=\"data_cleaning\"></a>\n",
    "# <p style=\"background-color: #ff6200; font-family:calibri; color:white; font-size:140%; font-family:Verdana; text-align:center; border-radius:15px 50px;\">Step 3 |  Data Cleaning & Transformation</p>\n",
    "⬆️ [Tabel of Contents](#contents_tabel)"
   ]
  },
  {
   "cell_type": "markdown",
   "id": "c3c78453",
   "metadata": {
    "papermill": {
     "duration": 0.057457,
     "end_time": "2023-09-13T18:55:39.281958",
     "exception": false,
     "start_time": "2023-09-13T18:55:39.224501",
     "status": "completed"
    },
    "tags": []
   },
   "source": [
    "<div style=\"border-radius:10px; padding: 15px; background-color: #ffeacc; font-size:120%; text-align:left\">\n",
    "\n",
    "This step encompasses a comprehensive cleaning and transformation process to refine the dataset. It includes addressing missing values, eliminating duplicate entries, correcting anomalies in product codes and descriptions, and other necessary adjustments to prepare the data for in-depth analysis and modeling."
   ]
  },
  {
   "cell_type": "markdown",
   "id": "5352c8a4",
   "metadata": {
    "papermill": {
     "duration": 0.05663,
     "end_time": "2023-09-13T18:55:39.395575",
     "exception": false,
     "start_time": "2023-09-13T18:55:39.338945",
     "status": "completed"
    },
    "tags": []
   },
   "source": [
    "<a id=\"missing_values\"></a>\n",
    "# <b><span style='color:#fcc36d'>Step 3.1 |</span><span style='color:#ff6200'> Handling Missing Values</span></b>\n",
    "⬆️ [Tabel of Contents](#contents_tabel)"
   ]
  },
  {
   "cell_type": "markdown",
   "id": "44be9a3d",
   "metadata": {
    "papermill": {
     "duration": 0.056136,
     "end_time": "2023-09-13T18:55:39.509898",
     "exception": false,
     "start_time": "2023-09-13T18:55:39.453762",
     "status": "completed"
    },
    "tags": []
   },
   "source": [
    "<div style=\"border-radius:10px; padding: 15px; background-color: #ffeacc; font-size:120%; text-align:left\">\n",
    "    \n",
    "Initially, we will determine the percentage of missing values present in each column, followed by selecting the most effective strategy to address them:"
   ]
  },
  {
   "cell_type": "code",
   "execution_count": 9,
   "id": "f7b6abe6",
   "metadata": {
    "execution": {
     "iopub.execute_input": "2023-09-13T18:55:39.631822Z",
     "iopub.status.busy": "2023-09-13T18:55:39.631324Z",
     "iopub.status.idle": "2023-09-13T18:55:40.550431Z",
     "shell.execute_reply": "2023-09-13T18:55:40.548527Z"
    },
    "papermill": {
     "duration": 0.983847,
     "end_time": "2023-09-13T18:55:40.553710",
     "exception": false,
     "start_time": "2023-09-13T18:55:39.569863",
     "status": "completed"
    },
    "tags": []
   },
   "outputs": [
    {
     "data": {
      "image/png": "[encoded data removed]",
      "text/plain": [
       "<Figure size 1500x400 with 1 Axes>"
      ]
     },
     "metadata": {},
     "output_type": "display_data"
    }
   ],
   "source": [
    "# Calculating the percentage of missing values for each column\n",
    "missing_data = df.isnull().sum()\n",
    "missing_percentage = (missing_data[missing_data > 0] / df.shape[0]) * 100\n",
    "\n",
    "# Prepare values\n",
    "missing_percentage.sort_values(ascending=True, inplace=True)\n",
    "\n",
    "# Plot the barh chart\n",
    "fig, ax = plt.subplots(figsize=(15, 4))\n",
    "ax.barh(missing_percentage.index, missing_percentage, color='#ff6200')\n",
    "\n",
    "# Annotate the values and indexes\n",
    "for i, (value, name) in enumerate(zip(missing_percentage, missing_percentage.index)):\n",
    "    ax.text(value+0.5, i, f\"{value:.2f}%\", ha='left', va='center', fontweight='bold', fontsize=18, color='black')\n",
    "\n",
    "# Set x-axis limit\n",
    "ax.set_xlim([0, 40])\n",
    "\n",
    "# Add title and xlabel\n",
    "plt.title(\"Percentage of Missing Values\", fontweight='bold', fontsize=22)\n",
    "plt.xlabel('Percentages (%)', fontsize=16)\n",
    "plt.show()"
   ]
  },
  {
   "cell_type": "markdown",
   "id": "b59b382a",
   "metadata": {
    "papermill": {
     "duration": 0.0648,
     "end_time": "2023-09-13T18:55:40.684001",
     "exception": false,
     "start_time": "2023-09-13T18:55:40.619201",
     "status": "completed"
    },
    "tags": []
   },
   "source": [
    "<div style=\"border-radius:10px; padding: 15px; background-color: #ffeacc; font-size:120%; text-align:left\">\n",
    "\n",
    "<h3 align=\"left\"><font color=#ff6200>Handling Missing Values Strategy:</font></h3>\n",
    "\n",
    "- __`CustomerID` (24.93% missing values)__\n",
    "   - The `CustomerID` column contains nearly a quarter of missing data. This column is essential for clustering customers and creating a recommendation system. Imputing such a large percentage of missing values might introduce significant bias or noise into the analysis.\n",
    "    \n",
    "   - Moreover, since the clustering is based on customer behavior and preferences, it's crucial to have accurate data on customer identifiers. Therefore, removing the rows with missing `CustomerID`s seems to be the most reasonable approach to maintain the integrity of the clusters and the analysis.\n",
    "\n",
    "    \n",
    "- __`Description` (0.27% missing values)__\n",
    "   - The `Description` column has a minor percentage of missing values. However, it has been noticed that there are inconsistencies in the data where the same `StockCode` does not always have the same `Description`. This indicates data quality issues and potential errors in the product descriptions.\n",
    "    \n",
    "   - Given these inconsistencies, imputing the missing descriptions based on `StockCode` might not be reliable. Moreover, since the missing percentage is quite low, it would be prudent to remove the rows with missing `Description`s to avoid propagating errors and inconsistencies into the subsequent analyses.\n",
    "   \n",
    "By removing rows with missing values in the `CustomerID` and `Description` columns, we aim to construct a cleaner and more reliable dataset, which is essential for achieving accurate clustering and creating an effective recommendation system.\n"
   ]
  },
  {
   "cell_type": "code",
   "execution_count": 10,
   "id": "1ec499ed",
   "metadata": {
    "execution": {
     "iopub.execute_input": "2023-09-13T18:55:40.810679Z",
     "iopub.status.busy": "2023-09-13T18:55:40.810237Z",
     "iopub.status.idle": "2023-09-13T18:55:40.906637Z",
     "shell.execute_reply": "2023-09-13T18:55:40.905084Z"
    },
    "papermill": {
     "duration": 0.161893,
     "end_time": "2023-09-13T18:55:40.910774",
     "exception": false,
     "start_time": "2023-09-13T18:55:40.748881",
     "status": "completed"
    },
    "tags": []
   },
   "outputs": [
    {
     "data": {
      "text/html": [
       "<div>\n",
       "<style scoped>\n",
       "    .dataframe tbody tr th:only-of-type {\n",
       "        vertical-align: middle;\n",
       "    }\n",
       "\n",
       "    .dataframe tbody tr th {\n",
       "        vertical-align: top;\n",
       "    }\n",
       "\n",
       "    .dataframe thead th {\n",
       "        text-align: right;\n",
       "    }\n",
       "</style>\n",
       "<table border=\"1\" class=\"dataframe\">\n",
       "  <thead>\n",
       "    <tr style=\"text-align: right;\">\n",
       "      <th></th>\n",
       "      <th>InvoiceNo</th>\n",
       "      <th>StockCode</th>\n",
       "      <th>Description</th>\n",
       "      <th>Quantity</th>\n",
       "      <th>InvoiceDate</th>\n",
       "      <th>UnitPrice</th>\n",
       "      <th>CustomerID</th>\n",
       "      <th>Country</th>\n",
       "    </tr>\n",
       "  </thead>\n",
       "  <tbody>\n",
       "    <tr>\n",
       "      <th>622</th>\n",
       "      <td>536414</td>\n",
       "      <td>22139</td>\n",
       "      <td>NaN</td>\n",
       "      <td>56.0</td>\n",
       "      <td>12/1/2010 11:52</td>\n",
       "      <td>0.00</td>\n",
       "      <td>NaN</td>\n",
       "      <td>United Kingdom</td>\n",
       "    </tr>\n",
       "    <tr>\n",
       "      <th>1443</th>\n",
       "      <td>536544</td>\n",
       "      <td>21773</td>\n",
       "      <td>DECORATIVE ROSE BATHROOM BOTTLE</td>\n",
       "      <td>1.0</td>\n",
       "      <td>12/1/2010 14:32</td>\n",
       "      <td>2.51</td>\n",
       "      <td>NaN</td>\n",
       "      <td>United Kingdom</td>\n",
       "    </tr>\n",
       "    <tr>\n",
       "      <th>1444</th>\n",
       "      <td>536544</td>\n",
       "      <td>21774</td>\n",
       "      <td>DECORATIVE CATS BATHROOM BOTTLE</td>\n",
       "      <td>2.0</td>\n",
       "      <td>12/1/2010 14:32</td>\n",
       "      <td>2.51</td>\n",
       "      <td>NaN</td>\n",
       "      <td>United Kingdom</td>\n",
       "    </tr>\n",
       "    <tr>\n",
       "      <th>1445</th>\n",
       "      <td>536544</td>\n",
       "      <td>21786</td>\n",
       "      <td>POLKADOT RAIN HAT</td>\n",
       "      <td>4.0</td>\n",
       "      <td>12/1/2010 14:32</td>\n",
       "      <td>0.85</td>\n",
       "      <td>NaN</td>\n",
       "      <td>United Kingdom</td>\n",
       "    </tr>\n",
       "    <tr>\n",
       "      <th>1446</th>\n",
       "      <td>536544</td>\n",
       "      <td>21787</td>\n",
       "      <td>RAIN PONCHO RETROSPOT</td>\n",
       "      <td>2.0</td>\n",
       "      <td>12/1/2010 14:32</td>\n",
       "      <td>1.66</td>\n",
       "      <td>NaN</td>\n",
       "      <td>United Kingdom</td>\n",
       "    </tr>\n",
       "  </tbody>\n",
       "</table>\n",
       "</div>"
      ],
      "text/plain": [
       "     InvoiceNo StockCode                      Description  Quantity  \\\n",
       "622     536414     22139                              NaN      56.0   \n",
       "1443    536544     21773  DECORATIVE ROSE BATHROOM BOTTLE       1.0   \n",
       "1444    536544     21774  DECORATIVE CATS BATHROOM BOTTLE       2.0   \n",
       "1445    536544     21786               POLKADOT RAIN HAT        4.0   \n",
       "1446    536544     21787            RAIN PONCHO RETROSPOT       2.0   \n",
       "\n",
       "          InvoiceDate  UnitPrice  CustomerID         Country  \n",
       "622   12/1/2010 11:52       0.00         NaN  United Kingdom  \n",
       "1443  12/1/2010 14:32       2.51         NaN  United Kingdom  \n",
       "1444  12/1/2010 14:32       2.51         NaN  United Kingdom  \n",
       "1445  12/1/2010 14:32       0.85         NaN  United Kingdom  \n",
       "1446  12/1/2010 14:32       1.66         NaN  United Kingdom  "
      ]
     },
     "execution_count": 10,
     "metadata": {},
     "output_type": "execute_result"
    }
   ],
   "source": [
    "# Extracting rows with missing values in 'CustomerID' or 'Description' columns\n",
    "df[df['CustomerID'].isnull() | df['Description'].isnull()].head()"
   ]
  },
  {
   "cell_type": "code",
   "execution_count": 11,
   "id": "9be2cf0c",
   "metadata": {
    "execution": {
     "iopub.execute_input": "2023-09-13T18:55:41.036284Z",
     "iopub.status.busy": "2023-09-13T18:55:41.035290Z",
     "iopub.status.idle": "2023-09-13T18:55:41.171478Z",
     "shell.execute_reply": "2023-09-13T18:55:41.170474Z"
    },
    "papermill": {
     "duration": 0.200287,
     "end_time": "2023-09-13T18:55:41.174169",
     "exception": false,
     "start_time": "2023-09-13T18:55:40.973882",
     "status": "completed"
    },
    "tags": []
   },
   "outputs": [],
   "source": [
    "# Removing rows with missing values in 'CustomerID' and 'Description' columns\n",
    "df = df.dropna(subset=['CustomerID', 'Description'])"
   ]
  },
  {
   "cell_type": "code",
   "execution_count": 12,
   "id": "7c7a2e89",
   "metadata": {
    "execution": {
     "iopub.execute_input": "2023-09-13T18:55:41.292632Z",
     "iopub.status.busy": "2023-09-13T18:55:41.291762Z",
     "iopub.status.idle": "2023-09-13T18:55:41.512152Z",
     "shell.execute_reply": "2023-09-13T18:55:41.510737Z"
    },
    "papermill": {
     "duration": 0.283735,
     "end_time": "2023-09-13T18:55:41.515200",
     "exception": false,
     "start_time": "2023-09-13T18:55:41.231465",
     "status": "completed"
    },
    "tags": []
   },
   "outputs": [
    {
     "data": {
      "text/plain": [
       "0"
      ]
     },
     "execution_count": 12,
     "metadata": {},
     "output_type": "execute_result"
    }
   ],
   "source": [
    "# Verifying the removal of missing values\n",
    "df.isnull().sum().sum()"
   ]
  },
  {
   "cell_type": "markdown",
   "id": "29966208",
   "metadata": {
    "papermill": {
     "duration": 0.056893,
     "end_time": "2023-09-13T18:55:41.630113",
     "exception": false,
     "start_time": "2023-09-13T18:55:41.573220",
     "status": "completed"
    },
    "tags": []
   },
   "source": [
    "<a id=\"duplicates\"></a>\n",
    "# <b><span style='color:#fcc36d'>Step 3.2 |</span><span style='color:#ff6200'> Handling Duplicates</span></b>\n",
    "⬆️ [Tabel of Contents](#contents_tabel)"
   ]
  },
  {
   "cell_type": "markdown",
   "id": "d2c36b71",
   "metadata": {
    "papermill": {
     "duration": 0.059306,
     "end_time": "2023-09-13T18:55:41.748028",
     "exception": false,
     "start_time": "2023-09-13T18:55:41.688722",
     "status": "completed"
    },
    "tags": []
   },
   "source": [
    "<div style=\"border-radius:10px; padding: 15px; background-color: #ffeacc; font-size:120%; text-align:left\">\n",
    "    \n",
    "Next, we are going to recognize duplicate rows in the dataset:"
   ]
  },
  {
   "cell_type": "code",
   "execution_count": 13,
   "id": "b5d579fb",
   "metadata": {
    "execution": {
     "iopub.execute_input": "2023-09-13T18:55:41.865859Z",
     "iopub.status.busy": "2023-09-13T18:55:41.865403Z",
     "iopub.status.idle": "2023-09-13T18:55:42.307526Z",
     "shell.execute_reply": "2023-09-13T18:55:42.306095Z"
    },
    "papermill": {
     "duration": 0.505381,
     "end_time": "2023-09-13T18:55:42.311188",
     "exception": false,
     "start_time": "2023-09-13T18:55:41.805807",
     "status": "completed"
    },
    "tags": []
   },
   "outputs": [
    {
     "data": {
      "text/html": [
       "<div>\n",
       "<style scoped>\n",
       "    .dataframe tbody tr th:only-of-type {\n",
       "        vertical-align: middle;\n",
       "    }\n",
       "\n",
       "    .dataframe tbody tr th {\n",
       "        vertical-align: top;\n",
       "    }\n",
       "\n",
       "    .dataframe thead th {\n",
       "        text-align: right;\n",
       "    }\n",
       "</style>\n",
       "<table border=\"1\" class=\"dataframe\">\n",
       "  <thead>\n",
       "    <tr style=\"text-align: right;\">\n",
       "      <th></th>\n",
       "      <th>InvoiceNo</th>\n",
       "      <th>StockCode</th>\n",
       "      <th>Description</th>\n",
       "      <th>Quantity</th>\n",
       "      <th>InvoiceDate</th>\n",
       "      <th>UnitPrice</th>\n",
       "      <th>CustomerID</th>\n",
       "      <th>Country</th>\n",
       "    </tr>\n",
       "  </thead>\n",
       "  <tbody>\n",
       "    <tr>\n",
       "      <th>494</th>\n",
       "      <td>536409</td>\n",
       "      <td>21866</td>\n",
       "      <td>UNION JACK FLAG LUGGAGE TAG</td>\n",
       "      <td>1.0</td>\n",
       "      <td>12/1/2010 11:45</td>\n",
       "      <td>1.25</td>\n",
       "      <td>17908.0</td>\n",
       "      <td>United Kingdom</td>\n",
       "    </tr>\n",
       "    <tr>\n",
       "      <th>517</th>\n",
       "      <td>536409</td>\n",
       "      <td>21866</td>\n",
       "      <td>UNION JACK FLAG LUGGAGE TAG</td>\n",
       "      <td>1.0</td>\n",
       "      <td>12/1/2010 11:45</td>\n",
       "      <td>1.25</td>\n",
       "      <td>17908.0</td>\n",
       "      <td>United Kingdom</td>\n",
       "    </tr>\n",
       "    <tr>\n",
       "      <th>485</th>\n",
       "      <td>536409</td>\n",
       "      <td>22111</td>\n",
       "      <td>SCOTTIE DOG HOT WATER BOTTLE</td>\n",
       "      <td>1.0</td>\n",
       "      <td>12/1/2010 11:45</td>\n",
       "      <td>4.95</td>\n",
       "      <td>17908.0</td>\n",
       "      <td>United Kingdom</td>\n",
       "    </tr>\n",
       "    <tr>\n",
       "      <th>539</th>\n",
       "      <td>536409</td>\n",
       "      <td>22111</td>\n",
       "      <td>SCOTTIE DOG HOT WATER BOTTLE</td>\n",
       "      <td>1.0</td>\n",
       "      <td>12/1/2010 11:45</td>\n",
       "      <td>4.95</td>\n",
       "      <td>17908.0</td>\n",
       "      <td>United Kingdom</td>\n",
       "    </tr>\n",
       "    <tr>\n",
       "      <th>489</th>\n",
       "      <td>536409</td>\n",
       "      <td>22866</td>\n",
       "      <td>HAND WARMER SCOTTY DOG DESIGN</td>\n",
       "      <td>1.0</td>\n",
       "      <td>12/1/2010 11:45</td>\n",
       "      <td>2.10</td>\n",
       "      <td>17908.0</td>\n",
       "      <td>United Kingdom</td>\n",
       "    </tr>\n",
       "    <tr>\n",
       "      <th>527</th>\n",
       "      <td>536409</td>\n",
       "      <td>22866</td>\n",
       "      <td>HAND WARMER SCOTTY DOG DESIGN</td>\n",
       "      <td>1.0</td>\n",
       "      <td>12/1/2010 11:45</td>\n",
       "      <td>2.10</td>\n",
       "      <td>17908.0</td>\n",
       "      <td>United Kingdom</td>\n",
       "    </tr>\n",
       "    <tr>\n",
       "      <th>521</th>\n",
       "      <td>536409</td>\n",
       "      <td>22900</td>\n",
       "      <td>SET 2 TEA TOWELS I LOVE LONDON</td>\n",
       "      <td>1.0</td>\n",
       "      <td>12/1/2010 11:45</td>\n",
       "      <td>2.95</td>\n",
       "      <td>17908.0</td>\n",
       "      <td>United Kingdom</td>\n",
       "    </tr>\n",
       "    <tr>\n",
       "      <th>537</th>\n",
       "      <td>536409</td>\n",
       "      <td>22900</td>\n",
       "      <td>SET 2 TEA TOWELS I LOVE LONDON</td>\n",
       "      <td>1.0</td>\n",
       "      <td>12/1/2010 11:45</td>\n",
       "      <td>2.95</td>\n",
       "      <td>17908.0</td>\n",
       "      <td>United Kingdom</td>\n",
       "    </tr>\n",
       "    <tr>\n",
       "      <th>578</th>\n",
       "      <td>536412</td>\n",
       "      <td>21448</td>\n",
       "      <td>12 DAISY PEGS IN WOOD BOX</td>\n",
       "      <td>1.0</td>\n",
       "      <td>12/1/2010 11:49</td>\n",
       "      <td>1.65</td>\n",
       "      <td>17920.0</td>\n",
       "      <td>United Kingdom</td>\n",
       "    </tr>\n",
       "    <tr>\n",
       "      <th>598</th>\n",
       "      <td>536412</td>\n",
       "      <td>21448</td>\n",
       "      <td>12 DAISY PEGS IN WOOD BOX</td>\n",
       "      <td>1.0</td>\n",
       "      <td>12/1/2010 11:49</td>\n",
       "      <td>1.65</td>\n",
       "      <td>17920.0</td>\n",
       "      <td>United Kingdom</td>\n",
       "    </tr>\n",
       "  </tbody>\n",
       "</table>\n",
       "</div>"
      ],
      "text/plain": [
       "    InvoiceNo StockCode                       Description  Quantity  \\\n",
       "494    536409     21866       UNION JACK FLAG LUGGAGE TAG       1.0   \n",
       "517    536409     21866       UNION JACK FLAG LUGGAGE TAG       1.0   \n",
       "485    536409     22111      SCOTTIE DOG HOT WATER BOTTLE       1.0   \n",
       "539    536409     22111      SCOTTIE DOG HOT WATER BOTTLE       1.0   \n",
       "489    536409     22866     HAND WARMER SCOTTY DOG DESIGN       1.0   \n",
       "527    536409     22866     HAND WARMER SCOTTY DOG DESIGN       1.0   \n",
       "521    536409     22900   SET 2 TEA TOWELS I LOVE LONDON        1.0   \n",
       "537    536409     22900   SET 2 TEA TOWELS I LOVE LONDON        1.0   \n",
       "578    536412     21448         12 DAISY PEGS IN WOOD BOX       1.0   \n",
       "598    536412     21448         12 DAISY PEGS IN WOOD BOX       1.0   \n",
       "\n",
       "         InvoiceDate  UnitPrice  CustomerID         Country  \n",
       "494  12/1/2010 11:45       1.25     17908.0  United Kingdom  \n",
       "517  12/1/2010 11:45       1.25     17908.0  United Kingdom  \n",
       "485  12/1/2010 11:45       4.95     17908.0  United Kingdom  \n",
       "539  12/1/2010 11:45       4.95     17908.0  United Kingdom  \n",
       "489  12/1/2010 11:45       2.10     17908.0  United Kingdom  \n",
       "527  12/1/2010 11:45       2.10     17908.0  United Kingdom  \n",
       "521  12/1/2010 11:45       2.95     17908.0  United Kingdom  \n",
       "537  12/1/2010 11:45       2.95     17908.0  United Kingdom  \n",
       "578  12/1/2010 11:49       1.65     17920.0  United Kingdom  \n",
       "598  12/1/2010 11:49       1.65     17920.0  United Kingdom  "
      ]
     },
     "execution_count": 13,
     "metadata": {},
     "output_type": "execute_result"
    }
   ],
   "source": [
    "# Finding duplicate rows (keeping all instances)\n",
    "duplicate_rows = df[df.duplicated(keep=False)]\n",
    "\n",
    "# Sorting the data by certain columns to see the duplicate rows next to each other\n",
    "duplicate_rows_sorted = duplicate_rows.sort_values(by=['InvoiceNo', 'StockCode', 'Description', 'CustomerID', 'Quantity'])\n",
    "\n",
    "# Displaying the first 10 records\n",
    "duplicate_rows_sorted.head(10)"
   ]
  },
  {
   "cell_type": "markdown",
   "id": "f20175f9",
   "metadata": {
    "papermill": {
     "duration": 0.059643,
     "end_time": "2023-09-13T18:55:42.430422",
     "exception": false,
     "start_time": "2023-09-13T18:55:42.370779",
     "status": "completed"
    },
    "tags": []
   },
   "source": [
    "<div style=\"border-radius:10px; padding: 15px; background-color: #ffeacc; font-size:120%; text-align:left\">\n",
    "\n",
    "<h3 align=\"left\"><font color=#ff6200>Handling Duplicates Strategy:</font></h3>\n",
    "    \n",
    "In the context of this project, the presence of completely identical rows, including identical transaction times, suggests that these might be data recording errors rather than genuine repeated transactions. Keeping these duplicate rows can introduce noise and potential inaccuracies in the clustering and recommendation system. \n",
    "\n",
    "Therefore, I am going to remove these completely identical duplicate rows from the dataset. Removing these rows will help in achieving a cleaner dataset, which in turn would aid in building more accurate customer clusters based on their unique purchasing behaviors. Moreover, it would help in creating a more precise recommendation system by correctly identifying the products with the most purchases."
   ]
  },
  {
   "cell_type": "code",
   "execution_count": 14,
   "id": "82d2b098",
   "metadata": {
    "execution": {
     "iopub.execute_input": "2023-09-13T18:55:42.551671Z",
     "iopub.status.busy": "2023-09-13T18:55:42.550304Z",
     "iopub.status.idle": "2023-09-13T18:55:43.340911Z",
     "shell.execute_reply": "2023-09-13T18:55:43.339397Z"
    },
    "papermill": {
     "duration": 0.854262,
     "end_time": "2023-09-13T18:55:43.343966",
     "exception": false,
     "start_time": "2023-09-13T18:55:42.489704",
     "status": "completed"
    },
    "tags": []
   },
   "outputs": [
    {
     "name": "stdout",
     "output_type": "stream",
     "text": [
      "The dataset contains 2826 duplicate rows that need to be removed.\n"
     ]
    }
   ],
   "source": [
    "# Displaying the number of duplicate rows\n",
    "print(f\"The dataset contains {df.duplicated().sum()} duplicate rows that need to be removed.\")\n",
    "\n",
    "# Removing duplicate rows\n",
    "df.drop_duplicates(inplace=True)"
   ]
  },
  {
   "cell_type": "code",
   "execution_count": 15,
   "id": "96102471",
   "metadata": {
    "execution": {
     "iopub.execute_input": "2023-09-13T18:55:43.466796Z",
     "iopub.status.busy": "2023-09-13T18:55:43.466337Z",
     "iopub.status.idle": "2023-09-13T18:55:43.475471Z",
     "shell.execute_reply": "2023-09-13T18:55:43.473542Z"
    },
    "papermill": {
     "duration": 0.073206,
     "end_time": "2023-09-13T18:55:43.478411",
     "exception": false,
     "start_time": "2023-09-13T18:55:43.405205",
     "status": "completed"
    },
    "tags": []
   },
   "outputs": [
    {
     "data": {
      "text/plain": [
       "270735"
      ]
     },
     "execution_count": 15,
     "metadata": {},
     "output_type": "execute_result"
    }
   ],
   "source": [
    "# Getting the number of rows in the dataframe\n",
    "df.shape[0]"
   ]
  },
  {
   "cell_type": "markdown",
   "id": "23ff4f89",
   "metadata": {
    "papermill": {
     "duration": 0.060407,
     "end_time": "2023-09-13T18:55:43.599222",
     "exception": false,
     "start_time": "2023-09-13T18:55:43.538815",
     "status": "completed"
    },
    "tags": []
   },
   "source": [
    "<a id=\"InvoiceNo_cleaning\"></a>\n",
    "# <b><span style='color:#fcc36d'>Step 3.3 |</span><span style='color:#ff6200'> Treating Cancelled Transactions</span></b>\n",
    "⬆️ [Tabel of Contents](#contents_tabel)"
   ]
  },
  {
   "cell_type": "markdown",
   "id": "30afd646",
   "metadata": {
    "papermill": {
     "duration": 0.07041,
     "end_time": "2023-09-13T18:55:43.749148",
     "exception": false,
     "start_time": "2023-09-13T18:55:43.678738",
     "status": "completed"
    },
    "tags": []
   },
   "source": [
    "<div style=\"border-radius:10px; padding: 15px; background-color: #ffeacc; font-size:120%; text-align:left\">\n",
    "\n",
    "To refine our understanding of customer behavior and preferences, we need to take into account the transactions that were cancelled. Initially, we will identify these transactions by filtering the rows where the `InvoiceNo` starts with \"C\". Subsequently, we will analyze these rows to understand their common characteristics or patterns:"
   ]
  },
  {
   "cell_type": "code",
   "execution_count": 16,
   "id": "19e11e75",
   "metadata": {
    "execution": {
     "iopub.execute_input": "2023-09-13T18:55:43.869398Z",
     "iopub.status.busy": "2023-09-13T18:55:43.868914Z",
     "iopub.status.idle": "2023-09-13T18:55:44.291247Z",
     "shell.execute_reply": "2023-09-13T18:55:44.289685Z"
    },
    "papermill": {
     "duration": 0.486159,
     "end_time": "2023-09-13T18:55:44.294362",
     "exception": false,
     "start_time": "2023-09-13T18:55:43.808203",
     "status": "completed"
    },
    "tags": []
   },
   "outputs": [
    {
     "data": {
      "text/html": [
       "<div>\n",
       "<style scoped>\n",
       "    .dataframe tbody tr th:only-of-type {\n",
       "        vertical-align: middle;\n",
       "    }\n",
       "\n",
       "    .dataframe tbody tr th {\n",
       "        vertical-align: top;\n",
       "    }\n",
       "\n",
       "    .dataframe thead th {\n",
       "        text-align: right;\n",
       "    }\n",
       "</style>\n",
       "<table border=\"1\" class=\"dataframe\">\n",
       "  <thead>\n",
       "    <tr style=\"text-align: right;\">\n",
       "      <th></th>\n",
       "      <th>Quantity</th>\n",
       "      <th>UnitPrice</th>\n",
       "    </tr>\n",
       "  </thead>\n",
       "  <tbody>\n",
       "    <tr>\n",
       "      <th>count</th>\n",
       "      <td>6334.000000</td>\n",
       "      <td>6334.000000</td>\n",
       "    </tr>\n",
       "    <tr>\n",
       "      <th>mean</th>\n",
       "      <td>-24.450584</td>\n",
       "      <td>21.199632</td>\n",
       "    </tr>\n",
       "    <tr>\n",
       "      <th>std</th>\n",
       "      <td>942.488706</td>\n",
       "      <td>520.053490</td>\n",
       "    </tr>\n",
       "    <tr>\n",
       "      <th>min</th>\n",
       "      <td>-74215.000000</td>\n",
       "      <td>0.010000</td>\n",
       "    </tr>\n",
       "    <tr>\n",
       "      <th>25%</th>\n",
       "      <td>-6.000000</td>\n",
       "      <td>1.450000</td>\n",
       "    </tr>\n",
       "    <tr>\n",
       "      <th>50%</th>\n",
       "      <td>-2.000000</td>\n",
       "      <td>2.950000</td>\n",
       "    </tr>\n",
       "    <tr>\n",
       "      <th>75%</th>\n",
       "      <td>-1.000000</td>\n",
       "      <td>5.750000</td>\n",
       "    </tr>\n",
       "    <tr>\n",
       "      <th>max</th>\n",
       "      <td>-1.000000</td>\n",
       "      <td>38970.000000</td>\n",
       "    </tr>\n",
       "  </tbody>\n",
       "</table>\n",
       "</div>"
      ],
      "text/plain": [
       "           Quantity     UnitPrice\n",
       "count   6334.000000   6334.000000\n",
       "mean     -24.450584     21.199632\n",
       "std      942.488706    520.053490\n",
       "min   -74215.000000      0.010000\n",
       "25%       -6.000000      1.450000\n",
       "50%       -2.000000      2.950000\n",
       "75%       -1.000000      5.750000\n",
       "max       -1.000000  38970.000000"
      ]
     },
     "execution_count": 16,
     "metadata": {},
     "output_type": "execute_result"
    }
   ],
   "source": [
    "# Filter out the rows with InvoiceNo starting with \"C\" and create a new column indicating the transaction status\n",
    "df['Transaction_Status'] = np.where(df['InvoiceNo'].astype(str).str.startswith('C'), 'Cancelled', 'Completed')\n",
    "\n",
    "# Analyze the characteristics of these rows (considering the new column)\n",
    "cancelled_transactions = df[df['Transaction_Status'] == 'Cancelled']\n",
    "cancelled_transactions.describe().drop('CustomerID', axis=1)"
   ]
  },
  {
   "cell_type": "markdown",
   "id": "6e474de4",
   "metadata": {
    "papermill": {
     "duration": 0.060071,
     "end_time": "2023-09-13T18:55:44.415175",
     "exception": false,
     "start_time": "2023-09-13T18:55:44.355104",
     "status": "completed"
    },
    "tags": []
   },
   "source": [
    "<div style=\"border-radius:10px; padding: 15px; background-color: #ffeacc; font-size:120%; text-align:left\">\n",
    "<h3 align=\"left\"><font color=#ff6200>Inferences from the Cancelled Transactions Data:</font></h3>\n",
    "\n",
    "- All quantities in the cancelled transactions are negative, indicating that these are indeed orders that were cancelled.\n",
    "    \n",
    "    \n",
    "- The `UnitPrice` column has a considerable spread, showing that a variety of products, from low to high value, were part of the cancelled transactions.\n",
    "\n"
   ]
  },
  {
   "cell_type": "markdown",
   "id": "137fcbd2",
   "metadata": {
    "papermill": {
     "duration": 0.060423,
     "end_time": "2023-09-13T18:55:44.534939",
     "exception": false,
     "start_time": "2023-09-13T18:55:44.474516",
     "status": "completed"
    },
    "tags": []
   },
   "source": [
    "<div style=\"border-radius:10px; padding: 15px; background-color: #ffeacc; font-size:120%; text-align:left\">\n",
    "<h3 align=\"left\"><font color=#ff6200>Strategy for Handling Cancelled Transactions:</font></h3>\n",
    "    \n",
    "Considering the project's objective to cluster customers based on their purchasing behavior and preferences and to eventually create a recommendation system, it's imperative to understand the cancellation patterns of customers. Therefore, the strategy is to retain these cancelled transactions in the dataset, marking them distinctly to facilitate further analysis. This approach will:\n",
    "\n",
    "- Enhance the clustering process by incorporating patterns and trends observed in cancellation data, which might represent certain customer behaviors or preferences.\n",
    "    \n",
    "    \n",
    "- Allow the recommendation system to possibly prevent suggesting products that have a high likelihood of being cancelled, thereby improving the quality of recommendations.\n",
    "\n"
   ]
  },
  {
   "cell_type": "code",
   "execution_count": 17,
   "id": "d9b1427b",
   "metadata": {
    "execution": {
     "iopub.execute_input": "2023-09-13T18:55:44.660637Z",
     "iopub.status.busy": "2023-09-13T18:55:44.660152Z",
     "iopub.status.idle": "2023-09-13T18:55:44.668369Z",
     "shell.execute_reply": "2023-09-13T18:55:44.666624Z"
    },
    "papermill": {
     "duration": 0.073523,
     "end_time": "2023-09-13T18:55:44.671722",
     "exception": false,
     "start_time": "2023-09-13T18:55:44.598199",
     "status": "completed"
    },
    "tags": []
   },
   "outputs": [
    {
     "name": "stdout",
     "output_type": "stream",
     "text": [
      "The percentage of cancelled transactions in the dataset is: 2.34%\n"
     ]
    }
   ],
   "source": [
    "# Finding the percentage of cancelled transactions\n",
    "cancelled_percentage = (cancelled_transactions.shape[0] / df.shape[0]) * 100\n",
    "\n",
    "# Printing the percentage of cancelled transactions\n",
    "print(f\"The percentage of cancelled transactions in the dataset is: {cancelled_percentage:.2f}%\")"
   ]
  },
  {
   "cell_type": "markdown",
   "id": "b00cc10e",
   "metadata": {
    "papermill": {
     "duration": 0.060775,
     "end_time": "2023-09-13T18:55:44.793574",
     "exception": false,
     "start_time": "2023-09-13T18:55:44.732799",
     "status": "completed"
    },
    "tags": []
   },
   "source": [
    "<a id=\"StockCode_cleaning\"></a>\n",
    "# <b><span style='color:#fcc36d'>Step 3.4 |</span><span style='color:#ff6200'> Correcting StockCode Anomalies</span></b>\n",
    "⬆️ [Tabel of Contents](#contents_tabel)"
   ]
  },
  {
   "cell_type": "markdown",
   "id": "11c2b476",
   "metadata": {
    "papermill": {
     "duration": 0.061598,
     "end_time": "2023-09-13T18:55:44.916653",
     "exception": false,
     "start_time": "2023-09-13T18:55:44.855055",
     "status": "completed"
    },
    "tags": []
   },
   "source": [
    "<div style=\"border-radius:10px; padding: 15px; background-color: #ffeacc; font-size:120%; text-align:left\">\n",
    "\n",
    "First of all, lets find the number of unique stock codes and to plot the top 10 most frequent stock codes along with their percentage frequency:"
   ]
  },
  {
   "cell_type": "code",
   "execution_count": 18,
   "id": "3c8eb6d4",
   "metadata": {
    "execution": {
     "iopub.execute_input": "2023-09-13T18:55:45.046871Z",
     "iopub.status.busy": "2023-09-13T18:55:45.046415Z",
     "iopub.status.idle": "2023-09-13T18:55:45.092406Z",
     "shell.execute_reply": "2023-09-13T18:55:45.091082Z"
    },
    "papermill": {
     "duration": 0.116377,
     "end_time": "2023-09-13T18:55:45.095198",
     "exception": false,
     "start_time": "2023-09-13T18:55:44.978821",
     "status": "completed"
    },
    "tags": []
   },
   "outputs": [
    {
     "name": "stdout",
     "output_type": "stream",
     "text": [
      "The number of unique stock codes in the dataset is: 3530\n"
     ]
    }
   ],
   "source": [
    "# Finding the number of unique stock codes\n",
    "unique_stock_codes = df['StockCode'].nunique()\n",
    "\n",
    "# Printing the number of unique stock codes\n",
    "print(f\"The number of unique stock codes in the dataset is: {unique_stock_codes}\")"
   ]
  },
  {
   "cell_type": "code",
   "execution_count": 19,
   "id": "af68693a",
   "metadata": {
    "execution": {
     "iopub.execute_input": "2023-09-13T18:55:45.219484Z",
     "iopub.status.busy": "2023-09-13T18:55:45.219021Z",
     "iopub.status.idle": "2023-09-13T18:55:45.778153Z",
     "shell.execute_reply": "2023-09-13T18:55:45.777153Z"
    },
    "papermill": {
     "duration": 0.623504,
     "end_time": "2023-09-13T18:55:45.780969",
     "exception": false,
     "start_time": "2023-09-13T18:55:45.157465",
     "status": "completed"
    },
    "tags": []
   },
   "outputs": [
    {
     "data": {
      "image/png": "[encoded data removed]",
      "text/plain": [
       "<Figure size 1200x500 with 1 Axes>"
      ]
     },
     "metadata": {},
     "output_type": "display_data"
    }
   ],
   "source": [
    "# Finding the top 10 most frequent stock codes\n",
    "top_10_stock_codes = df['StockCode'].value_counts(normalize=True).head(10) * 100\n",
    "\n",
    "# Plotting the top 10 most frequent stock codes\n",
    "plt.figure(figsize=(12, 5))\n",
    "top_10_stock_codes.plot(kind='barh', color='#ff6200')\n",
    "\n",
    "# Adding the percentage frequency on the bars\n",
    "for index, value in enumerate(top_10_stock_codes):\n",
    "    plt.text(value, index+0.25, f'{value:.2f}%', fontsize=10)\n",
    "\n",
    "plt.title('Top 10 Most Frequent Stock Codes')\n",
    "plt.xlabel('Percentage Frequency (%)')\n",
    "plt.ylabel('Stock Codes')\n",
    "plt.gca().invert_yaxis()\n",
    "plt.show()"
   ]
  },
  {
   "cell_type": "markdown",
   "id": "0593782c",
   "metadata": {
    "papermill": {
     "duration": 0.060129,
     "end_time": "2023-09-13T18:55:45.901732",
     "exception": false,
     "start_time": "2023-09-13T18:55:45.841603",
     "status": "completed"
    },
    "tags": []
   },
   "source": [
    "<div style=\"border-radius:10px; padding: 15px; background-color: #ffeacc; font-size:120%; text-align:left\">\n",
    "<h3 align=\"left\"><font color=#ff6200>Inferences on Stock Codes:</font></h3>\n",
    "\n",
    "- __Product Variety__: The dataset contains 3684 unique stock codes, indicating a substantial variety of products available in the online retail store. This diversity can potentially lead to the identification of distinct customer clusters, with preferences for different types of products.\n",
    "\n",
    "    \n",
    "- __Popular Items__: A closer look at the top 10 most frequent stock codes can offer insights into the popular products or categories that are frequently purchased by customers.\n",
    "\n",
    "    \n",
    "- __Stock Code Anomalies__: We observe that while most stock codes are composed of 5 or 6 characters, there are some anomalies like the code '__POST__'. These anomalies might represent services or non-product transactions (perhaps postage fees) rather than actual products. To maintain the focus of the project, which is clustering based on product purchases and creating a recommendation system, these anomalies should be further investigated and possibly treated appropriately to ensure data integrity."
   ]
  },
  {
   "cell_type": "markdown",
   "id": "235088cd",
   "metadata": {
    "papermill": {
     "duration": 0.06263,
     "end_time": "2023-09-13T18:55:46.024789",
     "exception": false,
     "start_time": "2023-09-13T18:55:45.962159",
     "status": "completed"
    },
    "tags": []
   },
   "source": [
    "<div style=\"border-radius:10px; padding: 15px; background-color: #ffeacc; font-size:120%; text-align:left\">\n",
    "    \n",
    "To delve deeper into identifying these anomalies, let's explore the frequency of the number of numeric characters in the stock codes, which can provide insights into the nature of these unusual entries:"
   ]
  },
  {
   "cell_type": "code",
   "execution_count": 20,
   "id": "3b39dde0",
   "metadata": {
    "execution": {
     "iopub.execute_input": "2023-09-13T18:55:46.151662Z",
     "iopub.status.busy": "2023-09-13T18:55:46.150095Z",
     "iopub.status.idle": "2023-09-13T18:55:46.207574Z",
     "shell.execute_reply": "2023-09-13T18:55:46.206051Z"
    },
    "papermill": {
     "duration": 0.124219,
     "end_time": "2023-09-13T18:55:46.210927",
     "exception": false,
     "start_time": "2023-09-13T18:55:46.086708",
     "status": "completed"
    },
    "tags": []
   },
   "outputs": [
    {
     "name": "stdout",
     "output_type": "stream",
     "text": [
      "Value counts of numeric character frequencies in unique stock codes:\n",
      "----------------------------------------------------------------------\n",
      "5    3522\n",
      "0       7\n",
      "1       1\n",
      "Name: count, dtype: int64\n"
     ]
    }
   ],
   "source": [
    "# Finding the number of numeric characters in each unique stock code\n",
    "unique_stock_codes = df['StockCode'].unique()\n",
    "numeric_char_counts_in_unique_codes = pd.Series(unique_stock_codes).apply(lambda x: sum(c.isdigit() for c in str(x))).value_counts()\n",
    "\n",
    "# Printing the value counts for unique stock codes\n",
    "print(\"Value counts of numeric character frequencies in unique stock codes:\")\n",
    "print(\"-\"*70)\n",
    "print(numeric_char_counts_in_unique_codes)"
   ]
  },
  {
   "cell_type": "markdown",
   "id": "dafe502c",
   "metadata": {
    "papermill": {
     "duration": 0.060667,
     "end_time": "2023-09-13T18:55:46.333155",
     "exception": false,
     "start_time": "2023-09-13T18:55:46.272488",
     "status": "completed"
    },
    "tags": []
   },
   "source": [
    "<div style=\"border-radius:10px; padding: 15px; background-color: #ffeacc; font-size:120%; text-align:left\">\n",
    "<h3 align=\"left\"><font color=#ff6200>Inference:</font></h3>\n",
    "\n",
    "The output indicates the following:\n",
    "\n",
    "- A majority of the unique stock codes (3676 out of 3684) contain exactly 5 numeric characters, which seems to be the standard format for representing product codes in this dataset.\n",
    "\n",
    "    \n",
    "- There are a few anomalies: 7 stock codes contain no numeric characters and 1 stock code contains only 1 numeric character. These are clearly deviating from the standard format and need further investigation to understand their nature and whether they represent valid product transactions.\n",
    "\n",
    "Now, let's identify the stock codes that contain 0 or 1 numeric characters to further understand these anomalies:"
   ]
  },
  {
   "cell_type": "code",
   "execution_count": 21,
   "id": "77541192",
   "metadata": {
    "execution": {
     "iopub.execute_input": "2023-09-13T18:55:46.457972Z",
     "iopub.status.busy": "2023-09-13T18:55:46.457500Z",
     "iopub.status.idle": "2023-09-13T18:55:46.472606Z",
     "shell.execute_reply": "2023-09-13T18:55:46.471035Z"
    },
    "papermill": {
     "duration": 0.078998,
     "end_time": "2023-09-13T18:55:46.475514",
     "exception": false,
     "start_time": "2023-09-13T18:55:46.396516",
     "status": "completed"
    },
    "tags": []
   },
   "outputs": [
    {
     "name": "stdout",
     "output_type": "stream",
     "text": [
      "Anomalous stock codes:\n",
      "----------------------\n",
      "POST\n",
      "D\n",
      "C2\n",
      "M\n",
      "BANK CHARGES\n",
      "PADS\n",
      "DOT\n",
      "CRUK\n"
     ]
    }
   ],
   "source": [
    "# Finding and printing the stock codes with 0 and 1 numeric characters\n",
    "anomalous_stock_codes = [code for code in unique_stock_codes if sum(c.isdigit() for c in str(code)) in (0, 1)]\n",
    "\n",
    "# Printing each stock code on a new line\n",
    "print(\"Anomalous stock codes:\")\n",
    "print(\"-\"*22)\n",
    "for code in anomalous_stock_codes:\n",
    "    print(code)"
   ]
  },
  {
   "cell_type": "markdown",
   "id": "4245f10f",
   "metadata": {
    "papermill": {
     "duration": 0.065017,
     "end_time": "2023-09-13T18:55:46.601301",
     "exception": false,
     "start_time": "2023-09-13T18:55:46.536284",
     "status": "completed"
    },
    "tags": []
   },
   "source": [
    "<div style=\"border-radius:10px; padding: 15px; background-color: #ffeacc; font-size:120%; text-align:left\">\n",
    "    \n",
    "Let's calculate the percentage of records with these anomalous stock codes:    "
   ]
  },
  {
   "cell_type": "code",
   "execution_count": 22,
   "id": "2df9d357",
   "metadata": {
    "execution": {
     "iopub.execute_input": "2023-09-13T18:55:46.729880Z",
     "iopub.status.busy": "2023-09-13T18:55:46.729144Z",
     "iopub.status.idle": "2023-09-13T18:55:46.763749Z",
     "shell.execute_reply": "2023-09-13T18:55:46.762513Z"
    },
    "papermill": {
     "duration": 0.103691,
     "end_time": "2023-09-13T18:55:46.767256",
     "exception": false,
     "start_time": "2023-09-13T18:55:46.663565",
     "status": "completed"
    },
    "tags": []
   },
   "outputs": [
    {
     "name": "stdout",
     "output_type": "stream",
     "text": [
      "The percentage of records with anomalous stock codes in the dataset is: 0.50%\n"
     ]
    }
   ],
   "source": [
    "# Calculating the percentage of records with these stock codes\n",
    "percentage_anomalous = (df['StockCode'].isin(anomalous_stock_codes).sum() / len(df)) * 100\n",
    "\n",
    "# Printing the percentage\n",
    "print(f\"The percentage of records with anomalous stock codes in the dataset is: {percentage_anomalous:.2f}%\")"
   ]
  },
  {
   "cell_type": "markdown",
   "id": "ce1aef40",
   "metadata": {
    "papermill": {
     "duration": 0.062504,
     "end_time": "2023-09-13T18:55:46.894474",
     "exception": false,
     "start_time": "2023-09-13T18:55:46.831970",
     "status": "completed"
    },
    "tags": []
   },
   "source": [
    "<div style=\"border-radius:10px; padding: 15px; background-color: #ffeacc; font-size:120%; text-align:left\">\n",
    "\n",
    "<h3 align=\"left\"><font color=#ff6200>Inference:</font></h3>\n",
    "\n",
    "Based on the analysis, we find that a very small proportion of the records, __0.48%__, have anomalous stock codes, which deviate from the typical format observed in the majority of the data. Also, these anomalous codes are just a fraction among all unique stock codes (__only 8 out of 3684__).\n",
    "\n",
    "These codes seem to represent non-product transactions like \"__BANK CHARGES__\", \"__POST__\" (possibly postage fees), etc. Since they do not represent actual products and are a very small proportion of the dataset, including them in the analysis might introduce noise and distort the clustering and recommendation system."
   ]
  },
  {
   "cell_type": "markdown",
   "id": "74257d90",
   "metadata": {
    "papermill": {
     "duration": 0.062346,
     "end_time": "2023-09-13T18:55:47.019937",
     "exception": false,
     "start_time": "2023-09-13T18:55:46.957591",
     "status": "completed"
    },
    "tags": []
   },
   "source": [
    "<div style=\"border-radius:10px; padding: 15px; background-color: #ffeacc; font-size:120%; text-align:left\">\n",
    "<h3 align=\"left\"><font color=#ff6200>Strategy:</font></h3>\n",
    "\n",
    "Given the context of the project, where the aim is to cluster customers based on their product purchasing behaviors and develop a product recommendation system, it would be prudent to exclude these records with anomalous stock codes from the dataset. This way, the focus remains strictly on genuine product transactions, which would lead to a more accurate and meaningful analysis."
   ]
  },
  {
   "cell_type": "markdown",
   "id": "642d3e66",
   "metadata": {
    "papermill": {
     "duration": 0.062179,
     "end_time": "2023-09-13T18:55:47.144068",
     "exception": false,
     "start_time": "2023-09-13T18:55:47.081889",
     "status": "completed"
    },
    "tags": []
   },
   "source": [
    "<div style=\"border-radius:10px; padding: 15px; background-color: #ffeacc; font-size:120%; text-align:left\">\n",
    "    \n",
    "Thus, the strategy would be to filter out and remove rows with these anomalous stock codes from the dataset before proceeding with further analysis and model development:"
   ]
  },
  {
   "cell_type": "code",
   "execution_count": 23,
   "id": "1db59942",
   "metadata": {
    "execution": {
     "iopub.execute_input": "2023-09-13T18:55:47.269454Z",
     "iopub.status.busy": "2023-09-13T18:55:47.268999Z",
     "iopub.status.idle": "2023-09-13T18:55:47.361677Z",
     "shell.execute_reply": "2023-09-13T18:55:47.360312Z"
    },
    "papermill": {
     "duration": 0.158751,
     "end_time": "2023-09-13T18:55:47.364629",
     "exception": false,
     "start_time": "2023-09-13T18:55:47.205878",
     "status": "completed"
    },
    "tags": []
   },
   "outputs": [],
   "source": [
    "# Removing rows with anomalous stock codes from the dataset\n",
    "df = df[~df['StockCode'].isin(anomalous_stock_codes)]"
   ]
  },
  {
   "cell_type": "code",
   "execution_count": 24,
   "id": "bc3dda95",
   "metadata": {
    "execution": {
     "iopub.execute_input": "2023-09-13T18:55:47.486411Z",
     "iopub.status.busy": "2023-09-13T18:55:47.485910Z",
     "iopub.status.idle": "2023-09-13T18:55:47.492752Z",
     "shell.execute_reply": "2023-09-13T18:55:47.491849Z"
    },
    "papermill": {
     "duration": 0.070041,
     "end_time": "2023-09-13T18:55:47.495154",
     "exception": false,
     "start_time": "2023-09-13T18:55:47.425113",
     "status": "completed"
    },
    "tags": []
   },
   "outputs": [
    {
     "data": {
      "text/plain": [
       "269393"
      ]
     },
     "execution_count": 24,
     "metadata": {},
     "output_type": "execute_result"
    }
   ],
   "source": [
    "# Getting the number of rows in the dataframe\n",
    "df.shape[0]"
   ]
  },
  {
   "cell_type": "markdown",
   "id": "f523c417",
   "metadata": {
    "papermill": {
     "duration": 0.059584,
     "end_time": "2023-09-13T18:55:47.615935",
     "exception": false,
     "start_time": "2023-09-13T18:55:47.556351",
     "status": "completed"
    },
    "tags": []
   },
   "source": [
    "<a id=\"Description_cleaning\"></a>\n",
    "# <b><span style='color:#fcc36d'>Step 3.5 |</span><span style='color:#ff6200'> Cleaning Description Column</span></b>\n",
    "⬆️ [Tabel of Contents](#contents_tabel)"
   ]
  },
  {
   "cell_type": "markdown",
   "id": "0cbd21e6",
   "metadata": {
    "papermill": {
     "duration": 0.060155,
     "end_time": "2023-09-13T18:55:47.737908",
     "exception": false,
     "start_time": "2023-09-13T18:55:47.677753",
     "status": "completed"
    },
    "tags": []
   },
   "source": [
    "<div style=\"border-radius:10px; padding: 15px; background-color: #ffeacc; font-size:120%; text-align:left\">\n",
    "    \n",
    "First, I will calculate the occurrence count of each unique description in the dataset. Then, I will plot the top 30 descriptions. This visualization will give a clear view of the highest occurring descriptions in the dataset:"
   ]
  },
  {
   "cell_type": "code",
   "execution_count": 25,
   "id": "ebd4eebb",
   "metadata": {
    "execution": {
     "iopub.execute_input": "2023-09-13T18:55:47.862360Z",
     "iopub.status.busy": "2023-09-13T18:55:47.861325Z",
     "iopub.status.idle": "2023-09-13T18:55:48.700021Z",
     "shell.execute_reply": "2023-09-13T18:55:48.699049Z"
    },
    "papermill": {
     "duration": 0.906535,
     "end_time": "2023-09-13T18:55:48.705153",
     "exception": false,
     "start_time": "2023-09-13T18:55:47.798618",
     "status": "completed"
    },
    "tags": []
   },
   "outputs": [
    {
     "data": {
      "image/png": "[encoded data removed]",
      "text/plain": [
       "<Figure size 1200x800 with 1 Axes>"
      ]
     },
     "metadata": {},
     "output_type": "display_data"
    }
   ],
   "source": [
    "# Calculate the occurrence of each unique description and sort them\n",
    "description_counts = df['Description'].value_counts()\n",
    "\n",
    "# Get the top 30 descriptions\n",
    "top_30_descriptions = description_counts[:30]\n",
    "\n",
    "# Plotting\n",
    "plt.figure(figsize=(12,8))\n",
    "plt.barh(top_30_descriptions.index[::-1], top_30_descriptions.values[::-1], color='#ff6200')\n",
    "\n",
    "# Adding labels and title\n",
    "plt.xlabel('Number of Occurrences')\n",
    "plt.ylabel('Description')\n",
    "plt.title('Top 30 Most Frequent Descriptions')\n",
    "\n",
    "# Show the plot\n",
    "plt.show()"
   ]
  },
  {
   "cell_type": "markdown",
   "id": "23357ef7",
   "metadata": {
    "papermill": {
     "duration": 0.06267,
     "end_time": "2023-09-13T18:55:48.831715",
     "exception": false,
     "start_time": "2023-09-13T18:55:48.769045",
     "status": "completed"
    },
    "tags": []
   },
   "source": [
    "<div style=\"border-radius:10px; padding: 15px; background-color: #ffeacc; font-size:120%; text-align:left\">\n",
    "<h3 align=\"left\"><font color=#ff6200>Inferences on Descriptions:</font></h3>\n",
    "\n",
    "- The most frequent descriptions are generally household items, particularly those associated with kitchenware, lunch bags, and decorative items.\n",
    "       \n",
    "    \n",
    "- Interestingly, all the descriptions are in uppercase, which might be a standardized format for entering product descriptions in the database. However, considering the inconsistencies and anomalies encountered in the dataset so far, it would be prudent to check if there are descriptions entered in lowercase or a mix of case styles."
   ]
  },
  {
   "cell_type": "code",
   "execution_count": 26,
   "id": "9aaa4a45",
   "metadata": {
    "execution": {
     "iopub.execute_input": "2023-09-13T18:55:48.964978Z",
     "iopub.status.busy": "2023-09-13T18:55:48.964519Z",
     "iopub.status.idle": "2023-09-13T18:55:49.041647Z",
     "shell.execute_reply": "2023-09-13T18:55:49.040636Z"
    },
    "papermill": {
     "duration": 0.14653,
     "end_time": "2023-09-13T18:55:49.044148",
     "exception": false,
     "start_time": "2023-09-13T18:55:48.897618",
     "status": "completed"
    },
    "tags": []
   },
   "outputs": [
    {
     "name": "stdout",
     "output_type": "stream",
     "text": [
      "The unique descriptions containing lowercase characters are:\n",
      "------------------------------------------------------------\n",
      "BAG 500g SWIRLY MARBLES\n",
      "POLYESTER FILLER PAD 45x45cm\n",
      "POLYESTER FILLER PAD 45x30cm\n",
      "POLYESTER FILLER PAD 40x40cm\n",
      "FRENCH BLUE METAL DOOR SIGN No\n",
      "BAG 250g SWIRLY MARBLES\n",
      "BAG 125g SWIRLY MARBLES\n",
      "3 TRADITIONAl BISCUIT CUTTERS  SET\n",
      "NUMBER TILE COTTAGE GARDEN No\n",
      "FOLK ART GREETING CARD,pack/12\n",
      "ESSENTIAL BALM 3.5g TIN IN ENVELOPE\n",
      "POLYESTER FILLER PAD 65CMx65CM\n",
      "NUMBER TILE VINTAGE FONT No \n",
      "POLYESTER FILLER PAD 30CMx30CM\n",
      "POLYESTER FILLER PAD 60x40cm\n",
      "FLOWERS HANDBAG blue and orange\n",
      "Next Day Carriage\n",
      "THE KING GIFT BAG 25x24x12cm\n"
     ]
    }
   ],
   "source": [
    "# Find unique descriptions containing lowercase characters\n",
    "lowercase_descriptions = df['Description'].unique()\n",
    "lowercase_descriptions = [desc for desc in lowercase_descriptions if any(char.islower() for char in desc)]\n",
    "\n",
    "# Print the unique descriptions containing lowercase characters\n",
    "print(\"The unique descriptions containing lowercase characters are:\")\n",
    "print(\"-\"*60)\n",
    "for desc in lowercase_descriptions:\n",
    "    print(desc)"
   ]
  },
  {
   "cell_type": "markdown",
   "id": "e64446a0",
   "metadata": {
    "papermill": {
     "duration": 0.160289,
     "end_time": "2023-09-13T18:55:49.270577",
     "exception": false,
     "start_time": "2023-09-13T18:55:49.110288",
     "status": "completed"
    },
    "tags": []
   },
   "source": [
    "<div style=\"border-radius:10px; padding: 15px; background-color: #ffeacc; font-size:120%; text-align:left\">\n",
    "<h3 align=\"left\"><font color=#ff6200>Inference:</font></h3>\n",
    "    \n",
    "- Upon reviewing the descriptions that contain lowercase characters, it is evident that some entries are not product descriptions, such as \"__Next Day Carriage__\" and \"__High Resolution Image__\". These entries seem to be unrelated to the actual products and might represent other types of information or service details."
   ]
  },
  {
   "cell_type": "markdown",
   "id": "e2cfe980",
   "metadata": {
    "papermill": {
     "duration": 0.064482,
     "end_time": "2023-09-13T18:55:49.399071",
     "exception": false,
     "start_time": "2023-09-13T18:55:49.334589",
     "status": "completed"
    },
    "tags": []
   },
   "source": [
    "<div style=\"border-radius:10px; padding: 15px; background-color: #ffeacc; font-size:120%; text-align:left\">\n",
    "<h3 align=\"left\"><font color=#ff6200>Strategy:</font></h3>\n",
    "\n",
    "- __Step 1__: Remove the rows where the descriptions contain service-related information like \"__Next Day Carriage__\" and \"__High Resolution Image__\", as these do not represent actual products and would not contribute to the clustering and recommendation system we aim to build.\n",
    "\n",
    "    \n",
    "- __Step 2__: For the remaining descriptions with mixed case, standardize the text to uppercase to maintain uniformity across the dataset. This will also assist in reducing the chances of having duplicate entries with different case styles.\n",
    "\n",
    "By implementing the above strategy, we can enhance the quality of our dataset, making it more suitable for the analysis and modeling phases of our project."
   ]
  },
  {
   "cell_type": "code",
   "execution_count": 27,
   "id": "ba3ed68d",
   "metadata": {
    "execution": {
     "iopub.execute_input": "2023-09-13T18:55:49.529855Z",
     "iopub.status.busy": "2023-09-13T18:55:49.529029Z",
     "iopub.status.idle": "2023-09-13T18:55:49.896053Z",
     "shell.execute_reply": "2023-09-13T18:55:49.894578Z"
    },
    "papermill": {
     "duration": 0.436004,
     "end_time": "2023-09-13T18:55:49.899055",
     "exception": false,
     "start_time": "2023-09-13T18:55:49.463051",
     "status": "completed"
    },
    "tags": []
   },
   "outputs": [
    {
     "name": "stdout",
     "output_type": "stream",
     "text": [
      "The percentage of records with service-related descriptions in the dataset is: 0.01%\n"
     ]
    }
   ],
   "source": [
    "service_related_descriptions = [\"Next Day Carriage\", \"High Resolution Image\"]\n",
    "\n",
    "# Calculate the percentage of records with service-related descriptions\n",
    "service_related_percentage = df[df['Description'].isin(service_related_descriptions)].shape[0] / df.shape[0] * 100\n",
    "\n",
    "# Print the percentage of records with service-related descriptions\n",
    "print(f\"The percentage of records with service-related descriptions in the dataset is: {service_related_percentage:.2f}%\")\n",
    "\n",
    "# Remove rows with service-related information in the description\n",
    "df = df[~df['Description'].isin(service_related_descriptions)]\n",
    "\n",
    "# Standardize the text to uppercase to maintain uniformity across the dataset\n",
    "df['Description'] = df['Description'].str.upper()"
   ]
  },
  {
   "cell_type": "code",
   "execution_count": 28,
   "id": "30511fa4",
   "metadata": {
    "execution": {
     "iopub.execute_input": "2023-09-13T18:55:50.030364Z",
     "iopub.status.busy": "2023-09-13T18:55:50.029601Z",
     "iopub.status.idle": "2023-09-13T18:55:50.036151Z",
     "shell.execute_reply": "2023-09-13T18:55:50.035087Z"
    },
    "papermill": {
     "duration": 0.074834,
     "end_time": "2023-09-13T18:55:50.038775",
     "exception": false,
     "start_time": "2023-09-13T18:55:49.963941",
     "status": "completed"
    },
    "tags": []
   },
   "outputs": [
    {
     "data": {
      "text/plain": [
       "269356"
      ]
     },
     "execution_count": 28,
     "metadata": {},
     "output_type": "execute_result"
    }
   ],
   "source": [
    "# Getting the number of rows in the dataframe\n",
    "df.shape[0]"
   ]
  },
  {
   "cell_type": "markdown",
   "id": "464073aa",
   "metadata": {
    "papermill": {
     "duration": 0.064272,
     "end_time": "2023-09-13T18:55:50.169305",
     "exception": false,
     "start_time": "2023-09-13T18:55:50.105033",
     "status": "completed"
    },
    "tags": []
   },
   "source": [
    "<a id=\"UnitPrice_cleaning\"></a>\n",
    "# <b><span style='color:#fcc36d'>Step 3.6 |</span><span style='color:#ff6200'> Treating Zero Unit Prices</span></b>\n",
    "⬆️ [Tabel of Contents](#contents_tabel)"
   ]
  },
  {
   "cell_type": "markdown",
   "id": "19dc3b3b",
   "metadata": {
    "papermill": {
     "duration": 0.06281,
     "end_time": "2023-09-13T18:55:50.295256",
     "exception": false,
     "start_time": "2023-09-13T18:55:50.232446",
     "status": "completed"
    },
    "tags": []
   },
   "source": [
    "<div style=\"border-radius:10px; padding: 15px; background-color: #ffeacc; font-size:120%; text-align:left\">\n",
    "    \n",
    "In this step, first I am going to take a look at the statistical description of the `UnitPrice` column:"
   ]
  },
  {
   "cell_type": "code",
   "execution_count": 29,
   "id": "81d5299a",
   "metadata": {
    "execution": {
     "iopub.execute_input": "2023-09-13T18:55:50.425829Z",
     "iopub.status.busy": "2023-09-13T18:55:50.425336Z",
     "iopub.status.idle": "2023-09-13T18:55:50.454505Z",
     "shell.execute_reply": "2023-09-13T18:55:50.453561Z"
    },
    "papermill": {
     "duration": 0.097583,
     "end_time": "2023-09-13T18:55:50.456794",
     "exception": false,
     "start_time": "2023-09-13T18:55:50.359211",
     "status": "completed"
    },
    "scrolled": true,
    "tags": []
   },
   "outputs": [
    {
     "data": {
      "text/plain": [
       "count    269356.000000\n",
       "mean          2.981473\n",
       "std           4.961860\n",
       "min           0.000000\n",
       "25%           1.250000\n",
       "50%           1.950000\n",
       "75%           3.750000\n",
       "max         649.500000\n",
       "Name: UnitPrice, dtype: float64"
      ]
     },
     "execution_count": 29,
     "metadata": {},
     "output_type": "execute_result"
    }
   ],
   "source": [
    "df['UnitPrice'].describe()"
   ]
  },
  {
   "cell_type": "markdown",
   "id": "db86de21",
   "metadata": {
    "papermill": {
     "duration": 0.065281,
     "end_time": "2023-09-13T18:55:50.587969",
     "exception": false,
     "start_time": "2023-09-13T18:55:50.522688",
     "status": "completed"
    },
    "tags": []
   },
   "source": [
    "<div style=\"border-radius:10px; padding: 15px; background-color: #ffeacc; font-size:120%; text-align:left\">\n",
    "<h3 align=\"left\"><font color=#ff6200>Inference:</font></h3>\n",
    "    \n",
    "The minimum unit price value is zero. This suggests that there are some transactions where the unit price is zero, potentially indicating a free item or a data entry error. To understand their nature, it is essential to investigate these zero unit price transactions further. A detailed analysis of the product descriptions associated with zero unit prices will be conducted to determine if they adhere to a specific pattern:"
   ]
  },
  {
   "cell_type": "code",
   "execution_count": 30,
   "id": "c08c5b8b",
   "metadata": {
    "execution": {
     "iopub.execute_input": "2023-09-13T18:55:50.724232Z",
     "iopub.status.busy": "2023-09-13T18:55:50.722914Z",
     "iopub.status.idle": "2023-09-13T18:55:50.746301Z",
     "shell.execute_reply": "2023-09-13T18:55:50.745254Z"
    },
    "papermill": {
     "duration": 0.09384,
     "end_time": "2023-09-13T18:55:50.748583",
     "exception": false,
     "start_time": "2023-09-13T18:55:50.654743",
     "status": "completed"
    },
    "tags": []
   },
   "outputs": [
    {
     "data": {
      "text/html": [
       "<div>\n",
       "<style scoped>\n",
       "    .dataframe tbody tr th:only-of-type {\n",
       "        vertical-align: middle;\n",
       "    }\n",
       "\n",
       "    .dataframe tbody tr th {\n",
       "        vertical-align: top;\n",
       "    }\n",
       "\n",
       "    .dataframe thead th {\n",
       "        text-align: right;\n",
       "    }\n",
       "</style>\n",
       "<table border=\"1\" class=\"dataframe\">\n",
       "  <thead>\n",
       "    <tr style=\"text-align: right;\">\n",
       "      <th></th>\n",
       "      <th>Quantity</th>\n",
       "    </tr>\n",
       "  </thead>\n",
       "  <tbody>\n",
       "    <tr>\n",
       "      <th>count</th>\n",
       "      <td>20.000000</td>\n",
       "    </tr>\n",
       "    <tr>\n",
       "      <th>mean</th>\n",
       "      <td>51.800000</td>\n",
       "    </tr>\n",
       "    <tr>\n",
       "      <th>std</th>\n",
       "      <td>72.865124</td>\n",
       "    </tr>\n",
       "    <tr>\n",
       "      <th>min</th>\n",
       "      <td>1.000000</td>\n",
       "    </tr>\n",
       "    <tr>\n",
       "      <th>25%</th>\n",
       "      <td>3.500000</td>\n",
       "    </tr>\n",
       "    <tr>\n",
       "      <th>50%</th>\n",
       "      <td>13.500000</td>\n",
       "    </tr>\n",
       "    <tr>\n",
       "      <th>75%</th>\n",
       "      <td>84.000000</td>\n",
       "    </tr>\n",
       "    <tr>\n",
       "      <th>max</th>\n",
       "      <td>240.000000</td>\n",
       "    </tr>\n",
       "  </tbody>\n",
       "</table>\n",
       "</div>"
      ],
      "text/plain": [
       "         Quantity\n",
       "count   20.000000\n",
       "mean    51.800000\n",
       "std     72.865124\n",
       "min      1.000000\n",
       "25%      3.500000\n",
       "50%     13.500000\n",
       "75%     84.000000\n",
       "max    240.000000"
      ]
     },
     "execution_count": 30,
     "metadata": {},
     "output_type": "execute_result"
    }
   ],
   "source": [
    "df[df['UnitPrice']==0].describe()[['Quantity']]"
   ]
  },
  {
   "cell_type": "markdown",
   "id": "f5fb6656",
   "metadata": {
    "papermill": {
     "duration": 0.066037,
     "end_time": "2023-09-13T18:55:50.879490",
     "exception": false,
     "start_time": "2023-09-13T18:55:50.813453",
     "status": "completed"
    },
    "tags": []
   },
   "source": [
    "<div style=\"border-radius:10px; padding: 15px; background-color: #ffeacc; font-size:120%; text-align:left\">\n",
    "<h3 align=\"left\"><font color=#ff6200>Inferences on UnitPrice: </font></h3>\n",
    "\n",
    "- The transactions with a unit price of zero are relatively few in number (33 transactions).\n",
    "    \n",
    "    \n",
    "- These transactions have a large variability in the quantity of items involved, ranging from 1 to 12540, with a substantial standard deviation.\n",
    "    \n",
    "    \n",
    "- Including these transactions in the clustering analysis might introduce noise and could potentially distort the customer behavior patterns identified by the clustering algorithm."
   ]
  },
  {
   "cell_type": "markdown",
   "id": "cdc32fb9",
   "metadata": {
    "papermill": {
     "duration": 0.064739,
     "end_time": "2023-09-13T18:55:51.008917",
     "exception": false,
     "start_time": "2023-09-13T18:55:50.944178",
     "status": "completed"
    },
    "tags": []
   },
   "source": [
    "<div style=\"border-radius:10px; padding: 15px; background-color: #ffeacc; font-size:120%; text-align:left\">\n",
    "<h3 align=\"left\"><font color=#ff6200>Strategy: </font></h3>\n",
    "\n",
    "Given the small number of these transactions and their potential to introduce noise in the data analysis, the strategy should be to remove these transactions from the dataset. This would help in maintaining a cleaner and more consistent dataset, which is essential for building an accurate and reliable clustering model and recommendation system."
   ]
  },
  {
   "cell_type": "code",
   "execution_count": 31,
   "id": "a8fd2d24",
   "metadata": {
    "execution": {
     "iopub.execute_input": "2023-09-13T18:55:51.144317Z",
     "iopub.status.busy": "2023-09-13T18:55:51.143876Z",
     "iopub.status.idle": "2023-09-13T18:55:51.197763Z",
     "shell.execute_reply": "2023-09-13T18:55:51.196171Z"
    },
    "papermill": {
     "duration": 0.125633,
     "end_time": "2023-09-13T18:55:51.201038",
     "exception": false,
     "start_time": "2023-09-13T18:55:51.075405",
     "status": "completed"
    },
    "tags": []
   },
   "outputs": [],
   "source": [
    "# Removing records with a unit price of zero to avoid potential data entry errors\n",
    "df = df[df['UnitPrice'] > 0]"
   ]
  },
  {
   "cell_type": "markdown",
   "id": "1c4d3071",
   "metadata": {
    "papermill": {
     "duration": 0.064292,
     "end_time": "2023-09-13T18:55:51.330774",
     "exception": false,
     "start_time": "2023-09-13T18:55:51.266482",
     "status": "completed"
    },
    "tags": []
   },
   "source": [
    "<a id=\"outlier_cleaning\"></a>\n",
    "# <b><span style='color:#fcc36d'>Step 3.7 |</span><span style='color:#ff6200'> Outlier Treatment</span></b>\n",
    "⬆️ [Tabel of Contents](#contents_tabel)"
   ]
  },
  {
   "cell_type": "markdown",
   "id": "921f8e84",
   "metadata": {
    "papermill": {
     "duration": 0.064205,
     "end_time": "2023-09-13T18:55:51.460106",
     "exception": false,
     "start_time": "2023-09-13T18:55:51.395901",
     "status": "completed"
    },
    "tags": []
   },
   "source": [
    "<div style=\"border-radius:10px; padding: 15px; background-color: #ffeacc; font-size:120%; text-align:left\">\n",
    "    \n",
    "In K-means clustering, the algorithm is sensitive to both the scale of data and the presence of outliers, as they can significantly influence the position of centroids, potentially leading to incorrect cluster assignments. However, considering the context of this project where the final goal is to understand customer behavior and preferences through K-means clustering, it would be more prudent to address the issue of outliers __after the feature engineering phase__ where we create a customer-centric dataset. At this stage, the data is transactional, and removing outliers might eliminate valuable information that could play a crucial role in segmenting customers later on. Therefore, we will postpone the outlier treatment and proceed to the next stage for now."
   ]
  },
  {
   "cell_type": "code",
   "execution_count": 32,
   "id": "8fb2e314",
   "metadata": {
    "execution": {
     "iopub.execute_input": "2023-09-13T18:55:51.591901Z",
     "iopub.status.busy": "2023-09-13T18:55:51.591415Z",
     "iopub.status.idle": "2023-09-13T18:55:51.597960Z",
     "shell.execute_reply": "2023-09-13T18:55:51.596352Z"
    },
    "papermill": {
     "duration": 0.075851,
     "end_time": "2023-09-13T18:55:51.600414",
     "exception": false,
     "start_time": "2023-09-13T18:55:51.524563",
     "status": "completed"
    },
    "tags": []
   },
   "outputs": [],
   "source": [
    "# Resetting the index of the cleaned dataset\n",
    "df.reset_index(drop=True, inplace=True)"
   ]
  },
  {
   "cell_type": "code",
   "execution_count": 33,
   "id": "e53a70e2",
   "metadata": {
    "execution": {
     "iopub.execute_input": "2023-09-13T18:55:51.734440Z",
     "iopub.status.busy": "2023-09-13T18:55:51.733622Z",
     "iopub.status.idle": "2023-09-13T18:55:51.740743Z",
     "shell.execute_reply": "2023-09-13T18:55:51.739481Z"
    },
    "papermill": {
     "duration": 0.077309,
     "end_time": "2023-09-13T18:55:51.743412",
     "exception": false,
     "start_time": "2023-09-13T18:55:51.666103",
     "status": "completed"
    },
    "tags": []
   },
   "outputs": [
    {
     "data": {
      "text/plain": [
       "269336"
      ]
     },
     "execution_count": 33,
     "metadata": {},
     "output_type": "execute_result"
    }
   ],
   "source": [
    "# Getting the number of rows in the dataframe\n",
    "df.shape[0]"
   ]
  },
  {
   "cell_type": "markdown",
   "id": "c0423204",
   "metadata": {
    "papermill": {
     "duration": 0.065855,
     "end_time": "2023-09-13T18:55:51.875480",
     "exception": false,
     "start_time": "2023-09-13T18:55:51.809625",
     "status": "completed"
    },
    "tags": []
   },
   "source": [
    "<a id=\"feature_engineering\"></a>\n",
    "# <p style=\"background-color: #ff6200; font-family:calibri; color:white; font-size:140%; font-family:Verdana; text-align:center; border-radius:15px 50px;\">Step 4 | Feature Engineering</p>\n",
    "⬆️ [Tabel of Contents](#contents_tabel)"
   ]
  },
  {
   "cell_type": "markdown",
   "id": "e645ab50",
   "metadata": {
    "papermill": {
     "duration": 0.065798,
     "end_time": "2023-09-13T18:55:52.006890",
     "exception": false,
     "start_time": "2023-09-13T18:55:51.941092",
     "status": "completed"
    },
    "tags": []
   },
   "source": [
    "<div style=\"border-radius:10px; padding: 15px; background-color: #ffeacc; font-size:120%; text-align:left\">\n",
    "\n",
    "In order to create a comprehensive customer-centric dataset for clustering and recommendation, the following features can be engineered from the available data:"
   ]
  },
  {
   "cell_type": "markdown",
   "id": "996035e6",
   "metadata": {
    "papermill": {
     "duration": 0.068241,
     "end_time": "2023-09-13T18:55:52.142187",
     "exception": false,
     "start_time": "2023-09-13T18:55:52.073946",
     "status": "completed"
    },
    "tags": []
   },
   "source": [
    "<a id=\"rfm_features\"></a>\n",
    "# <b><span style='color:#fcc36d'>Step 4.1 |</span><span style='color:#ff6200'> RFM Features</span></b>\n",
    "⬆️ [Tabel of Contents](#contents_tabel)"
   ]
  },
  {
   "cell_type": "markdown",
   "id": "3ba7cb37",
   "metadata": {
    "papermill": {
     "duration": 0.066119,
     "end_time": "2023-09-13T18:55:52.275008",
     "exception": false,
     "start_time": "2023-09-13T18:55:52.208889",
     "status": "completed"
    },
    "tags": []
   },
   "source": [
    "<div style=\"border-radius:10px; padding: 15px; background-color: #ffeacc; font-size:120%; text-align:left\">\n",
    "\n",
    "RFM is a method used for analyzing customer value and segmenting the customer base. It is an acronym that stands for:\n",
    "\n",
    "- __Recency (R):__ This metric indicates how recently a customer has made a purchase. A lower recency value means the customer has purchased more recently, indicating higher engagement with the brand.\n",
    "\n",
    "    \n",
    "- __Frequency (F):__ This metric signifies how often a customer makes a purchase within a certain period. A higher frequency value indicates a customer who interacts with the business more often, suggesting higher loyalty or satisfaction.\n",
    "\n",
    "    \n",
    "- __Monetary (M):__ This metric represents the total amount of money a customer has spent over a certain period. Customers who have a higher monetary value have contributed more to the business, indicating their potential high lifetime value.\n",
    "\n",
    "    \n",
    "Together, these metrics help in understanding a customer's buying behavior and preferences, which is pivotal in personalizing marketing strategies and creating a recommendation system."
   ]
  },
  {
   "cell_type": "markdown",
   "id": "49247c5e",
   "metadata": {
    "papermill": {
     "duration": 0.065054,
     "end_time": "2023-09-13T18:55:52.406366",
     "exception": false,
     "start_time": "2023-09-13T18:55:52.341312",
     "status": "completed"
    },
    "tags": []
   },
   "source": [
    "<a id=\"recency\"></a>\n",
    "## <b><span style='color:#fcc36d'>Step 4.1.1 |</span><span style='color:#ff6200'> Recency (R)</span></b>\n",
    "⬆️ [Tabel of Contents](#contents_tabel)"
   ]
  },
  {
   "cell_type": "markdown",
   "id": "e78228ab",
   "metadata": {
    "papermill": {
     "duration": 0.065306,
     "end_time": "2023-09-13T18:55:52.536954",
     "exception": false,
     "start_time": "2023-09-13T18:55:52.471648",
     "status": "completed"
    },
    "tags": []
   },
   "source": [
    "<div style=\"border-radius:10px; padding: 15px; background-color: #ffeacc; font-size:120%; text-align:left\">\n",
    "    \n",
    "In this step, we focus on understanding how recently a customer has made a purchase. This is a crucial aspect of customer segmentation as it helps in identifying the engagement level of customers. Here, I am going to define the following feature:\n",
    "\n",
    "- __Days Since Last Purchase__: This feature represents the number of days that have passed since the customer's last purchase. A lower value indicates that the customer has purchased recently, implying a higher engagement level with the business, whereas a higher value may indicate a lapse or decreased engagement. By understanding the recency of purchases, businesses can tailor their marketing strategies to re-engage customers who have not made purchases in a while, potentially increasing customer retention and fostering loyalty."
   ]
  },
  {
   "cell_type": "code",
   "execution_count": 34,
   "id": "12e426e9",
   "metadata": {
    "execution": {
     "iopub.execute_input": "2023-09-13T18:55:52.674223Z",
     "iopub.status.busy": "2023-09-13T18:55:52.673743Z",
     "iopub.status.idle": "2023-09-13T18:55:53.775752Z",
     "shell.execute_reply": "2023-09-13T18:55:53.774679Z"
    },
    "papermill": {
     "duration": 1.173973,
     "end_time": "2023-09-13T18:55:53.778716",
     "exception": false,
     "start_time": "2023-09-13T18:55:52.604743",
     "status": "completed"
    },
    "tags": []
   },
   "outputs": [],
   "source": [
    "# Convert InvoiceDate to datetime type\n",
    "#extract date\n",
    "\n",
    "df['InvoiceDate'] = pd.to_datetime(df['InvoiceDate'])\n",
    "\n",
    "# Convert InvoiceDate to datetime and extract only the date\n",
    "df['InvoiceDay'] = df['InvoiceDate'].dt.date\n",
    "\n",
    "# Find the most recent purchase date for each customer\n",
    "customer_data = df.groupby('CustomerID')['InvoiceDay'].max().reset_index()\n",
    "\n",
    "# Find the most recent date in the entire dataset\n",
    "most_recent_date = df['InvoiceDay'].max()\n",
    "\n",
    "# Convert InvoiceDay to datetime type before subtraction\n",
    "customer_data['InvoiceDay'] = pd.to_datetime(customer_data['InvoiceDay'])\n",
    "most_recent_date = pd.to_datetime(most_recent_date)\n",
    "\n",
    "# Calculate the number of days since the last purchase for each customer\n",
    "customer_data['Days_Since_Last_Purchase'] = (most_recent_date - customer_data['InvoiceDay']).dt.days\n",
    "\n",
    "# Remove the InvoiceDay column\n",
    "df.drop(columns=['InvoiceDay'], inplace=True)"
   ]
  },
  {
   "cell_type": "markdown",
   "id": "7313c903",
   "metadata": {
    "papermill": {
     "duration": 0.065152,
     "end_time": "2023-09-13T18:55:53.911157",
     "exception": false,
     "start_time": "2023-09-13T18:55:53.846005",
     "status": "completed"
    },
    "tags": []
   },
   "source": [
    "<div style=\"border-radius:10px; padding: 15px; background-color: #ffeacc; font-size:120%; text-align:left\">\n",
    "    \n",
    "Now, __customer_data__ dataframe contains the __`Days_Since_Last_Purchase`__ feature:"
   ]
  },
  {
   "cell_type": "code",
   "execution_count": 35,
   "id": "8e5ba7d2",
   "metadata": {
    "execution": {
     "iopub.execute_input": "2023-09-13T18:55:54.045293Z",
     "iopub.status.busy": "2023-09-13T18:55:54.043935Z",
     "iopub.status.idle": "2023-09-13T18:55:54.055494Z",
     "shell.execute_reply": "2023-09-13T18:55:54.054356Z"
    },
    "papermill": {
     "duration": 0.082016,
     "end_time": "2023-09-13T18:55:54.058539",
     "exception": false,
     "start_time": "2023-09-13T18:55:53.976523",
     "status": "completed"
    },
    "tags": []
   },
   "outputs": [
    {
     "data": {
      "text/html": [
       "<div>\n",
       "<style scoped>\n",
       "    .dataframe tbody tr th:only-of-type {\n",
       "        vertical-align: middle;\n",
       "    }\n",
       "\n",
       "    .dataframe tbody tr th {\n",
       "        vertical-align: top;\n",
       "    }\n",
       "\n",
       "    .dataframe thead th {\n",
       "        text-align: right;\n",
       "    }\n",
       "</style>\n",
       "<table border=\"1\" class=\"dataframe\">\n",
       "  <thead>\n",
       "    <tr style=\"text-align: right;\">\n",
       "      <th></th>\n",
       "      <th>CustomerID</th>\n",
       "      <th>InvoiceDay</th>\n",
       "      <th>Days_Since_Last_Purchase</th>\n",
       "    </tr>\n",
       "  </thead>\n",
       "  <tbody>\n",
       "    <tr>\n",
       "      <th>0</th>\n",
       "      <td>12346.0</td>\n",
       "      <td>2011-01-18</td>\n",
       "      <td>257</td>\n",
       "    </tr>\n",
       "    <tr>\n",
       "      <th>1</th>\n",
       "      <td>12347.0</td>\n",
       "      <td>2011-08-02</td>\n",
       "      <td>61</td>\n",
       "    </tr>\n",
       "    <tr>\n",
       "      <th>2</th>\n",
       "      <td>12348.0</td>\n",
       "      <td>2011-09-25</td>\n",
       "      <td>7</td>\n",
       "    </tr>\n",
       "    <tr>\n",
       "      <th>3</th>\n",
       "      <td>12350.0</td>\n",
       "      <td>2011-02-02</td>\n",
       "      <td>242</td>\n",
       "    </tr>\n",
       "    <tr>\n",
       "      <th>4</th>\n",
       "      <td>12352.0</td>\n",
       "      <td>2011-09-28</td>\n",
       "      <td>4</td>\n",
       "    </tr>\n",
       "  </tbody>\n",
       "</table>\n",
       "</div>"
      ],
      "text/plain": [
       "   CustomerID InvoiceDay  Days_Since_Last_Purchase\n",
       "0     12346.0 2011-01-18                       257\n",
       "1     12347.0 2011-08-02                        61\n",
       "2     12348.0 2011-09-25                         7\n",
       "3     12350.0 2011-02-02                       242\n",
       "4     12352.0 2011-09-28                         4"
      ]
     },
     "execution_count": 35,
     "metadata": {},
     "output_type": "execute_result"
    }
   ],
   "source": [
    "customer_data.head()"
   ]
  },
  {
   "cell_type": "markdown",
   "id": "9a675db6",
   "metadata": {
    "papermill": {
     "duration": 0.065204,
     "end_time": "2023-09-13T18:55:54.189503",
     "exception": false,
     "start_time": "2023-09-13T18:55:54.124299",
     "status": "completed"
    },
    "tags": []
   },
   "source": [
    "<div style=\"border-radius:10px; padding: 15px; background-color: #ffeacc; font-size:120%; text-align:left\">\n",
    "<h3 align=\"left\"><font color=#ff6200>Note: </font></h3>\n",
    "    \n",
    "- We've named the customer-centric dataframe as __customer_data__, which will eventually contain all the customer-based features we plan to create."
   ]
  },
  {
   "cell_type": "markdown",
   "id": "d3b5ec72",
   "metadata": {
    "papermill": {
     "duration": 0.063722,
     "end_time": "2023-09-13T18:55:54.318090",
     "exception": false,
     "start_time": "2023-09-13T18:55:54.254368",
     "status": "completed"
    },
    "tags": []
   },
   "source": [
    "<a id=\"frequency\"></a>\n",
    "## <b><span style='color:#fcc36d'>Step 4.1.2 |</span><span style='color:#ff6200'> Frequency (F)</span></b>\n",
    "⬆️ [Tabel of Contents](#contents_tabel)"
   ]
  },
  {
   "cell_type": "markdown",
   "id": "a5b9dce3",
   "metadata": {
    "papermill": {
     "duration": 0.065174,
     "end_time": "2023-09-13T18:55:54.450537",
     "exception": false,
     "start_time": "2023-09-13T18:55:54.385363",
     "status": "completed"
    },
    "tags": []
   },
   "source": [
    "<div style=\"border-radius:10px; padding: 15px; background-color: #ffeacc; font-size:120%; text-align:left\">\n",
    "\n",
    "In this step, I am going to create two features that quantify the frequency of a customer's engagement with the retailer:\n",
    "\n",
    "- __Total Transactions__: This feature represents the total number of transactions made by a customer. It helps in understanding the engagement level of a customer with the retailer.\n",
    "\n",
    "    \n",
    "\n",
    "- __Total Products Purchased__: This feature indicates the total number of products (sum of quantities) purchased by a customer across all transactions. It gives an insight into the customer's buying behavior in terms of the volume of products purchased.\n",
    "\n",
    "    \n",
    "These features will be crucial in segmenting customers based on their buying frequency, which is a key aspect in determining customer segments for targeted marketing and personalized recommendations."
   ]
  },
  {
   "cell_type": "code",
   "execution_count": 36,
   "id": "88142b3c",
   "metadata": {},
   "outputs": [
    {
     "data": {
      "text/html": [
       "<div>\n",
       "<style scoped>\n",
       "    .dataframe tbody tr th:only-of-type {\n",
       "        vertical-align: middle;\n",
       "    }\n",
       "\n",
       "    .dataframe tbody tr th {\n",
       "        vertical-align: top;\n",
       "    }\n",
       "\n",
       "    .dataframe thead th {\n",
       "        text-align: right;\n",
       "    }\n",
       "</style>\n",
       "<table border=\"1\" class=\"dataframe\">\n",
       "  <thead>\n",
       "    <tr style=\"text-align: right;\">\n",
       "      <th></th>\n",
       "      <th>CustomerID</th>\n",
       "      <th>InvoiceDay</th>\n",
       "      <th>Days_Since_Last_Purchase</th>\n",
       "      <th>Total_Transactions</th>\n",
       "      <th>Total_Products_Purchased</th>\n",
       "    </tr>\n",
       "  </thead>\n",
       "  <tbody>\n",
       "    <tr>\n",
       "      <th>695</th>\n",
       "      <td>13429.0</td>\n",
       "      <td>2011-09-25</td>\n",
       "      <td>7</td>\n",
       "      <td>1</td>\n",
       "      <td>620.0</td>\n",
       "    </tr>\n",
       "    <tr>\n",
       "      <th>593</th>\n",
       "      <td>13263.0</td>\n",
       "      <td>2011-09-30</td>\n",
       "      <td>2</td>\n",
       "      <td>25</td>\n",
       "      <td>3476.0</td>\n",
       "    </tr>\n",
       "    <tr>\n",
       "      <th>996</th>\n",
       "      <td>13924.0</td>\n",
       "      <td>2011-09-28</td>\n",
       "      <td>4</td>\n",
       "      <td>1</td>\n",
       "      <td>437.0</td>\n",
       "    </tr>\n",
       "    <tr>\n",
       "      <th>2494</th>\n",
       "      <td>16356.0</td>\n",
       "      <td>2011-05-26</td>\n",
       "      <td>129</td>\n",
       "      <td>4</td>\n",
       "      <td>92.0</td>\n",
       "    </tr>\n",
       "    <tr>\n",
       "      <th>1600</th>\n",
       "      <td>14891.0</td>\n",
       "      <td>2011-07-14</td>\n",
       "      <td>80</td>\n",
       "      <td>2</td>\n",
       "      <td>505.0</td>\n",
       "    </tr>\n",
       "  </tbody>\n",
       "</table>\n",
       "</div>"
      ],
      "text/plain": [
       "      CustomerID InvoiceDay  Days_Since_Last_Purchase  Total_Transactions  \\\n",
       "695      13429.0 2011-09-25                         7                   1   \n",
       "593      13263.0 2011-09-30                         2                  25   \n",
       "996      13924.0 2011-09-28                         4                   1   \n",
       "2494     16356.0 2011-05-26                       129                   4   \n",
       "1600     14891.0 2011-07-14                        80                   2   \n",
       "\n",
       "      Total_Products_Purchased  \n",
       "695                      620.0  \n",
       "593                     3476.0  \n",
       "996                      437.0  \n",
       "2494                      92.0  \n",
       "1600                     505.0  "
      ]
     },
     "execution_count": 36,
     "metadata": {},
     "output_type": "execute_result"
    }
   ],
   "source": [
    "# Calculate the total number of transactions made by each customer\n",
    "\n",
    "total_transactions=df.groupby('CustomerID') ['InvoiceNo'].nunique().reset_index() \n",
    "total_transactions.rename(columns={'InvoiceNo': 'Total_Transactions'}, inplace=True)\n",
    "\n",
    "\n",
    "# Calculate the total number of products purchased by each customer\n",
    "\n",
    "total_products_purchased=df.groupby('CustomerID') ['Quantity'].sum().reset_index() \n",
    "total_products_purchased.rename(columns={'Quantity': 'Total_Products_Purchased'}, inplace=True)\n",
    "\n",
    "#Merge the new features into the customer_data dataframe\n",
    "\n",
    "customer_data=pd.merge(customer_data, total_transactions, on='CustomerID')\n",
    "\n",
    "customer_data=pd.merge(customer_data, total_products_purchased, on='CustomerID')\n",
    "\n",
    "# Display the first few rows of the customer data dataframe\n",
    "\n",
    "customer_data.sample(5)\n"
   ]
  },
  {
   "cell_type": "markdown",
   "id": "6fa3261c",
   "metadata": {
    "papermill": {
     "duration": 0.085369,
     "end_time": "2023-09-13T18:55:54.854478",
     "exception": false,
     "start_time": "2023-09-13T18:55:54.769109",
     "status": "completed"
    },
    "tags": []
   },
   "source": [
    "<a id=\"monetary\"></a>\n",
    "## <b><span style='color:#fcc36d'>Step 4.1.3 |</span><span style='color:#ff6200'> Monetary (M)</span></b>\n",
    "⬆️ [Tabel of Contents](#contents_tabel)"
   ]
  },
  {
   "cell_type": "markdown",
   "id": "ccd2f4f8",
   "metadata": {
    "papermill": {
     "duration": 0.065187,
     "end_time": "2023-09-13T18:55:54.985249",
     "exception": false,
     "start_time": "2023-09-13T18:55:54.920062",
     "status": "completed"
    },
    "tags": []
   },
   "source": [
    "<div style=\"border-radius:10px; padding: 15px; background-color: #ffeacc; font-size:120%; text-align:left\">\n",
    "\n",
    "In this step, I am going to create two features that represent the monetary aspect of customer's transactions:\n",
    "\n",
    "- __Total Spend__: This feature represents the total amount of money spent by each customer. It is calculated as the sum of the product of `UnitPrice` and `Quantity` for all transactions made by a customer. This feature is crucial as it helps in identifying the total revenue generated by each customer, which is a direct indicator of a customer's value to the business.\n",
    "\n",
    "    \n",
    "- __Average Transaction Value__: This feature is calculated as the __Total Spend__ divided by the __Total Transactions__ for each customer. It indicates the average value of a transaction carried out by a customer. This metric is useful in understanding the spending behavior of customers per transaction, which can assist in tailoring marketing strategies and offers to different customer segments based on their average spending patterns."
   ]
  },
  {
   "cell_type": "code",
   "execution_count": 37,
   "id": "a131e718",
   "metadata": {
    "execution": {
     "iopub.execute_input": "2023-09-13T18:55:55.126657Z",
     "iopub.status.busy": "2023-09-13T18:55:55.126144Z",
     "iopub.status.idle": "2023-09-13T18:55:55.175599Z",
     "shell.execute_reply": "2023-09-13T18:55:55.173924Z"
    },
    "papermill": {
     "duration": 0.121753,
     "end_time": "2023-09-13T18:55:55.178675",
     "exception": false,
     "start_time": "2023-09-13T18:55:55.056922",
     "status": "completed"
    },
    "tags": []
   },
   "outputs": [
    {
     "data": {
      "text/html": [
       "<div>\n",
       "<style scoped>\n",
       "    .dataframe tbody tr th:only-of-type {\n",
       "        vertical-align: middle;\n",
       "    }\n",
       "\n",
       "    .dataframe tbody tr th {\n",
       "        vertical-align: top;\n",
       "    }\n",
       "\n",
       "    .dataframe thead th {\n",
       "        text-align: right;\n",
       "    }\n",
       "</style>\n",
       "<table border=\"1\" class=\"dataframe\">\n",
       "  <thead>\n",
       "    <tr style=\"text-align: right;\">\n",
       "      <th></th>\n",
       "      <th>CustomerID</th>\n",
       "      <th>InvoiceDay</th>\n",
       "      <th>Days_Since_Last_Purchase</th>\n",
       "      <th>Total_Transactions</th>\n",
       "      <th>Total_Products_Purchased</th>\n",
       "      <th>Total_Spend</th>\n",
       "      <th>Average_Transaction_Value</th>\n",
       "    </tr>\n",
       "  </thead>\n",
       "  <tbody>\n",
       "    <tr>\n",
       "      <th>1658</th>\n",
       "      <td>15012.0</td>\n",
       "      <td>2010-12-01</td>\n",
       "      <td>305</td>\n",
       "      <td>1</td>\n",
       "      <td>84.0</td>\n",
       "      <td>188.56</td>\n",
       "      <td>188.560000</td>\n",
       "    </tr>\n",
       "    <tr>\n",
       "      <th>3631</th>\n",
       "      <td>18256.0</td>\n",
       "      <td>2010-12-20</td>\n",
       "      <td>286</td>\n",
       "      <td>1</td>\n",
       "      <td>-70.0</td>\n",
       "      <td>-50.10</td>\n",
       "      <td>-50.100000</td>\n",
       "    </tr>\n",
       "    <tr>\n",
       "      <th>1722</th>\n",
       "      <td>15105.0</td>\n",
       "      <td>2011-09-14</td>\n",
       "      <td>18</td>\n",
       "      <td>3</td>\n",
       "      <td>690.0</td>\n",
       "      <td>1176.54</td>\n",
       "      <td>392.180000</td>\n",
       "    </tr>\n",
       "    <tr>\n",
       "      <th>413</th>\n",
       "      <td>12982.0</td>\n",
       "      <td>2011-04-14</td>\n",
       "      <td>171</td>\n",
       "      <td>2</td>\n",
       "      <td>278.0</td>\n",
       "      <td>377.20</td>\n",
       "      <td>188.600000</td>\n",
       "    </tr>\n",
       "    <tr>\n",
       "      <th>2128</th>\n",
       "      <td>15752.0</td>\n",
       "      <td>2011-09-07</td>\n",
       "      <td>25</td>\n",
       "      <td>7</td>\n",
       "      <td>1652.0</td>\n",
       "      <td>2084.92</td>\n",
       "      <td>297.845714</td>\n",
       "    </tr>\n",
       "  </tbody>\n",
       "</table>\n",
       "</div>"
      ],
      "text/plain": [
       "      CustomerID InvoiceDay  Days_Since_Last_Purchase  Total_Transactions  \\\n",
       "1658     15012.0 2010-12-01                       305                   1   \n",
       "3631     18256.0 2010-12-20                       286                   1   \n",
       "1722     15105.0 2011-09-14                        18                   3   \n",
       "413      12982.0 2011-04-14                       171                   2   \n",
       "2128     15752.0 2011-09-07                        25                   7   \n",
       "\n",
       "      Total_Products_Purchased  Total_Spend  Average_Transaction_Value  \n",
       "1658                      84.0       188.56                 188.560000  \n",
       "3631                     -70.0       -50.10                 -50.100000  \n",
       "1722                     690.0      1176.54                 392.180000  \n",
       "413                      278.0       377.20                 188.600000  \n",
       "2128                    1652.0      2084.92                 297.845714  "
      ]
     },
     "execution_count": 37,
     "metadata": {},
     "output_type": "execute_result"
    }
   ],
   "source": [
    "# Calculate the total spend by each customer\n",
    "df['Total_Spend'] = df['UnitPrice'] * df['Quantity']\n",
    "total_spend = df.groupby('CustomerID')['Total_Spend'].sum().reset_index()\n",
    "\n",
    "# Calculate the average transaction value for each customer\n",
    "average_transaction_value = total_spend.merge(total_transactions, on='CustomerID')\n",
    "average_transaction_value['Average_Transaction_Value'] = average_transaction_value['Total_Spend'] / average_transaction_value['Total_Transactions']\n",
    "\n",
    "# Merge the new features into the customer_data dataframe\n",
    "customer_data = pd.merge(customer_data, total_spend, on='CustomerID')\n",
    "customer_data = pd.merge(customer_data, average_transaction_value[['CustomerID', 'Average_Transaction_Value']], on='CustomerID')\n",
    "\n",
    "# Display the first few rows of the customer_data dataframe\n",
    "customer_data.sample(5)"
   ]
  },
  {
   "cell_type": "markdown",
   "id": "48c28443",
   "metadata": {
    "papermill": {
     "duration": 0.067521,
     "end_time": "2023-09-13T18:55:55.315371",
     "exception": false,
     "start_time": "2023-09-13T18:55:55.247850",
     "status": "completed"
    },
    "tags": []
   },
   "source": [
    "<a id=\"product_diversity\"></a>\n",
    "# <b><span style='color:#fcc36d'>Step 4.2 |</span><span style='color:#ff6200'> Product Diversity</span></b>\n",
    "⬆️ [Tabel of Contents](#contents_tabel)"
   ]
  },
  {
   "cell_type": "markdown",
   "id": "e062ecf4",
   "metadata": {
    "papermill": {
     "duration": 0.066321,
     "end_time": "2023-09-13T18:55:55.449792",
     "exception": false,
     "start_time": "2023-09-13T18:55:55.383471",
     "status": "completed"
    },
    "tags": []
   },
   "source": [
    "<div style=\"border-radius:10px; padding: 15px; background-color: #ffeacc; font-size:120%; text-align:left\">\n",
    "\n",
    "In this step, we are going to understand the diversity in the product purchase behavior of customers. Understanding product diversity can help in crafting personalized marketing strategies and product recommendations. Here, I am going to define the following feature:\n",
    "\n",
    "- __Unique Products Purchased__: This feature represents the number of distinct products bought by a customer. A higher value indicates that the customer has a diverse taste or preference, buying a wide range of products, while a lower value might indicate a focused or specific preference. Understanding the diversity in product purchases can help in segmenting customers based on their buying diversity, which can be a critical input in personalizing product recommendations."
   ]
  },
  {
   "cell_type": "code",
   "execution_count": 38,
   "id": "055ab01f",
   "metadata": {
    "execution": {
     "iopub.execute_input": "2023-09-13T18:55:55.585725Z",
     "iopub.status.busy": "2023-09-13T18:55:55.585227Z",
     "iopub.status.idle": "2023-09-13T18:55:55.764592Z",
     "shell.execute_reply": "2023-09-13T18:55:55.763336Z"
    },
    "papermill": {
     "duration": 0.251802,
     "end_time": "2023-09-13T18:55:55.767945",
     "exception": false,
     "start_time": "2023-09-13T18:55:55.516143",
     "status": "completed"
    },
    "tags": []
   },
   "outputs": [
    {
     "data": {
      "text/html": [
       "<div>\n",
       "<style scoped>\n",
       "    .dataframe tbody tr th:only-of-type {\n",
       "        vertical-align: middle;\n",
       "    }\n",
       "\n",
       "    .dataframe tbody tr th {\n",
       "        vertical-align: top;\n",
       "    }\n",
       "\n",
       "    .dataframe thead th {\n",
       "        text-align: right;\n",
       "    }\n",
       "</style>\n",
       "<table border=\"1\" class=\"dataframe\">\n",
       "  <thead>\n",
       "    <tr style=\"text-align: right;\">\n",
       "      <th></th>\n",
       "      <th>CustomerID</th>\n",
       "      <th>InvoiceDay</th>\n",
       "      <th>Days_Since_Last_Purchase</th>\n",
       "      <th>Total_Transactions</th>\n",
       "      <th>Total_Products_Purchased</th>\n",
       "      <th>Total_Spend</th>\n",
       "      <th>Average_Transaction_Value</th>\n",
       "      <th>Unique_Products_Purchased</th>\n",
       "    </tr>\n",
       "  </thead>\n",
       "  <tbody>\n",
       "    <tr>\n",
       "      <th>0</th>\n",
       "      <td>12346.0</td>\n",
       "      <td>2011-01-18</td>\n",
       "      <td>257</td>\n",
       "      <td>2</td>\n",
       "      <td>0.0</td>\n",
       "      <td>0.00</td>\n",
       "      <td>0.000000</td>\n",
       "      <td>1</td>\n",
       "    </tr>\n",
       "    <tr>\n",
       "      <th>1</th>\n",
       "      <td>12347.0</td>\n",
       "      <td>2011-08-02</td>\n",
       "      <td>61</td>\n",
       "      <td>5</td>\n",
       "      <td>1590.0</td>\n",
       "      <td>2790.86</td>\n",
       "      <td>558.172000</td>\n",
       "      <td>82</td>\n",
       "    </tr>\n",
       "    <tr>\n",
       "      <th>2</th>\n",
       "      <td>12348.0</td>\n",
       "      <td>2011-09-25</td>\n",
       "      <td>7</td>\n",
       "      <td>4</td>\n",
       "      <td>2332.0</td>\n",
       "      <td>1437.24</td>\n",
       "      <td>359.310000</td>\n",
       "      <td>21</td>\n",
       "    </tr>\n",
       "    <tr>\n",
       "      <th>3</th>\n",
       "      <td>12350.0</td>\n",
       "      <td>2011-02-02</td>\n",
       "      <td>242</td>\n",
       "      <td>1</td>\n",
       "      <td>196.0</td>\n",
       "      <td>294.40</td>\n",
       "      <td>294.400000</td>\n",
       "      <td>16</td>\n",
       "    </tr>\n",
       "    <tr>\n",
       "      <th>4</th>\n",
       "      <td>12352.0</td>\n",
       "      <td>2011-09-28</td>\n",
       "      <td>4</td>\n",
       "      <td>7</td>\n",
       "      <td>338.0</td>\n",
       "      <td>1033.68</td>\n",
       "      <td>147.668571</td>\n",
       "      <td>45</td>\n",
       "    </tr>\n",
       "  </tbody>\n",
       "</table>\n",
       "</div>"
      ],
      "text/plain": [
       "   CustomerID InvoiceDay  Days_Since_Last_Purchase  Total_Transactions  \\\n",
       "0     12346.0 2011-01-18                       257                   2   \n",
       "1     12347.0 2011-08-02                        61                   5   \n",
       "2     12348.0 2011-09-25                         7                   4   \n",
       "3     12350.0 2011-02-02                       242                   1   \n",
       "4     12352.0 2011-09-28                         4                   7   \n",
       "\n",
       "   Total_Products_Purchased  Total_Spend  Average_Transaction_Value  \\\n",
       "0                       0.0         0.00                   0.000000   \n",
       "1                    1590.0      2790.86                 558.172000   \n",
       "2                    2332.0      1437.24                 359.310000   \n",
       "3                     196.0       294.40                 294.400000   \n",
       "4                     338.0      1033.68                 147.668571   \n",
       "\n",
       "   Unique_Products_Purchased  \n",
       "0                          1  \n",
       "1                         82  \n",
       "2                         21  \n",
       "3                         16  \n",
       "4                         45  "
      ]
     },
     "execution_count": 38,
     "metadata": {},
     "output_type": "execute_result"
    }
   ],
   "source": [
    "# Calculate the number of unique products purchased by each customer\n",
    "unique_products_purchased = df.groupby('CustomerID')['StockCode'].nunique().reset_index() \n",
    "unique_products_purchased.rename(columns={'StockCode': 'Unique_Products_Purchased'},inplace=True)\n",
    "\n",
    "# Merge the new feature into the customer_data dataframe\n",
    "customer_data = pd.merge(customer_data, unique_products_purchased, on='CustomerID')\n",
    "                       \n",
    "# Display the first few rows of the customer_data dataframe\n",
    "customer_data.head()"
   ]
  },
  {
   "cell_type": "code",
   "execution_count": 39,
   "id": "5ad2a2c6",
   "metadata": {},
   "outputs": [
    {
     "data": {
      "text/html": [
       "<div>\n",
       "<style scoped>\n",
       "    .dataframe tbody tr th:only-of-type {\n",
       "        vertical-align: middle;\n",
       "    }\n",
       "\n",
       "    .dataframe tbody tr th {\n",
       "        vertical-align: top;\n",
       "    }\n",
       "\n",
       "    .dataframe thead th {\n",
       "        text-align: right;\n",
       "    }\n",
       "</style>\n",
       "<table border=\"1\" class=\"dataframe\">\n",
       "  <thead>\n",
       "    <tr style=\"text-align: right;\">\n",
       "      <th></th>\n",
       "      <th>CustomerID</th>\n",
       "      <th>InvoiceDay</th>\n",
       "      <th>Days_Since_Last_Purchase</th>\n",
       "      <th>Total_Transactions</th>\n",
       "      <th>Total_Products_Purchased</th>\n",
       "      <th>Total_Spend</th>\n",
       "      <th>Average_Transaction_Value</th>\n",
       "      <th>Unique_Products_Purchased</th>\n",
       "    </tr>\n",
       "  </thead>\n",
       "  <tbody>\n",
       "    <tr>\n",
       "      <th>2078</th>\n",
       "      <td>15670.0</td>\n",
       "      <td>2011-02-16</td>\n",
       "      <td>228</td>\n",
       "      <td>1</td>\n",
       "      <td>91.0</td>\n",
       "      <td>173.05</td>\n",
       "      <td>173.05000</td>\n",
       "      <td>12</td>\n",
       "    </tr>\n",
       "    <tr>\n",
       "      <th>2709</th>\n",
       "      <td>16712.0</td>\n",
       "      <td>2011-09-05</td>\n",
       "      <td>27</td>\n",
       "      <td>8</td>\n",
       "      <td>1157.0</td>\n",
       "      <td>2489.81</td>\n",
       "      <td>311.22625</td>\n",
       "      <td>170</td>\n",
       "    </tr>\n",
       "    <tr>\n",
       "      <th>1571</th>\n",
       "      <td>14847.0</td>\n",
       "      <td>2011-07-14</td>\n",
       "      <td>80</td>\n",
       "      <td>1</td>\n",
       "      <td>120.0</td>\n",
       "      <td>309.40</td>\n",
       "      <td>309.40000</td>\n",
       "      <td>13</td>\n",
       "    </tr>\n",
       "    <tr>\n",
       "      <th>2799</th>\n",
       "      <td>16852.0</td>\n",
       "      <td>2011-06-16</td>\n",
       "      <td>108</td>\n",
       "      <td>1</td>\n",
       "      <td>51.0</td>\n",
       "      <td>113.06</td>\n",
       "      <td>113.06000</td>\n",
       "      <td>7</td>\n",
       "    </tr>\n",
       "    <tr>\n",
       "      <th>2976</th>\n",
       "      <td>17159.0</td>\n",
       "      <td>2011-09-25</td>\n",
       "      <td>7</td>\n",
       "      <td>2</td>\n",
       "      <td>546.0</td>\n",
       "      <td>926.67</td>\n",
       "      <td>463.33500</td>\n",
       "      <td>51</td>\n",
       "    </tr>\n",
       "    <tr>\n",
       "      <th>897</th>\n",
       "      <td>13756.0</td>\n",
       "      <td>2011-09-07</td>\n",
       "      <td>25</td>\n",
       "      <td>8</td>\n",
       "      <td>1843.0</td>\n",
       "      <td>2972.33</td>\n",
       "      <td>371.54125</td>\n",
       "      <td>55</td>\n",
       "    </tr>\n",
       "    <tr>\n",
       "      <th>288</th>\n",
       "      <td>12779.0</td>\n",
       "      <td>2011-06-03</td>\n",
       "      <td>121</td>\n",
       "      <td>10</td>\n",
       "      <td>1365.0</td>\n",
       "      <td>2906.11</td>\n",
       "      <td>290.61100</td>\n",
       "      <td>68</td>\n",
       "    </tr>\n",
       "    <tr>\n",
       "      <th>879</th>\n",
       "      <td>13730.0</td>\n",
       "      <td>2011-07-27</td>\n",
       "      <td>67</td>\n",
       "      <td>2</td>\n",
       "      <td>488.0</td>\n",
       "      <td>752.60</td>\n",
       "      <td>376.30000</td>\n",
       "      <td>38</td>\n",
       "    </tr>\n",
       "    <tr>\n",
       "      <th>806</th>\n",
       "      <td>13610.0</td>\n",
       "      <td>2011-08-21</td>\n",
       "      <td>42</td>\n",
       "      <td>6</td>\n",
       "      <td>363.0</td>\n",
       "      <td>756.81</td>\n",
       "      <td>126.13500</td>\n",
       "      <td>140</td>\n",
       "    </tr>\n",
       "    <tr>\n",
       "      <th>870</th>\n",
       "      <td>13717.0</td>\n",
       "      <td>2011-08-03</td>\n",
       "      <td>60</td>\n",
       "      <td>5</td>\n",
       "      <td>1566.0</td>\n",
       "      <td>943.24</td>\n",
       "      <td>188.64800</td>\n",
       "      <td>64</td>\n",
       "    </tr>\n",
       "    <tr>\n",
       "      <th>1926</th>\n",
       "      <td>15415.0</td>\n",
       "      <td>2011-01-30</td>\n",
       "      <td>245</td>\n",
       "      <td>1</td>\n",
       "      <td>551.0</td>\n",
       "      <td>559.61</td>\n",
       "      <td>559.61000</td>\n",
       "      <td>46</td>\n",
       "    </tr>\n",
       "    <tr>\n",
       "      <th>421</th>\n",
       "      <td>12995.0</td>\n",
       "      <td>2011-09-23</td>\n",
       "      <td>9</td>\n",
       "      <td>2</td>\n",
       "      <td>98.0</td>\n",
       "      <td>200.72</td>\n",
       "      <td>100.36000</td>\n",
       "      <td>3</td>\n",
       "    </tr>\n",
       "    <tr>\n",
       "      <th>2169</th>\n",
       "      <td>15819.0</td>\n",
       "      <td>2011-07-31</td>\n",
       "      <td>63</td>\n",
       "      <td>3</td>\n",
       "      <td>1139.0</td>\n",
       "      <td>1585.47</td>\n",
       "      <td>528.49000</td>\n",
       "      <td>83</td>\n",
       "    </tr>\n",
       "    <tr>\n",
       "      <th>3305</th>\n",
       "      <td>17709.0</td>\n",
       "      <td>2011-06-23</td>\n",
       "      <td>101</td>\n",
       "      <td>1</td>\n",
       "      <td>17.0</td>\n",
       "      <td>137.45</td>\n",
       "      <td>137.45000</td>\n",
       "      <td>7</td>\n",
       "    </tr>\n",
       "    <tr>\n",
       "      <th>2967</th>\n",
       "      <td>17142.0</td>\n",
       "      <td>2011-04-14</td>\n",
       "      <td>171</td>\n",
       "      <td>1</td>\n",
       "      <td>81.0</td>\n",
       "      <td>579.00</td>\n",
       "      <td>579.00000</td>\n",
       "      <td>15</td>\n",
       "    </tr>\n",
       "  </tbody>\n",
       "</table>\n",
       "</div>"
      ],
      "text/plain": [
       "      CustomerID InvoiceDay  Days_Since_Last_Purchase  Total_Transactions  \\\n",
       "2078     15670.0 2011-02-16                       228                   1   \n",
       "2709     16712.0 2011-09-05                        27                   8   \n",
       "1571     14847.0 2011-07-14                        80                   1   \n",
       "2799     16852.0 2011-06-16                       108                   1   \n",
       "2976     17159.0 2011-09-25                         7                   2   \n",
       "897      13756.0 2011-09-07                        25                   8   \n",
       "288      12779.0 2011-06-03                       121                  10   \n",
       "879      13730.0 2011-07-27                        67                   2   \n",
       "806      13610.0 2011-08-21                        42                   6   \n",
       "870      13717.0 2011-08-03                        60                   5   \n",
       "1926     15415.0 2011-01-30                       245                   1   \n",
       "421      12995.0 2011-09-23                         9                   2   \n",
       "2169     15819.0 2011-07-31                        63                   3   \n",
       "3305     17709.0 2011-06-23                       101                   1   \n",
       "2967     17142.0 2011-04-14                       171                   1   \n",
       "\n",
       "      Total_Products_Purchased  Total_Spend  Average_Transaction_Value  \\\n",
       "2078                      91.0       173.05                  173.05000   \n",
       "2709                    1157.0      2489.81                  311.22625   \n",
       "1571                     120.0       309.40                  309.40000   \n",
       "2799                      51.0       113.06                  113.06000   \n",
       "2976                     546.0       926.67                  463.33500   \n",
       "897                     1843.0      2972.33                  371.54125   \n",
       "288                     1365.0      2906.11                  290.61100   \n",
       "879                      488.0       752.60                  376.30000   \n",
       "806                      363.0       756.81                  126.13500   \n",
       "870                     1566.0       943.24                  188.64800   \n",
       "1926                     551.0       559.61                  559.61000   \n",
       "421                       98.0       200.72                  100.36000   \n",
       "2169                    1139.0      1585.47                  528.49000   \n",
       "3305                      17.0       137.45                  137.45000   \n",
       "2967                      81.0       579.00                  579.00000   \n",
       "\n",
       "      Unique_Products_Purchased  \n",
       "2078                         12  \n",
       "2709                        170  \n",
       "1571                         13  \n",
       "2799                          7  \n",
       "2976                         51  \n",
       "897                          55  \n",
       "288                          68  \n",
       "879                          38  \n",
       "806                         140  \n",
       "870                          64  \n",
       "1926                         46  \n",
       "421                           3  \n",
       "2169                         83  \n",
       "3305                          7  \n",
       "2967                         15  "
      ]
     },
     "execution_count": 39,
     "metadata": {},
     "output_type": "execute_result"
    }
   ],
   "source": [
    "customer_data.sample(15)"
   ]
  },
  {
   "cell_type": "markdown",
   "id": "ef5beaa9",
   "metadata": {
    "papermill": {
     "duration": 0.068876,
     "end_time": "2023-09-13T18:55:55.902838",
     "exception": false,
     "start_time": "2023-09-13T18:55:55.833962",
     "status": "completed"
    },
    "tags": []
   },
   "source": [
    "<a id=\"behaviroal_features\"></a>\n",
    "# <b><span style='color:#fcc36d'>Step 4.3 |</span><span style='color:#ff6200'> Behavioral Features</span></b>\n",
    "⬆️ [Tabel of Contents](#contents_tabel)"
   ]
  },
  {
   "cell_type": "markdown",
   "id": "115bd31a",
   "metadata": {
    "papermill": {
     "duration": 0.068002,
     "end_time": "2023-09-13T18:55:56.037118",
     "exception": false,
     "start_time": "2023-09-13T18:55:55.969116",
     "status": "completed"
    },
    "tags": []
   },
   "source": [
    "<div style=\"border-radius:10px; padding: 15px; background-color: #ffeacc; font-size:120%; text-align:left\">\n",
    "\n",
    "In this step, we aim to understand and capture the shopping patterns and behaviors of customers. These features will give us insights into the customers' preferences regarding when they like to shop, which can be crucial information for personalizing their shopping experience. Here are the features I am planning to introduce:\n",
    "\n",
    "- __Average Days Between Purchases__: This feature represents the average number of days a customer waits before making another purchase. Understanding this can help in predicting when the customer is likely to make their next purchase, which can be a crucial metric for targeted marketing and personalized promotions.\n",
    "\n",
    "    \n",
    "- __Favorite Shopping Day__: This denotes the day of the week when the customer shops the most. This information can help in identifying the preferred shopping days of different customer segments, which can be used to optimize marketing strategies and promotions for different days of the week.\n",
    "\n",
    "    \n",
    "- __Favorite Shopping Hour__: This refers to the hour of the day when the customer shops the most. Identifying the favorite shopping hour can aid in optimizing the timing of marketing campaigns and promotions to align with the times when different customer segments are most active.\n",
    "\n",
    "    \n",
    "By including these behavioral features in our dataset, we can create a more rounded view of our customers, which will potentially enhance the effectiveness of the clustering algorithm, leading to more meaningful customer segments."
   ]
  },
  {
   "cell_type": "code",
   "execution_count": 40,
   "id": "25325c84",
   "metadata": {
    "execution": {
     "iopub.execute_input": "2023-09-13T18:55:56.174096Z",
     "iopub.status.busy": "2023-09-13T18:55:56.172481Z",
     "iopub.status.idle": "2023-09-13T18:56:03.425830Z",
     "shell.execute_reply": "2023-09-13T18:56:03.424354Z"
    },
    "papermill": {
     "duration": 7.324267,
     "end_time": "2023-09-13T18:56:03.428738",
     "exception": false,
     "start_time": "2023-09-13T18:55:56.104471",
     "status": "completed"
    },
    "tags": []
   },
   "outputs": [
    {
     "ename": "KeyError",
     "evalue": "'Column not found: InvoiceDay'",
     "output_type": "error",
     "traceback": [
      "\u001b[1;31m---------------------------------------------------------------------------\u001b[0m",
      "\u001b[1;31mKeyError\u001b[0m                                  Traceback (most recent call last)",
      "Cell \u001b[1;32mIn[40], line 6\u001b[0m\n\u001b[0;32m      3\u001b[0m df[\u001b[38;5;124m'\u001b[39m\u001b[38;5;124mHour\u001b[39m\u001b[38;5;124m'\u001b[39m] \u001b[38;5;241m=\u001b[39m df[\u001b[38;5;124m'\u001b[39m\u001b[38;5;124mInvoiceDate\u001b[39m\u001b[38;5;124m'\u001b[39m]\u001b[38;5;241m.\u001b[39mdt\u001b[38;5;241m.\u001b[39mhour\n\u001b[0;32m      5\u001b[0m \u001b[38;5;66;03m# Calculate the average number of days between consecutive purchases\u001b[39;00m\n\u001b[1;32m----> 6\u001b[0m days_between_purchases \u001b[38;5;241m=\u001b[39m \u001b[43mdf\u001b[49m\u001b[38;5;241;43m.\u001b[39;49m\u001b[43mgroupby\u001b[49m\u001b[43m(\u001b[49m\u001b[38;5;124;43m'\u001b[39;49m\u001b[38;5;124;43mCustomerID\u001b[39;49m\u001b[38;5;124;43m'\u001b[39;49m\u001b[43m)\u001b[49m\u001b[43m[\u001b[49m\u001b[38;5;124;43m'\u001b[39;49m\u001b[38;5;124;43mInvoiceDay\u001b[39;49m\u001b[38;5;124;43m'\u001b[39;49m\u001b[43m]\u001b[49m\u001b[38;5;241m.\u001b[39mapply(\u001b[38;5;28;01mlambda\u001b[39;00m x: (x\u001b[38;5;241m.\u001b[39mdiff()\u001b[38;5;241m.\u001b[39mdropna())\u001b[38;5;241m.\u001b[39mapply(\u001b[38;5;28;01mlambda\u001b[39;00m y: y\u001b[38;5;241m.\u001b[39mdays))\n\u001b[0;32m      7\u001b[0m average_days_between_purchases \u001b[38;5;241m=\u001b[39m days_between_purchases\u001b[38;5;241m.\u001b[39mgroupby(\u001b[38;5;124m'\u001b[39m\u001b[38;5;124mCustomerID\u001b[39m\u001b[38;5;124m'\u001b[39m)\u001b[38;5;241m.\u001b[39mmean()\u001b[38;5;241m.\u001b[39mreset_index()\n\u001b[0;32m      8\u001b[0m average_days_between_purchases\u001b[38;5;241m.\u001b[39mrename(columns\u001b[38;5;241m=\u001b[39m{\u001b[38;5;124m'\u001b[39m\u001b[38;5;124mInvoiceDay\u001b[39m\u001b[38;5;124m'\u001b[39m: \u001b[38;5;124m'\u001b[39m\u001b[38;5;124mAverage_Days_Between_Purchases\u001b[39m\u001b[38;5;124m'\u001b[39m}, inplace\u001b[38;5;241m=\u001b[39m\u001b[38;5;28;01mTrue\u001b[39;00m)\n",
      "File \u001b[1;32mc:\\Users\\Bhuvaneswari\\AppData\\Local\\Programs\\Python\\Python311\\Lib\\site-packages\\pandas\\core\\groupby\\generic.py:1964\u001b[0m, in \u001b[0;36mDataFrameGroupBy.__getitem__\u001b[1;34m(self, key)\u001b[0m\n\u001b[0;32m   1957\u001b[0m \u001b[38;5;28;01mif\u001b[39;00m \u001b[38;5;28misinstance\u001b[39m(key, \u001b[38;5;28mtuple\u001b[39m) \u001b[38;5;129;01mand\u001b[39;00m \u001b[38;5;28mlen\u001b[39m(key) \u001b[38;5;241m>\u001b[39m \u001b[38;5;241m1\u001b[39m:\n\u001b[0;32m   1958\u001b[0m     \u001b[38;5;66;03m# if len == 1, then it becomes a SeriesGroupBy and this is actually\u001b[39;00m\n\u001b[0;32m   1959\u001b[0m     \u001b[38;5;66;03m# valid syntax, so don't raise\u001b[39;00m\n\u001b[0;32m   1960\u001b[0m     \u001b[38;5;28;01mraise\u001b[39;00m \u001b[38;5;167;01mValueError\u001b[39;00m(\n\u001b[0;32m   1961\u001b[0m         \u001b[38;5;124m\"\u001b[39m\u001b[38;5;124mCannot subset columns with a tuple with more than one element. \u001b[39m\u001b[38;5;124m\"\u001b[39m\n\u001b[0;32m   1962\u001b[0m         \u001b[38;5;124m\"\u001b[39m\u001b[38;5;124mUse a list instead.\u001b[39m\u001b[38;5;124m\"\u001b[39m\n\u001b[0;32m   1963\u001b[0m     )\n\u001b[1;32m-> 1964\u001b[0m \u001b[38;5;28;01mreturn\u001b[39;00m \u001b[38;5;28;43msuper\u001b[39;49m\u001b[43m(\u001b[49m\u001b[43m)\u001b[49m\u001b[38;5;241;43m.\u001b[39;49m\u001b[38;5;21;43m__getitem__\u001b[39;49m\u001b[43m(\u001b[49m\u001b[43mkey\u001b[49m\u001b[43m)\u001b[49m\n",
      "File \u001b[1;32mc:\\Users\\Bhuvaneswari\\AppData\\Local\\Programs\\Python\\Python311\\Lib\\site-packages\\pandas\\core\\base.py:244\u001b[0m, in \u001b[0;36mSelectionMixin.__getitem__\u001b[1;34m(self, key)\u001b[0m\n\u001b[0;32m    242\u001b[0m \u001b[38;5;28;01melse\u001b[39;00m:\n\u001b[0;32m    243\u001b[0m     \u001b[38;5;28;01mif\u001b[39;00m key \u001b[38;5;129;01mnot\u001b[39;00m \u001b[38;5;129;01min\u001b[39;00m \u001b[38;5;28mself\u001b[39m\u001b[38;5;241m.\u001b[39mobj:\n\u001b[1;32m--> 244\u001b[0m         \u001b[38;5;28;01mraise\u001b[39;00m \u001b[38;5;167;01mKeyError\u001b[39;00m(\u001b[38;5;124mf\u001b[39m\u001b[38;5;124m\"\u001b[39m\u001b[38;5;124mColumn not found: \u001b[39m\u001b[38;5;132;01m{\u001b[39;00mkey\u001b[38;5;132;01m}\u001b[39;00m\u001b[38;5;124m\"\u001b[39m)\n\u001b[0;32m    245\u001b[0m     ndim \u001b[38;5;241m=\u001b[39m \u001b[38;5;28mself\u001b[39m\u001b[38;5;241m.\u001b[39mobj[key]\u001b[38;5;241m.\u001b[39mndim\n\u001b[0;32m    246\u001b[0m     \u001b[38;5;28;01mreturn\u001b[39;00m \u001b[38;5;28mself\u001b[39m\u001b[38;5;241m.\u001b[39m_gotitem(key, ndim\u001b[38;5;241m=\u001b[39mndim)\n",
      "\u001b[1;31mKeyError\u001b[0m: 'Column not found: InvoiceDay'"
     ]
    }
   ],
   "source": [
    "# Extract day of week and hour from InvoiceDate\n",
    "df['Day_Of_Week'] = df['InvoiceDate'].dt.dayofweek\n",
    "df['Hour'] = df['InvoiceDate'].dt.hour\n",
    "\n",
    "# Calculate the average number of days between consecutive purchases\n",
    "days_between_purchases = df.groupby('CustomerID')['InvoiceDay'].apply(lambda x: (x.diff().dropna()).apply(lambda y: y.days))\n",
    "average_days_between_purchases = days_between_purchases.groupby('CustomerID').mean().reset_index()\n",
    "average_days_between_purchases.rename(columns={'InvoiceDay': 'Average_Days_Between_Purchases'}, inplace=True)\n",
    "\n",
    "# Find the favorite shopping day of the week\n",
    "favorite_shopping_day = df.groupby(['CustomerID', 'Day_Of_Week']).size().reset_index(name='Count')\n",
    "favorite_shopping_day = favorite_shopping_day.loc[favorite_shopping_day.groupby('CustomerID')['Count'].idxmax()][['CustomerID', 'Day_Of_Week']]\n",
    "\n",
    "# Find the favorite shopping hour of the day\n",
    "favorite_shopping_hour = df.groupby(['CustomerID', 'Hour']).size().reset_index(name='Count')\n",
    "favorite_shopping_hour = favorite_shopping_hour.loc[favorite_shopping_hour.groupby('CustomerID')['Count'].idxmax()][['CustomerID', 'Hour']]\n",
    "\n",
    "# Merge the new features into the customer_data dataframe\n",
    "customer_data = pd.merge(customer_data, average_days_between_purchases, on='CustomerID')\n",
    "customer_data = pd.merge(customer_data, favorite_shopping_day, on='CustomerID') \n",
    "customer_data = pd.merge(customer_data, favorite_shopping_hour, on='CustomerID') \n",
    "\n",
    "# Display the first few rows of the customer_data dataframe\n",
    "customer_data.head()"
   ]
  },
  {
   "cell_type": "markdown",
   "id": "18dcba45",
   "metadata": {
    "papermill": {
     "duration": 0.068396,
     "end_time": "2023-09-13T18:56:03.569155",
     "exception": false,
     "start_time": "2023-09-13T18:56:03.500759",
     "status": "completed"
    },
    "tags": []
   },
   "source": [
    "<a id=\"geographical_features\"></a>\n",
    "# <b><span style='color:#fcc36d'>Step 4.4 |</span><span style='color:#ff6200'> Geographic Features</span></b>\n",
    "⬆️ [Tabel of Contents](#contents_tabel)"
   ]
  },
  {
   "cell_type": "markdown",
   "id": "869bd60e",
   "metadata": {
    "papermill": {
     "duration": 0.08516,
     "end_time": "2023-09-13T18:56:03.724226",
     "exception": false,
     "start_time": "2023-09-13T18:56:03.639066",
     "status": "completed"
    },
    "tags": []
   },
   "source": [
    "<div style=\"border-radius:10px; padding: 15px; background-color: #ffeacc; font-size:120%; text-align:left\">\n",
    "    \n",
    "In this step, we will introduce a geographic feature that reflects the geographical location of customers. Understanding the geographic distribution of customers is pivotal for several reasons:\n",
    "\n",
    "- __Country__: This feature identifies the country where each customer is located. Including the country data can help us understand region-specific buying patterns and preferences. Different regions might have varying preferences and purchasing behaviors which can be critical in personalizing marketing strategies and inventory planning. Furthermore, it can be instrumental in logistics and supply chain optimization, particularly for an online retailer where shipping and delivery play a significant role."
   ]
  },
  {
   "cell_type": "code",
   "execution_count": null,
   "id": "517c5883",
   "metadata": {
    "execution": {
     "iopub.execute_input": "2023-09-13T18:56:03.863797Z",
     "iopub.status.busy": "2023-09-13T18:56:03.863308Z",
     "iopub.status.idle": "2023-09-13T18:56:03.942159Z",
     "shell.execute_reply": "2023-09-13T18:56:03.940931Z"
    },
    "papermill": {
     "duration": 0.150849,
     "end_time": "2023-09-13T18:56:03.944819",
     "exception": false,
     "start_time": "2023-09-13T18:56:03.793970",
     "status": "completed"
    },
    "tags": []
   },
   "outputs": [
    {
     "data": {
      "text/plain": [
       "Country\n",
       "United Kingdom    0.890971\n",
       "Germany           0.022722\n",
       "France            0.020402\n",
       "EIRE              0.018440\n",
       "Spain             0.006162\n",
       "Name: proportion, dtype: float64"
      ]
     },
     "execution_count": 77,
     "metadata": {},
     "output_type": "execute_result"
    }
   ],
   "source": [
    "df['Country'].value_counts(normalize=True).head()"
   ]
  },
  {
   "cell_type": "markdown",
   "id": "e338f422",
   "metadata": {
    "papermill": {
     "duration": 0.066789,
     "end_time": "2023-09-13T18:56:04.078489",
     "exception": false,
     "start_time": "2023-09-13T18:56:04.011700",
     "status": "completed"
    },
    "tags": []
   },
   "source": [
    "<div style=\"border-radius:10px; padding: 15px; background-color: #ffeacc; font-size:120%; text-align:left\">\n",
    "<h3 align=\"left\"><font color=#ff6200>Inference: </font></h3>\n",
    "    \n",
    "Write Inference :\n",
    "Given that a substantial portion (89%) of transactions are originating from the United Kingdom, we might consider creating a binary feature indicating whether the transaction is from the UK or not. This approach can potentially streamline the clustering process without losing critical geographical information, especially when considering the application of algorithms like K-means which are sensitive to the dimensionality of the feature space."
   ]
  },
  {
   "cell_type": "markdown",
   "id": "378f2001",
   "metadata": {
    "papermill": {
     "duration": 0.067358,
     "end_time": "2023-09-13T18:56:04.214871",
     "exception": false,
     "start_time": "2023-09-13T18:56:04.147513",
     "status": "completed"
    },
    "tags": []
   },
   "source": [
    "<div style=\"border-radius:10px; padding: 15px; background-color: #ffeacc; font-size:120%; text-align:left\">\n",
    "<h3 align=\"left\"><font color=#ff6200>Methodology: </font></h3>\n",
    "\n",
    "- First, we will group the data by `CustomerID` and `Country` and calculate the number of transactions per country for each customer.\n",
    "\n",
    "- Next, we will identify the main country for each customer (the country from which they have the maximum transactions).\n",
    "    \n",
    "- Then, we will create a binary column indicating whether the customer is from the UK or not.\n",
    "    \n",
    "- Finally, we will merge this information with the `customer_data` dataframe to include the new feature in our analysis."
   ]
  },
  {
   "cell_type": "code",
   "execution_count": null,
   "id": "076d45c4",
   "metadata": {
    "execution": {
     "iopub.execute_input": "2023-09-13T18:56:04.351247Z",
     "iopub.status.busy": "2023-09-13T18:56:04.350437Z",
     "iopub.status.idle": "2023-09-13T18:56:04.446033Z",
     "shell.execute_reply": "2023-09-13T18:56:04.445152Z"
    },
    "papermill": {
     "duration": 0.167104,
     "end_time": "2023-09-13T18:56:04.448331",
     "exception": false,
     "start_time": "2023-09-13T18:56:04.281227",
     "status": "completed"
    },
    "tags": []
   },
   "outputs": [
    {
     "data": {
      "text/html": [
       "<div>\n",
       "<style scoped>\n",
       "    .dataframe tbody tr th:only-of-type {\n",
       "        vertical-align: middle;\n",
       "    }\n",
       "\n",
       "    .dataframe tbody tr th {\n",
       "        vertical-align: top;\n",
       "    }\n",
       "\n",
       "    .dataframe thead th {\n",
       "        text-align: right;\n",
       "    }\n",
       "</style>\n",
       "<table border=\"1\" class=\"dataframe\">\n",
       "  <thead>\n",
       "    <tr style=\"text-align: right;\">\n",
       "      <th></th>\n",
       "      <th>CustomerID</th>\n",
       "      <th>Days_Since_Last_Purchase</th>\n",
       "      <th>Total_Transactions</th>\n",
       "      <th>Total_Products_Purchased</th>\n",
       "      <th>Total_Spend</th>\n",
       "      <th>Average_Transaction_Value</th>\n",
       "      <th>Unique_Products_Purchased</th>\n",
       "      <th>Average_Days_Between_Purchases</th>\n",
       "      <th>Day_Of_Week</th>\n",
       "      <th>Hour</th>\n",
       "      <th>Is_UK</th>\n",
       "    </tr>\n",
       "  </thead>\n",
       "  <tbody>\n",
       "    <tr>\n",
       "      <th>3031</th>\n",
       "      <td>16520.0</td>\n",
       "      <td>186</td>\n",
       "      <td>4</td>\n",
       "      <td>557</td>\n",
       "      <td>1036.62</td>\n",
       "      <td>259.155000</td>\n",
       "      <td>129</td>\n",
       "      <td>1.147436</td>\n",
       "      <td>3</td>\n",
       "      <td>13</td>\n",
       "      <td>1</td>\n",
       "    </tr>\n",
       "    <tr>\n",
       "      <th>506</th>\n",
       "      <td>13006.0</td>\n",
       "      <td>56</td>\n",
       "      <td>1</td>\n",
       "      <td>55</td>\n",
       "      <td>81.57</td>\n",
       "      <td>81.570000</td>\n",
       "      <td>4</td>\n",
       "      <td>0.000000</td>\n",
       "      <td>4</td>\n",
       "      <td>13</td>\n",
       "      <td>1</td>\n",
       "    </tr>\n",
       "    <tr>\n",
       "      <th>127</th>\n",
       "      <td>12507.0</td>\n",
       "      <td>134</td>\n",
       "      <td>4</td>\n",
       "      <td>874</td>\n",
       "      <td>1006.06</td>\n",
       "      <td>251.515000</td>\n",
       "      <td>18</td>\n",
       "      <td>8.631579</td>\n",
       "      <td>0</td>\n",
       "      <td>9</td>\n",
       "      <td>0</td>\n",
       "    </tr>\n",
       "    <tr>\n",
       "      <th>3845</th>\n",
       "      <td>17669.0</td>\n",
       "      <td>42</td>\n",
       "      <td>7</td>\n",
       "      <td>1916</td>\n",
       "      <td>3406.72</td>\n",
       "      <td>486.674286</td>\n",
       "      <td>45</td>\n",
       "      <td>3.089552</td>\n",
       "      <td>3</td>\n",
       "      <td>13</td>\n",
       "      <td>1</td>\n",
       "    </tr>\n",
       "    <tr>\n",
       "      <th>1706</th>\n",
       "      <td>14690.0</td>\n",
       "      <td>44</td>\n",
       "      <td>3</td>\n",
       "      <td>160</td>\n",
       "      <td>341.96</td>\n",
       "      <td>113.986667</td>\n",
       "      <td>42</td>\n",
       "      <td>2.098039</td>\n",
       "      <td>0</td>\n",
       "      <td>11</td>\n",
       "      <td>1</td>\n",
       "    </tr>\n",
       "  </tbody>\n",
       "</table>\n",
       "</div>"
      ],
      "text/plain": [
       "      CustomerID  Days_Since_Last_Purchase  Total_Transactions  \\\n",
       "3031     16520.0                       186                   4   \n",
       "506      13006.0                        56                   1   \n",
       "127      12507.0                       134                   4   \n",
       "3845     17669.0                        42                   7   \n",
       "1706     14690.0                        44                   3   \n",
       "\n",
       "      Total_Products_Purchased  Total_Spend  Average_Transaction_Value  \\\n",
       "3031                       557      1036.62                 259.155000   \n",
       "506                         55        81.57                  81.570000   \n",
       "127                        874      1006.06                 251.515000   \n",
       "3845                      1916      3406.72                 486.674286   \n",
       "1706                       160       341.96                 113.986667   \n",
       "\n",
       "      Unique_Products_Purchased  Average_Days_Between_Purchases  Day_Of_Week  \\\n",
       "3031                        129                        1.147436            3   \n",
       "506                           4                        0.000000            4   \n",
       "127                          18                        8.631579            0   \n",
       "3845                         45                        3.089552            3   \n",
       "1706                         42                        2.098039            0   \n",
       "\n",
       "      Hour  Is_UK  \n",
       "3031    13      1  \n",
       "506     13      1  \n",
       "127      9      0  \n",
       "3845    13      1  \n",
       "1706    11      1  "
      ]
     },
     "execution_count": 164,
     "metadata": {},
     "output_type": "execute_result"
    }
   ],
   "source": [
    "# Group by CustomerID and Country to get the number of transactions per country for each customer\n",
    "customer_country = df.groupby(['CustomerID', 'Country']).size().reset_index(name='Number_of_Transactions')\n",
    "\n",
    "# Get the country with the maximum number of transactions for each customer (in case a customer has transactions from multiple countries)\n",
    "customer_main_country = customer_country.sort_values('Number_of_Transactions', ascending=False).drop_duplicates('CustomerID')\n",
    "\n",
    "# Create a binary column indicating whether the customer is from the UK or not\n",
    "customer_main_country['Is_UK'] = customer_main_country['Country'].apply(lambda x: 1 if x == 'United Kingdom' else 0)\n",
    "\n",
    "# Merge this data with our customer_data dataframe\n",
    "customer_data = pd.merge(customer_data, customer_main_country[['CustomerID', 'Is_UK']], on='CustomerID', how='left')\n",
    "\n",
    "# Display the first few rows of the customer_data dataframe\n",
    "customer_data.sample(5)"
   ]
  },
  {
   "cell_type": "code",
   "execution_count": null,
   "id": "172aabff",
   "metadata": {
    "execution": {
     "iopub.execute_input": "2023-09-13T18:56:04.590904Z",
     "iopub.status.busy": "2023-09-13T18:56:04.589819Z",
     "iopub.status.idle": "2023-09-13T18:56:04.598639Z",
     "shell.execute_reply": "2023-09-13T18:56:04.597658Z"
    },
    "papermill": {
     "duration": 0.081428,
     "end_time": "2023-09-13T18:56:04.601164",
     "exception": false,
     "start_time": "2023-09-13T18:56:04.519736",
     "status": "completed"
    },
    "tags": []
   },
   "outputs": [
    {
     "data": {
      "text/plain": [
       "Is_UK\n",
       "1    3866\n",
       "0     416\n",
       "Name: count, dtype: int64"
      ]
     },
     "execution_count": 165,
     "metadata": {},
     "output_type": "execute_result"
    }
   ],
   "source": [
    "# Display feature distribution\n",
    "customer_data['Is_UK'].value_counts()"
   ]
  },
  {
   "cell_type": "markdown",
   "id": "54878de8",
   "metadata": {
    "papermill": {
     "duration": 0.068165,
     "end_time": "2023-09-13T18:56:04.736100",
     "exception": false,
     "start_time": "2023-09-13T18:56:04.667935",
     "status": "completed"
    },
    "tags": []
   },
   "source": [
    "<a id=\"cancellation_insights\"></a>\n",
    "# <b><span style='color:#fcc36d'>Step 4.5 |</span><span style='color:#ff6200'> Cancellation Insights</span></b>\n",
    "⬆️ [Tabel of Contents](#contents_tabel)"
   ]
  },
  {
   "cell_type": "markdown",
   "id": "c221e4d1",
   "metadata": {
    "papermill": {
     "duration": 0.068456,
     "end_time": "2023-09-13T18:56:04.871071",
     "exception": false,
     "start_time": "2023-09-13T18:56:04.802615",
     "status": "completed"
    },
    "tags": []
   },
   "source": [
    "<div style=\"border-radius:10px; padding: 15px; background-color: #ffeacc; font-size:120%; text-align:left\">\n",
    "\n",
    "In this step, We are going to delve deeper into the cancellation patterns of customers to gain insights that can enhance our customer segmentation model. The features I am planning to introduce are:\n",
    "\n",
    "- __Cancellation Frequency__: This metric represents the total number of transactions a customer has canceled. Understanding the frequency of cancellations can help us identify customers who are more likely to cancel transactions. This could be an indicator of dissatisfaction or other issues, and understanding this can help us tailor strategies to reduce cancellations and enhance customer satisfaction.\n",
    "\n",
    "    \n",
    "- __Cancellation Rate__: This represents the proportion of transactions that a customer has canceled out of all their transactions. This metric gives a normalized view of cancellation behavior. A high cancellation rate might be indicative of an unsatisfied customer segment. By identifying these segments, we can develop targeted strategies to improve their shopping experience and potentially reduce the cancellation rate.\n",
    "\n",
    "By incorporating these cancellation insights into our dataset, we can build a more comprehensive view of customer behavior, which could potentially aid in creating more effective and nuanced customer segmentation.\n"
   ]
  },
  {
   "cell_type": "code",
   "execution_count": null,
   "id": "65a2c273",
   "metadata": {
    "execution": {
     "iopub.execute_input": "2023-09-13T18:56:05.006659Z",
     "iopub.status.busy": "2023-09-13T18:56:05.006107Z",
     "iopub.status.idle": "2023-09-13T18:56:05.199561Z",
     "shell.execute_reply": "2023-09-13T18:56:05.198182Z"
    },
    "papermill": {
     "duration": 0.264581,
     "end_time": "2023-09-13T18:56:05.202510",
     "exception": false,
     "start_time": "2023-09-13T18:56:04.937929",
     "status": "completed"
    },
    "tags": []
   },
   "outputs": [
    {
     "data": {
      "text/html": [
       "<div>\n",
       "<style scoped>\n",
       "    .dataframe tbody tr th:only-of-type {\n",
       "        vertical-align: middle;\n",
       "    }\n",
       "\n",
       "    .dataframe tbody tr th {\n",
       "        vertical-align: top;\n",
       "    }\n",
       "\n",
       "    .dataframe thead th {\n",
       "        text-align: right;\n",
       "    }\n",
       "</style>\n",
       "<table border=\"1\" class=\"dataframe\">\n",
       "  <thead>\n",
       "    <tr style=\"text-align: right;\">\n",
       "      <th></th>\n",
       "      <th>CustomerID</th>\n",
       "      <th>InvoiceDay</th>\n",
       "      <th>Days_Since_Last_Purchase</th>\n",
       "      <th>Total_Transactions</th>\n",
       "      <th>Total_Products_Purchased</th>\n",
       "      <th>Total_Spend</th>\n",
       "      <th>Average_Transaction_Value</th>\n",
       "      <th>Unique_Products_Purchased</th>\n",
       "      <th>Cancellation_Frequency</th>\n",
       "      <th>Cancellation_Rate</th>\n",
       "    </tr>\n",
       "  </thead>\n",
       "  <tbody>\n",
       "    <tr>\n",
       "      <th>3593</th>\n",
       "      <td>18203.0</td>\n",
       "      <td>2011-07-05</td>\n",
       "      <td>89</td>\n",
       "      <td>1</td>\n",
       "      <td>43.0</td>\n",
       "      <td>160.42</td>\n",
       "      <td>160.420000</td>\n",
       "      <td>19</td>\n",
       "      <td>0.0</td>\n",
       "      <td>0.000000</td>\n",
       "    </tr>\n",
       "    <tr>\n",
       "      <th>2319</th>\n",
       "      <td>16085.0</td>\n",
       "      <td>2011-09-21</td>\n",
       "      <td>11</td>\n",
       "      <td>3</td>\n",
       "      <td>374.0</td>\n",
       "      <td>619.65</td>\n",
       "      <td>206.550000</td>\n",
       "      <td>86</td>\n",
       "      <td>0.0</td>\n",
       "      <td>0.000000</td>\n",
       "    </tr>\n",
       "    <tr>\n",
       "      <th>3305</th>\n",
       "      <td>17709.0</td>\n",
       "      <td>2011-06-23</td>\n",
       "      <td>101</td>\n",
       "      <td>1</td>\n",
       "      <td>17.0</td>\n",
       "      <td>137.45</td>\n",
       "      <td>137.450000</td>\n",
       "      <td>7</td>\n",
       "      <td>0.0</td>\n",
       "      <td>0.000000</td>\n",
       "    </tr>\n",
       "    <tr>\n",
       "      <th>3256</th>\n",
       "      <td>17643.0</td>\n",
       "      <td>2010-12-01</td>\n",
       "      <td>305</td>\n",
       "      <td>1</td>\n",
       "      <td>71.0</td>\n",
       "      <td>101.55</td>\n",
       "      <td>101.550000</td>\n",
       "      <td>8</td>\n",
       "      <td>0.0</td>\n",
       "      <td>0.000000</td>\n",
       "    </tr>\n",
       "    <tr>\n",
       "      <th>2609</th>\n",
       "      <td>16553.0</td>\n",
       "      <td>2011-06-29</td>\n",
       "      <td>95</td>\n",
       "      <td>14</td>\n",
       "      <td>4595.0</td>\n",
       "      <td>5664.57</td>\n",
       "      <td>404.612143</td>\n",
       "      <td>63</td>\n",
       "      <td>2.0</td>\n",
       "      <td>0.142857</td>\n",
       "    </tr>\n",
       "  </tbody>\n",
       "</table>\n",
       "</div>"
      ],
      "text/plain": [
       "      CustomerID InvoiceDay  Days_Since_Last_Purchase  Total_Transactions  \\\n",
       "3593     18203.0 2011-07-05                        89                   1   \n",
       "2319     16085.0 2011-09-21                        11                   3   \n",
       "3305     17709.0 2011-06-23                       101                   1   \n",
       "3256     17643.0 2010-12-01                       305                   1   \n",
       "2609     16553.0 2011-06-29                        95                  14   \n",
       "\n",
       "      Total_Products_Purchased  Total_Spend  Average_Transaction_Value  \\\n",
       "3593                      43.0       160.42                 160.420000   \n",
       "2319                     374.0       619.65                 206.550000   \n",
       "3305                      17.0       137.45                 137.450000   \n",
       "3256                      71.0       101.55                 101.550000   \n",
       "2609                    4595.0      5664.57                 404.612143   \n",
       "\n",
       "      Unique_Products_Purchased  Cancellation_Frequency  Cancellation_Rate  \n",
       "3593                         19                     0.0           0.000000  \n",
       "2319                         86                     0.0           0.000000  \n",
       "3305                          7                     0.0           0.000000  \n",
       "3256                          8                     0.0           0.000000  \n",
       "2609                         63                     2.0           0.142857  "
      ]
     },
     "execution_count": 46,
     "metadata": {},
     "output_type": "execute_result"
    }
   ],
   "source": [
    "# Calculate the total number of transactions made by each customer\n",
    "total_transactions = df.groupby('CustomerID')['InvoiceNo'].nunique().reset_index()\n",
    "\n",
    "# Calculate the number of cancelled transactions for each customer\n",
    "cancelled_transactions = df[df['Transaction_Status'] == 'Cancelled']\n",
    "cancellation_frequency = cancelled_transactions.groupby('CustomerID')['InvoiceNo'].nunique().reset_index()\n",
    "cancellation_frequency.rename(columns={'InvoiceNo': 'Cancellation_Frequency'}, inplace=True)\n",
    "#no. of cancellations per customer\n",
    "# Merge the Cancellation Frequency data into the customer_data dataframe\n",
    "customer_data = pd.merge(customer_data, cancellation_frequency, on='CustomerID', how='left')\n",
    "\n",
    "# Replace NaN values with 0 (for customers who have not cancelled any transaction)\n",
    "customer_data['Cancellation_Frequency'].fillna(0, inplace=True)\n",
    "\n",
    "# Calculate the Cancellation Rate\n",
    "customer_data['Cancellation_Rate'] = customer_data ['Cancellation_Frequency'] / total_transactions ['InvoiceNo']\n",
    "\n",
    "# Display the first few rows of the customer_data dataframe\n",
    "customer_data.sample(5)"
   ]
  },
  {
   "cell_type": "markdown",
   "id": "5c381571",
   "metadata": {
    "papermill": {
     "duration": 0.065303,
     "end_time": "2023-09-13T18:56:05.333472",
     "exception": false,
     "start_time": "2023-09-13T18:56:05.268169",
     "status": "completed"
    },
    "tags": []
   },
   "source": [
    "<a id=\"seasonality_trends\"></a>\n",
    "# <b><span style='color:#fcc36d'>Step 4.6 |</span><span style='color:#ff6200'> Seasonality & Trends</span></b>\n",
    "⬆️ [Tabel of Contents](#contents_tabel)"
   ]
  },
  {
   "cell_type": "markdown",
   "id": "597477c3",
   "metadata": {
    "papermill": {
     "duration": 0.065548,
     "end_time": "2023-09-13T18:56:05.465159",
     "exception": false,
     "start_time": "2023-09-13T18:56:05.399611",
     "status": "completed"
    },
    "tags": []
   },
   "source": [
    "<div style=\"border-radius:10px; padding: 15px; background-color: #ffeacc; font-size:120%; text-align:left\">\n",
    "\n",
    "In this step, we will delve into the seasonality and trends in customers' purchasing behaviors, which can offer invaluable insights for tailoring marketing strategies and enhancing customer satisfaction. Here are the features I am looking to introduce:\n",
    "\n",
    "- __Monthly_Spending_Mean__: This is the average amount a customer spends monthly. It helps us gauge the general spending habit of each customer. A higher mean indicates a customer who spends more, potentially showing interest in premium products, whereas a lower mean might indicate a more budget-conscious customer.\n",
    "\n",
    "    \n",
    "- __Monthly_Spending_Std__: This feature indicates the variability in a customer's monthly spending. A higher value signals that the customer's spending fluctuates significantly month-to-month, perhaps indicating sporadic large purchases. In contrast, a lower value suggests more stable, consistent spending habits. Understanding this variability can help in crafting personalized promotions or discounts during periods they are expected to spend more.\n",
    "\n",
    "    \n",
    "- __Spending_Trend__: This reflects the trend in a customer's spending over time, calculated as the slope of the linear trend line fitted to their spending data. A positive value indicates an increasing trend in spending, possibly pointing to growing loyalty or satisfaction. Conversely, a negative trend might signal decreasing interest or satisfaction, highlighting a need for re-engagement strategies. A near-zero value signifies stable spending habits. Recognizing these trends can help in developing strategies to either maintain or alter customer spending patterns, enhancing the effectiveness of marketing campaigns.\n",
    "\n",
    "By incorporating these detailed insights into our customer segmentation model, we can create more precise and actionable customer groups, facilitating the development of highly targeted marketing strategies and promotions.\n"
   ]
  },
  {
   "cell_type": "code",
   "execution_count": null,
   "id": "c5720ea3",
   "metadata": {
    "execution": {
     "iopub.execute_input": "2023-09-13T18:56:05.600610Z",
     "iopub.status.busy": "2023-09-13T18:56:05.600175Z",
     "iopub.status.idle": "2023-09-13T18:56:06.364797Z",
     "shell.execute_reply": "2023-09-13T18:56:06.363270Z"
    },
    "papermill": {
     "duration": 0.835651,
     "end_time": "2023-09-13T18:56:06.367576",
     "exception": false,
     "start_time": "2023-09-13T18:56:05.531925",
     "status": "completed"
    },
    "tags": []
   },
   "outputs": [
    {
     "data": {
      "text/html": [
       "<div>\n",
       "<style scoped>\n",
       "    .dataframe tbody tr th:only-of-type {\n",
       "        vertical-align: middle;\n",
       "    }\n",
       "\n",
       "    .dataframe tbody tr th {\n",
       "        vertical-align: top;\n",
       "    }\n",
       "\n",
       "    .dataframe thead th {\n",
       "        text-align: right;\n",
       "    }\n",
       "</style>\n",
       "<table border=\"1\" class=\"dataframe\">\n",
       "  <thead>\n",
       "    <tr style=\"text-align: right;\">\n",
       "      <th></th>\n",
       "      <th>CustomerID</th>\n",
       "      <th>Days_Since_Last_Purchase</th>\n",
       "      <th>Total_Transactions</th>\n",
       "      <th>Total_Products_Purchased</th>\n",
       "      <th>Total_Spend</th>\n",
       "      <th>Average_Transaction_Value</th>\n",
       "      <th>Unique_Products_Purchased</th>\n",
       "      <th>Average_Days_Between_Purchases</th>\n",
       "      <th>Day_Of_Week</th>\n",
       "      <th>Hour</th>\n",
       "      <th>Is_UK</th>\n",
       "      <th>Cancellation_Frequency</th>\n",
       "      <th>Cancellation_Rate</th>\n",
       "      <th>Monthly_Spending_Mean</th>\n",
       "      <th>Monthly_Spending_Std</th>\n",
       "      <th>Spending_Trend</th>\n",
       "    </tr>\n",
       "  </thead>\n",
       "  <tbody>\n",
       "    <tr>\n",
       "      <th>1610</th>\n",
       "      <td>14551.0</td>\n",
       "      <td>18</td>\n",
       "      <td>2</td>\n",
       "      <td>106</td>\n",
       "      <td>186.23</td>\n",
       "      <td>93.115000</td>\n",
       "      <td>9</td>\n",
       "      <td>20.666667</td>\n",
       "      <td>3</td>\n",
       "      <td>18</td>\n",
       "      <td>1</td>\n",
       "      <td>0.0</td>\n",
       "      <td>0.000000</td>\n",
       "      <td>93.115000</td>\n",
       "      <td>45.700311</td>\n",
       "      <td>-64.63</td>\n",
       "    </tr>\n",
       "    <tr>\n",
       "      <th>3936</th>\n",
       "      <td>17793.0</td>\n",
       "      <td>25</td>\n",
       "      <td>1</td>\n",
       "      <td>226</td>\n",
       "      <td>300.34</td>\n",
       "      <td>300.340000</td>\n",
       "      <td>49</td>\n",
       "      <td>0.000000</td>\n",
       "      <td>0</td>\n",
       "      <td>14</td>\n",
       "      <td>1</td>\n",
       "      <td>0.0</td>\n",
       "      <td>0.000000</td>\n",
       "      <td>300.340000</td>\n",
       "      <td>0.000000</td>\n",
       "      <td>0.00</td>\n",
       "    </tr>\n",
       "    <tr>\n",
       "      <th>13</th>\n",
       "      <td>12360.0</td>\n",
       "      <td>52</td>\n",
       "      <td>3</td>\n",
       "      <td>1156</td>\n",
       "      <td>2302.06</td>\n",
       "      <td>767.353333</td>\n",
       "      <td>104</td>\n",
       "      <td>1.184000</td>\n",
       "      <td>1</td>\n",
       "      <td>15</td>\n",
       "      <td>0</td>\n",
       "      <td>0.0</td>\n",
       "      <td>0.000000</td>\n",
       "      <td>767.353333</td>\n",
       "      <td>270.765748</td>\n",
       "      <td>0.10</td>\n",
       "    </tr>\n",
       "    <tr>\n",
       "      <th>1199</th>\n",
       "      <td>13989.0</td>\n",
       "      <td>65</td>\n",
       "      <td>2</td>\n",
       "      <td>1313</td>\n",
       "      <td>1266.08</td>\n",
       "      <td>633.040000</td>\n",
       "      <td>33</td>\n",
       "      <td>4.350000</td>\n",
       "      <td>3</td>\n",
       "      <td>15</td>\n",
       "      <td>1</td>\n",
       "      <td>0.0</td>\n",
       "      <td>0.000000</td>\n",
       "      <td>633.040000</td>\n",
       "      <td>372.829121</td>\n",
       "      <td>-527.26</td>\n",
       "    </tr>\n",
       "    <tr>\n",
       "      <th>3774</th>\n",
       "      <td>17573.0</td>\n",
       "      <td>29</td>\n",
       "      <td>4</td>\n",
       "      <td>302</td>\n",
       "      <td>362.90</td>\n",
       "      <td>90.725000</td>\n",
       "      <td>24</td>\n",
       "      <td>2.560000</td>\n",
       "      <td>3</td>\n",
       "      <td>13</td>\n",
       "      <td>1</td>\n",
       "      <td>1.0</td>\n",
       "      <td>0.090909</td>\n",
       "      <td>181.450000</td>\n",
       "      <td>23.956778</td>\n",
       "      <td>33.88</td>\n",
       "    </tr>\n",
       "  </tbody>\n",
       "</table>\n",
       "</div>"
      ],
      "text/plain": [
       "      CustomerID  Days_Since_Last_Purchase  Total_Transactions  \\\n",
       "1610     14551.0                        18                   2   \n",
       "3936     17793.0                        25                   1   \n",
       "13       12360.0                        52                   3   \n",
       "1199     13989.0                        65                   2   \n",
       "3774     17573.0                        29                   4   \n",
       "\n",
       "      Total_Products_Purchased  Total_Spend  Average_Transaction_Value  \\\n",
       "1610                       106       186.23                  93.115000   \n",
       "3936                       226       300.34                 300.340000   \n",
       "13                        1156      2302.06                 767.353333   \n",
       "1199                      1313      1266.08                 633.040000   \n",
       "3774                       302       362.90                  90.725000   \n",
       "\n",
       "      Unique_Products_Purchased  Average_Days_Between_Purchases  Day_Of_Week  \\\n",
       "1610                          9                       20.666667            3   \n",
       "3936                         49                        0.000000            0   \n",
       "13                          104                        1.184000            1   \n",
       "1199                         33                        4.350000            3   \n",
       "3774                         24                        2.560000            3   \n",
       "\n",
       "      Hour  Is_UK  Cancellation_Frequency  Cancellation_Rate  \\\n",
       "1610    18      1                     0.0           0.000000   \n",
       "3936    14      1                     0.0           0.000000   \n",
       "13      15      0                     0.0           0.000000   \n",
       "1199    15      1                     0.0           0.000000   \n",
       "3774    13      1                     1.0           0.090909   \n",
       "\n",
       "      Monthly_Spending_Mean  Monthly_Spending_Std  Spending_Trend  \n",
       "1610              93.115000             45.700311          -64.63  \n",
       "3936             300.340000              0.000000            0.00  \n",
       "13               767.353333            270.765748            0.10  \n",
       "1199             633.040000            372.829121         -527.26  \n",
       "3774             181.450000             23.956778           33.88  "
      ]
     },
     "execution_count": 168,
     "metadata": {},
     "output_type": "execute_result"
    }
   ],
   "source": [
    "# Extract month and year from InvoiceDate\n",
    "df['Year'] = df['InvoiceDate'].dt.year\n",
    "df['Month'] = df['InvoiceDate'].dt.month\n",
    "\n",
    "# Calculate monthly spending for each customer\n",
    "monthly_spending = df.groupby(['CustomerID', 'Year', 'Month'])['Total_Spend'].sum().reset_index()\n",
    "#print(monthly_spending)\n",
    "#Calculate Seasonal Buying Patterns: We are using monthly frequency as a proxy for seasonal buying patterns\n",
    "seasonal_buying_patterns = monthly_spending.groupby('CustomerID')['Total_Spend'].agg(['mean', 'std']).reset_index()\n",
    "seasonal_buying_patterns.rename(columns={'mean': 'Monthly_Spending_Mean', 'std': 'Monthly_Spending_Std'}, inplace=True)\n",
    "\n",
    "# Replace NaN values in Monthly_Spending_Std with 0, implying no variability for customers with single transaction month\n",
    "seasonal_buying_patterns['Monthly_Spending_Std'].fillna(0, inplace=True)\n",
    "\n",
    "# Calculate Trends in Spending \n",
    "# We are using the slope of the linear trend line fitted to the customer's spending over time as an indicator of spending trends\n",
    "def calculate_trend(spend_data):\n",
    "    # If there are more than one data points, we calculate the trend using linear regression\n",
    "    if len(spend_data) > 1:\n",
    "        x = np.arange(len(spend_data))\n",
    "        slope, _, _, _, _ = linregress(x, spend_data)\n",
    "        return slope\n",
    "    # If there is only one data point, no trend can be calculated, hence we return 0\n",
    "    else:\n",
    "        return 0\n",
    "\n",
    "# Apply the calculate_trend function to find the spending trend for each customer\n",
    "spending_trends = monthly_spending.groupby('CustomerID')['Total_Spend'].apply(calculate_trend).reset_index()\n",
    "spending_trends.rename(columns={'Total_Spend': 'Spending_Trend'}, inplace=True)\n",
    "#The calculated slope represents the rate of change in spending over time. \n",
    "# #Positive slopes indicate increasing spending trends, while negative slopes suggest decreasing trends.\n",
    "\n",
    "# Merge the new features into the customer_data dataframe\n",
    "customer_data = pd.merge(customer_data, seasonal_buying_patterns, on='CustomerID')\n",
    "customer_data = pd.merge(customer_data, spending_trends, on='CustomerID')\n",
    "\n",
    "# Display the first few rows of the customer_data dataframe\n",
    "customer_data.sample(5)"
   ]
  },
  {
   "cell_type": "code",
   "execution_count": null,
   "id": "ced9cc9e",
   "metadata": {
    "execution": {
     "iopub.execute_input": "2023-09-13T18:56:06.643919Z",
     "iopub.status.busy": "2023-09-13T18:56:06.643461Z",
     "iopub.status.idle": "2023-09-13T18:56:06.672185Z",
     "shell.execute_reply": "2023-09-13T18:56:06.670586Z"
    },
    "papermill": {
     "duration": 0.103278,
     "end_time": "2023-09-13T18:56:06.675301",
     "exception": false,
     "start_time": "2023-09-13T18:56:06.572023",
     "status": "completed"
    },
    "tags": []
   },
   "outputs": [],
   "source": [
    "# Changing the data type of 'CustomerID' to string as it is a unique identifier and not used in mathematical operations\n",
    "customer_data['CustomerID'] = customer_data['CustomerID'].astype(str)\n",
    "\n",
    "# Convert data types of columns to optimal types\n",
    "customer_data = customer_data.convert_dtypes()"
   ]
  },
  {
   "cell_type": "code",
   "execution_count": null,
   "id": "ad4a945c",
   "metadata": {
    "execution": {
     "iopub.execute_input": "2023-09-13T18:56:06.814742Z",
     "iopub.status.busy": "2023-09-13T18:56:06.814241Z",
     "iopub.status.idle": "2023-09-13T18:56:06.843552Z",
     "shell.execute_reply": "2023-09-13T18:56:06.841980Z"
    },
    "papermill": {
     "duration": 0.102034,
     "end_time": "2023-09-13T18:56:06.846461",
     "exception": false,
     "start_time": "2023-09-13T18:56:06.744427",
     "status": "completed"
    },
    "tags": []
   },
   "outputs": [
    {
     "data": {
      "text/html": [
       "<div>\n",
       "<style scoped>\n",
       "    .dataframe tbody tr th:only-of-type {\n",
       "        vertical-align: middle;\n",
       "    }\n",
       "\n",
       "    .dataframe tbody tr th {\n",
       "        vertical-align: top;\n",
       "    }\n",
       "\n",
       "    .dataframe thead th {\n",
       "        text-align: right;\n",
       "    }\n",
       "</style>\n",
       "<table border=\"1\" class=\"dataframe\">\n",
       "  <thead>\n",
       "    <tr style=\"text-align: right;\">\n",
       "      <th></th>\n",
       "      <th>CustomerID</th>\n",
       "      <th>Days_Since_Last_Purchase</th>\n",
       "      <th>Total_Transactions</th>\n",
       "      <th>Total_Products_Purchased</th>\n",
       "      <th>Total_Spend</th>\n",
       "      <th>Average_Transaction_Value</th>\n",
       "      <th>Unique_Products_Purchased</th>\n",
       "      <th>Average_Days_Between_Purchases</th>\n",
       "      <th>Day_Of_Week</th>\n",
       "      <th>Hour</th>\n",
       "      <th>Is_UK</th>\n",
       "      <th>Cancellation_Frequency</th>\n",
       "      <th>Cancellation_Rate</th>\n",
       "      <th>Monthly_Spending_Mean</th>\n",
       "      <th>Monthly_Spending_Std</th>\n",
       "      <th>Spending_Trend</th>\n",
       "    </tr>\n",
       "  </thead>\n",
       "  <tbody>\n",
       "    <tr>\n",
       "      <th>0</th>\n",
       "      <td>12346.0</td>\n",
       "      <td>325</td>\n",
       "      <td>2</td>\n",
       "      <td>0</td>\n",
       "      <td>0.0</td>\n",
       "      <td>0.0</td>\n",
       "      <td>1</td>\n",
       "      <td>0.0</td>\n",
       "      <td>1</td>\n",
       "      <td>10</td>\n",
       "      <td>1</td>\n",
       "      <td>1</td>\n",
       "      <td>0.5</td>\n",
       "      <td>0.0</td>\n",
       "      <td>0.0</td>\n",
       "      <td>0.0</td>\n",
       "    </tr>\n",
       "    <tr>\n",
       "      <th>1</th>\n",
       "      <td>12347.0</td>\n",
       "      <td>2</td>\n",
       "      <td>7</td>\n",
       "      <td>2458</td>\n",
       "      <td>4310.0</td>\n",
       "      <td>615.714286</td>\n",
       "      <td>103</td>\n",
       "      <td>2.016575</td>\n",
       "      <td>1</td>\n",
       "      <td>14</td>\n",
       "      <td>0</td>\n",
       "      <td>0</td>\n",
       "      <td>0.0</td>\n",
       "      <td>615.714286</td>\n",
       "      <td>341.070789</td>\n",
       "      <td>4.486071</td>\n",
       "    </tr>\n",
       "    <tr>\n",
       "      <th>2</th>\n",
       "      <td>12348.0</td>\n",
       "      <td>75</td>\n",
       "      <td>4</td>\n",
       "      <td>2332</td>\n",
       "      <td>1437.24</td>\n",
       "      <td>359.31</td>\n",
       "      <td>21</td>\n",
       "      <td>10.884615</td>\n",
       "      <td>3</td>\n",
       "      <td>19</td>\n",
       "      <td>0</td>\n",
       "      <td>0</td>\n",
       "      <td>0.0</td>\n",
       "      <td>359.31</td>\n",
       "      <td>203.875689</td>\n",
       "      <td>-100.884</td>\n",
       "    </tr>\n",
       "    <tr>\n",
       "      <th>3</th>\n",
       "      <td>12349.0</td>\n",
       "      <td>18</td>\n",
       "      <td>1</td>\n",
       "      <td>630</td>\n",
       "      <td>1457.55</td>\n",
       "      <td>1457.55</td>\n",
       "      <td>72</td>\n",
       "      <td>0.0</td>\n",
       "      <td>0</td>\n",
       "      <td>9</td>\n",
       "      <td>0</td>\n",
       "      <td>0</td>\n",
       "      <td>0.0</td>\n",
       "      <td>1457.55</td>\n",
       "      <td>0.0</td>\n",
       "      <td>0.0</td>\n",
       "    </tr>\n",
       "    <tr>\n",
       "      <th>4</th>\n",
       "      <td>12350.0</td>\n",
       "      <td>310</td>\n",
       "      <td>1</td>\n",
       "      <td>196</td>\n",
       "      <td>294.4</td>\n",
       "      <td>294.4</td>\n",
       "      <td>16</td>\n",
       "      <td>0.0</td>\n",
       "      <td>2</td>\n",
       "      <td>16</td>\n",
       "      <td>0</td>\n",
       "      <td>0</td>\n",
       "      <td>0.0</td>\n",
       "      <td>294.4</td>\n",
       "      <td>0.0</td>\n",
       "      <td>0.0</td>\n",
       "    </tr>\n",
       "    <tr>\n",
       "      <th>5</th>\n",
       "      <td>12352.0</td>\n",
       "      <td>36</td>\n",
       "      <td>8</td>\n",
       "      <td>463</td>\n",
       "      <td>1265.41</td>\n",
       "      <td>158.17625</td>\n",
       "      <td>57</td>\n",
       "      <td>3.13253</td>\n",
       "      <td>1</td>\n",
       "      <td>14</td>\n",
       "      <td>0</td>\n",
       "      <td>1</td>\n",
       "      <td>0.125</td>\n",
       "      <td>316.3525</td>\n",
       "      <td>134.700629</td>\n",
       "      <td>9.351</td>\n",
       "    </tr>\n",
       "    <tr>\n",
       "      <th>6</th>\n",
       "      <td>12353.0</td>\n",
       "      <td>204</td>\n",
       "      <td>1</td>\n",
       "      <td>20</td>\n",
       "      <td>89.0</td>\n",
       "      <td>89.0</td>\n",
       "      <td>4</td>\n",
       "      <td>0.0</td>\n",
       "      <td>3</td>\n",
       "      <td>17</td>\n",
       "      <td>0</td>\n",
       "      <td>0</td>\n",
       "      <td>0.0</td>\n",
       "      <td>89.0</td>\n",
       "      <td>0.0</td>\n",
       "      <td>0.0</td>\n",
       "    </tr>\n",
       "    <tr>\n",
       "      <th>7</th>\n",
       "      <td>12354.0</td>\n",
       "      <td>232</td>\n",
       "      <td>1</td>\n",
       "      <td>530</td>\n",
       "      <td>1079.4</td>\n",
       "      <td>1079.4</td>\n",
       "      <td>58</td>\n",
       "      <td>0.0</td>\n",
       "      <td>3</td>\n",
       "      <td>13</td>\n",
       "      <td>0</td>\n",
       "      <td>0</td>\n",
       "      <td>0.0</td>\n",
       "      <td>1079.4</td>\n",
       "      <td>0.0</td>\n",
       "      <td>0.0</td>\n",
       "    </tr>\n",
       "    <tr>\n",
       "      <th>8</th>\n",
       "      <td>12355.0</td>\n",
       "      <td>214</td>\n",
       "      <td>1</td>\n",
       "      <td>240</td>\n",
       "      <td>459.4</td>\n",
       "      <td>459.4</td>\n",
       "      <td>13</td>\n",
       "      <td>0.0</td>\n",
       "      <td>0</td>\n",
       "      <td>13</td>\n",
       "      <td>0</td>\n",
       "      <td>0</td>\n",
       "      <td>0.0</td>\n",
       "      <td>459.4</td>\n",
       "      <td>0.0</td>\n",
       "      <td>0.0</td>\n",
       "    </tr>\n",
       "    <tr>\n",
       "      <th>9</th>\n",
       "      <td>12356.0</td>\n",
       "      <td>22</td>\n",
       "      <td>3</td>\n",
       "      <td>1573</td>\n",
       "      <td>2487.43</td>\n",
       "      <td>829.143333</td>\n",
       "      <td>52</td>\n",
       "      <td>5.315789</td>\n",
       "      <td>1</td>\n",
       "      <td>9</td>\n",
       "      <td>0</td>\n",
       "      <td>0</td>\n",
       "      <td>0.0</td>\n",
       "      <td>829.143333</td>\n",
       "      <td>991.462585</td>\n",
       "      <td>-944.635</td>\n",
       "    </tr>\n",
       "  </tbody>\n",
       "</table>\n",
       "</div>"
      ],
      "text/plain": [
       "  CustomerID  Days_Since_Last_Purchase  Total_Transactions  \\\n",
       "0    12346.0                       325                   2   \n",
       "1    12347.0                         2                   7   \n",
       "2    12348.0                        75                   4   \n",
       "3    12349.0                        18                   1   \n",
       "4    12350.0                       310                   1   \n",
       "5    12352.0                        36                   8   \n",
       "6    12353.0                       204                   1   \n",
       "7    12354.0                       232                   1   \n",
       "8    12355.0                       214                   1   \n",
       "9    12356.0                        22                   3   \n",
       "\n",
       "   Total_Products_Purchased  Total_Spend  Average_Transaction_Value  \\\n",
       "0                         0          0.0                        0.0   \n",
       "1                      2458       4310.0                 615.714286   \n",
       "2                      2332      1437.24                     359.31   \n",
       "3                       630      1457.55                    1457.55   \n",
       "4                       196        294.4                      294.4   \n",
       "5                       463      1265.41                  158.17625   \n",
       "6                        20         89.0                       89.0   \n",
       "7                       530       1079.4                     1079.4   \n",
       "8                       240        459.4                      459.4   \n",
       "9                      1573      2487.43                 829.143333   \n",
       "\n",
       "   Unique_Products_Purchased  Average_Days_Between_Purchases  Day_Of_Week  \\\n",
       "0                          1                             0.0            1   \n",
       "1                        103                        2.016575            1   \n",
       "2                         21                       10.884615            3   \n",
       "3                         72                             0.0            0   \n",
       "4                         16                             0.0            2   \n",
       "5                         57                         3.13253            1   \n",
       "6                          4                             0.0            3   \n",
       "7                         58                             0.0            3   \n",
       "8                         13                             0.0            0   \n",
       "9                         52                        5.315789            1   \n",
       "\n",
       "   Hour  Is_UK  Cancellation_Frequency  Cancellation_Rate  \\\n",
       "0    10      1                       1                0.5   \n",
       "1    14      0                       0                0.0   \n",
       "2    19      0                       0                0.0   \n",
       "3     9      0                       0                0.0   \n",
       "4    16      0                       0                0.0   \n",
       "5    14      0                       1              0.125   \n",
       "6    17      0                       0                0.0   \n",
       "7    13      0                       0                0.0   \n",
       "8    13      0                       0                0.0   \n",
       "9     9      0                       0                0.0   \n",
       "\n",
       "   Monthly_Spending_Mean  Monthly_Spending_Std  Spending_Trend  \n",
       "0                    0.0                   0.0             0.0  \n",
       "1             615.714286            341.070789        4.486071  \n",
       "2                 359.31            203.875689        -100.884  \n",
       "3                1457.55                   0.0             0.0  \n",
       "4                  294.4                   0.0             0.0  \n",
       "5               316.3525            134.700629           9.351  \n",
       "6                   89.0                   0.0             0.0  \n",
       "7                 1079.4                   0.0             0.0  \n",
       "8                  459.4                   0.0             0.0  \n",
       "9             829.143333            991.462585        -944.635  "
      ]
     },
     "execution_count": 52,
     "metadata": {},
     "output_type": "execute_result"
    }
   ],
   "source": [
    "customer_data.head(10)"
   ]
  },
  {
   "cell_type": "code",
   "execution_count": null,
   "id": "84886ab4",
   "metadata": {
    "execution": {
     "iopub.execute_input": "2023-09-13T18:56:06.986502Z",
     "iopub.status.busy": "2023-09-13T18:56:06.985715Z",
     "iopub.status.idle": "2023-09-13T18:56:07.003616Z",
     "shell.execute_reply": "2023-09-13T18:56:07.002101Z"
    },
    "papermill": {
     "duration": 0.09233,
     "end_time": "2023-09-13T18:56:07.006785",
     "exception": false,
     "start_time": "2023-09-13T18:56:06.914455",
     "status": "completed"
    },
    "tags": []
   },
   "outputs": [
    {
     "name": "stdout",
     "output_type": "stream",
     "text": [
      "<class 'pandas.core.frame.DataFrame'>\n",
      "RangeIndex: 4282 entries, 0 to 4281\n",
      "Data columns (total 16 columns):\n",
      " #   Column                          Non-Null Count  Dtype  \n",
      "---  ------                          --------------  -----  \n",
      " 0   CustomerID                      4282 non-null   float64\n",
      " 1   Days_Since_Last_Purchase        4282 non-null   int64  \n",
      " 2   Total_Transactions              4282 non-null   int64  \n",
      " 3   Total_Products_Purchased        4282 non-null   int64  \n",
      " 4   Total_Spend                     4282 non-null   float64\n",
      " 5   Average_Transaction_Value       4282 non-null   float64\n",
      " 6   Unique_Products_Purchased       4282 non-null   int64  \n",
      " 7   Average_Days_Between_Purchases  4282 non-null   float64\n",
      " 8   Day_Of_Week                     4282 non-null   int32  \n",
      " 9   Hour                            4282 non-null   int32  \n",
      " 10  Is_UK                           4282 non-null   int64  \n",
      " 11  Cancellation_Frequency          4282 non-null   float64\n",
      " 12  Cancellation_Rate               4282 non-null   float64\n",
      " 13  Monthly_Spending_Mean           4282 non-null   float64\n",
      " 14  Monthly_Spending_Std            4282 non-null   float64\n",
      " 15  Spending_Trend                  4282 non-null   float64\n",
      "dtypes: float64(9), int32(2), int64(5)\n",
      "memory usage: 501.9 KB\n"
     ]
    }
   ],
   "source": [
    "customer_data.info()"
   ]
  },
  {
   "cell_type": "markdown",
   "id": "6add8e7d",
   "metadata": {
    "papermill": {
     "duration": 0.068289,
     "end_time": "2023-09-13T18:56:07.145231",
     "exception": false,
     "start_time": "2023-09-13T18:56:07.076942",
     "status": "completed"
    },
    "tags": []
   },
   "source": [
    "<div style=\"border-radius:10px; padding: 15px; background-color: #ffeacc; font-size:120%; text-align:left\">\n",
    "    \n",
    "Let's review the descriptions of the columns in our newly created `customer_data` dataset:"
   ]
  },
  {
   "cell_type": "markdown",
   "id": "ece07f05",
   "metadata": {
    "papermill": {
     "duration": 0.067916,
     "end_time": "2023-09-13T18:56:07.281272",
     "exception": false,
     "start_time": "2023-09-13T18:56:07.213356",
     "status": "completed"
    },
    "tags": []
   },
   "source": [
    "<div style=\"border-radius:10px; padding: 15px; background-color: #ffeacc; font-size:130%; text-align:left\">\n",
    "\n",
    "<h2 align=\"left\"><font color=#ff6200>Customer Dataset Description: Fill Missing Values</font></h2>\n",
    "\n",
    "| __Variable__                       | __Description__ |\n",
    "|     :---                           |       :---      |\n",
    "| __CustomerID__                     | . |\n",
    "| __Days_Since_Last_Purchase__       | \n",
    "| __Total_Transactions__             | \n",
    "| __Total_Products_Purchased__       | \n",
    "| __Total_Spend__                    | The total amount of money the customer has spent across all transactions. |\n",
    "| __Average_Transaction_Value__      | The average value of the customer's transactions, calculated as total spend divided by the number of transactions. |\n",
    "| __Unique_Products_Purchased__      | The number of different products the customer has purchased. |\n",
    "| __Average_Days_Between_Purchases__ | The average number of days between consecutive purchases made by the customer. |\n",
    "| __Day_Of_Week__                    | The day of the week when the customer prefers to shop, represented numerically (0 for Monday, 6 for Sunday). |\n",
    "| __Hour__                           | The hour of the day when the customer prefers to shop, represented in a 24-hour format. |\n",
    "| __Is_UK__                          |  |\n",
    "| __Cancellation_Frequency__         |\n",
    "| __Cancellation_Rate__              | The proportion of transactions that the customer has cancelled, calculated as cancellation frequency divided by total transactions. |\n",
    "| __Monthly_Spending_Mean__          | The average monthly spending of the customer. |\n",
    "| __Monthly_Spending_Std__           | their spending pattern. |\n",
    "| __Spending_Trend__                 | A numerical representation of the trend in the customer's spending over time. A positive value indicates an increasing trend, a negative value indicates a decreasing trend, and a value close to zero indicates a stable trend. |\n"
   ]
  },
  {
   "cell_type": "markdown",
   "id": "7837ff7f",
   "metadata": {
    "papermill": {
     "duration": 0.068674,
     "end_time": "2023-09-13T18:56:07.421487",
     "exception": false,
     "start_time": "2023-09-13T18:56:07.352813",
     "status": "completed"
    },
    "tags": []
   },
   "source": [
    "<div style=\"border-radius:10px; padding: 15px; background-color: #ffeacc; font-size:120%; text-align:left\">\n",
    "\n",
    "We've done a great job so far! We have created a dataset that focuses on our customers, using a variety of new features that give us a deeper understanding of their buying patterns and preferences.\n",
    "\n",
    "Now that our dataset is ready, we can move on to the next steps of our project. This includes looking at our data more closely to find any patterns or trends, making sure our data is in the best shape by checking for and handling any outliers, and preparing our data for the clustering process. All of these steps will help us build a strong foundation for creating our customer segments and, eventually, a personalized recommendation system."
   ]
  },
  {
   "cell_type": "markdown",
   "id": "4f94aed6",
   "metadata": {
    "papermill": {
     "duration": 0.070253,
     "end_time": "2023-09-13T18:56:07.561122",
     "exception": false,
     "start_time": "2023-09-13T18:56:07.490869",
     "status": "completed"
    },
    "tags": []
   },
   "source": [
    "<h3 align=\"left\"><font color=#ff6200>Let's dive in!</font></h3>"
   ]
  },
  {
   "cell_type": "markdown",
   "id": "850905bd",
   "metadata": {
    "papermill": {
     "duration": 0.069589,
     "end_time": "2023-09-13T18:56:07.701447",
     "exception": false,
     "start_time": "2023-09-13T18:56:07.631858",
     "status": "completed"
    },
    "tags": []
   },
   "source": [
    "<a id=\"outlier_detection\"></a>\n",
    "# <p style=\"background-color: #ff6200; font-family:calibri; color:white; font-size:140%; font-family:Verdana; text-align:center; border-radius:15px 50px;\">Step 5 | Outlier Detection and Treatment</p>\n",
    "⬆️ [Tabel of Contents](#contents_tabel)"
   ]
  },
  {
   "cell_type": "markdown",
   "id": "028cb74d",
   "metadata": {
    "papermill": {
     "duration": 0.069178,
     "end_time": "2023-09-13T18:56:07.840934",
     "exception": false,
     "start_time": "2023-09-13T18:56:07.771756",
     "status": "completed"
    },
    "tags": []
   },
   "source": [
    "<div style=\"border-radius:10px; padding: 15px; background-color: #ffeacc; font-size:120%; text-align:left\">\n",
    "\n",
    "In this section, I will identify and handle outliers in our dataset. Outliers are data points that are significantly different from the majority of other points in the dataset. These points can potentially skew the results of our analysis, especially in k-means clustering where they can significantly influence the position of the cluster centroids. Therefore, it is essential to identify and treat these outliers appropriately to achieve more accurate and meaningful clustering results.\n",
    "\n",
    "Given the multi-dimensional nature of the data, it would be prudent to use algorithms that can detect outliers in multi-dimensional spaces. I am going to use the __Isolation Forest__ algorithm for this task. This algorithm works well for multi-dimensional data and is computationally efficient. It isolates observations by randomly selecting a feature and then randomly selecting a split value between the maximum and minimum values of the selected feature.\n",
    "\n",
    "Let's proceed with this approach:"
   ]
  },
  {
   "cell_type": "code",
   "execution_count": null,
   "id": "a067ae0a",
   "metadata": {
    "execution": {
     "iopub.execute_input": "2023-09-13T18:56:07.985156Z",
     "iopub.status.busy": "2023-09-13T18:56:07.984282Z",
     "iopub.status.idle": "2023-09-13T18:56:08.635543Z",
     "shell.execute_reply": "2023-09-13T18:56:08.634016Z"
    },
    "papermill": {
     "duration": 0.728447,
     "end_time": "2023-09-13T18:56:08.639790",
     "exception": false,
     "start_time": "2023-09-13T18:56:07.911343",
     "status": "completed"
    },
    "tags": []
   },
   "outputs": [
    {
     "ename": "TypeError",
     "evalue": "float() argument must be a string or a real number, not 'Timestamp'",
     "output_type": "error",
     "traceback": [
      "\u001b[1;31m---------------------------------------------------------------------------\u001b[0m",
      "\u001b[1;31mTypeError\u001b[0m                                 Traceback (most recent call last)",
      "Cell \u001b[1;32mIn[53], line 5\u001b[0m\n\u001b[0;32m      2\u001b[0m model \u001b[38;5;241m=\u001b[39m IsolationForest(contamination\u001b[38;5;241m=\u001b[39m\u001b[38;5;241m0.05\u001b[39m, random_state\u001b[38;5;241m=\u001b[39m\u001b[38;5;241m0\u001b[39m)\n\u001b[0;32m      4\u001b[0m \u001b[38;5;66;03m# Fitting the model on our dataset (converting DataFrame to NumPy to avoid warning)\u001b[39;00m\n\u001b[1;32m----> 5\u001b[0m customer_data[\u001b[38;5;124m'\u001b[39m\u001b[38;5;124mOutlier_Scores\u001b[39m\u001b[38;5;124m'\u001b[39m] \u001b[38;5;241m=\u001b[39m \u001b[43mmodel\u001b[49m\u001b[38;5;241;43m.\u001b[39;49m\u001b[43mfit_predict\u001b[49m\u001b[43m(\u001b[49m\u001b[43mcustomer_data\u001b[49m\u001b[38;5;241;43m.\u001b[39;49m\u001b[43miloc\u001b[49m\u001b[43m[\u001b[49m\u001b[43m:\u001b[49m\u001b[43m,\u001b[49m\u001b[43m \u001b[49m\u001b[38;5;241;43m1\u001b[39;49m\u001b[43m:\u001b[49m\u001b[43m]\u001b[49m\u001b[38;5;241;43m.\u001b[39;49m\u001b[43mto_numpy\u001b[49m\u001b[43m(\u001b[49m\u001b[43m)\u001b[49m\u001b[43m)\u001b[49m\n\u001b[0;32m      7\u001b[0m \u001b[38;5;66;03m# Creating a new column to identify outliers (1 for inliers and -1 for outliers)\u001b[39;00m\n\u001b[0;32m      8\u001b[0m customer_data[\u001b[38;5;124m'\u001b[39m\u001b[38;5;124mIs_Outlier\u001b[39m\u001b[38;5;124m'\u001b[39m] \u001b[38;5;241m=\u001b[39m [\u001b[38;5;241m1\u001b[39m \u001b[38;5;28;01mif\u001b[39;00m x \u001b[38;5;241m==\u001b[39m \u001b[38;5;241m-\u001b[39m\u001b[38;5;241m1\u001b[39m \u001b[38;5;28;01melse\u001b[39;00m \u001b[38;5;241m0\u001b[39m \u001b[38;5;28;01mfor\u001b[39;00m x \u001b[38;5;129;01min\u001b[39;00m customer_data[\u001b[38;5;124m'\u001b[39m\u001b[38;5;124mOutlier_Scores\u001b[39m\u001b[38;5;124m'\u001b[39m]]\n",
      "File \u001b[1;32mc:\\Users\\Bhuvaneswari\\AppData\\Local\\Programs\\Python\\Python311\\Lib\\site-packages\\sklearn\\base.py:1036\u001b[0m, in \u001b[0;36mOutlierMixin.fit_predict\u001b[1;34m(self, X, y)\u001b[0m\n\u001b[0;32m   1018\u001b[0m \u001b[38;5;250m\u001b[39m\u001b[38;5;124;03m\"\"\"Perform fit on X and returns labels for X.\u001b[39;00m\n\u001b[0;32m   1019\u001b[0m \n\u001b[0;32m   1020\u001b[0m \u001b[38;5;124;03mReturns -1 for outliers and 1 for inliers.\u001b[39;00m\n\u001b[1;32m   (...)\u001b[0m\n\u001b[0;32m   1033\u001b[0m \u001b[38;5;124;03m    1 for inliers, -1 for outliers.\u001b[39;00m\n\u001b[0;32m   1034\u001b[0m \u001b[38;5;124;03m\"\"\"\u001b[39;00m\n\u001b[0;32m   1035\u001b[0m \u001b[38;5;66;03m# override for transductive outlier detectors like LocalOulierFactor\u001b[39;00m\n\u001b[1;32m-> 1036\u001b[0m \u001b[38;5;28;01mreturn\u001b[39;00m \u001b[38;5;28;43mself\u001b[39;49m\u001b[38;5;241;43m.\u001b[39;49m\u001b[43mfit\u001b[49m\u001b[43m(\u001b[49m\u001b[43mX\u001b[49m\u001b[43m)\u001b[49m\u001b[38;5;241m.\u001b[39mpredict(X)\n",
      "File \u001b[1;32mc:\\Users\\Bhuvaneswari\\AppData\\Local\\Programs\\Python\\Python311\\Lib\\site-packages\\sklearn\\base.py:1152\u001b[0m, in \u001b[0;36m_fit_context.<locals>.decorator.<locals>.wrapper\u001b[1;34m(estimator, *args, **kwargs)\u001b[0m\n\u001b[0;32m   1145\u001b[0m     estimator\u001b[38;5;241m.\u001b[39m_validate_params()\n\u001b[0;32m   1147\u001b[0m \u001b[38;5;28;01mwith\u001b[39;00m config_context(\n\u001b[0;32m   1148\u001b[0m     skip_parameter_validation\u001b[38;5;241m=\u001b[39m(\n\u001b[0;32m   1149\u001b[0m         prefer_skip_nested_validation \u001b[38;5;129;01mor\u001b[39;00m global_skip_validation\n\u001b[0;32m   1150\u001b[0m     )\n\u001b[0;32m   1151\u001b[0m ):\n\u001b[1;32m-> 1152\u001b[0m     \u001b[38;5;28;01mreturn\u001b[39;00m \u001b[43mfit_method\u001b[49m\u001b[43m(\u001b[49m\u001b[43mestimator\u001b[49m\u001b[43m,\u001b[49m\u001b[43m \u001b[49m\u001b[38;5;241;43m*\u001b[39;49m\u001b[43margs\u001b[49m\u001b[43m,\u001b[49m\u001b[43m \u001b[49m\u001b[38;5;241;43m*\u001b[39;49m\u001b[38;5;241;43m*\u001b[39;49m\u001b[43mkwargs\u001b[49m\u001b[43m)\u001b[49m\n",
      "File \u001b[1;32mc:\\Users\\Bhuvaneswari\\AppData\\Local\\Programs\\Python\\Python311\\Lib\\site-packages\\sklearn\\ensemble\\_iforest.py:290\u001b[0m, in \u001b[0;36mIsolationForest.fit\u001b[1;34m(self, X, y, sample_weight)\u001b[0m\n\u001b[0;32m    267\u001b[0m \u001b[38;5;129m@_fit_context\u001b[39m(prefer_skip_nested_validation\u001b[38;5;241m=\u001b[39m\u001b[38;5;28;01mTrue\u001b[39;00m)\n\u001b[0;32m    268\u001b[0m \u001b[38;5;28;01mdef\u001b[39;00m \u001b[38;5;21mfit\u001b[39m(\u001b[38;5;28mself\u001b[39m, X, y\u001b[38;5;241m=\u001b[39m\u001b[38;5;28;01mNone\u001b[39;00m, sample_weight\u001b[38;5;241m=\u001b[39m\u001b[38;5;28;01mNone\u001b[39;00m):\n\u001b[0;32m    269\u001b[0m \u001b[38;5;250m    \u001b[39m\u001b[38;5;124;03m\"\"\"\u001b[39;00m\n\u001b[0;32m    270\u001b[0m \u001b[38;5;124;03m    Fit estimator.\u001b[39;00m\n\u001b[0;32m    271\u001b[0m \n\u001b[1;32m   (...)\u001b[0m\n\u001b[0;32m    288\u001b[0m \u001b[38;5;124;03m        Fitted estimator.\u001b[39;00m\n\u001b[0;32m    289\u001b[0m \u001b[38;5;124;03m    \"\"\"\u001b[39;00m\n\u001b[1;32m--> 290\u001b[0m     X \u001b[38;5;241m=\u001b[39m \u001b[38;5;28;43mself\u001b[39;49m\u001b[38;5;241;43m.\u001b[39;49m\u001b[43m_validate_data\u001b[49m\u001b[43m(\u001b[49m\u001b[43mX\u001b[49m\u001b[43m,\u001b[49m\u001b[43m \u001b[49m\u001b[43maccept_sparse\u001b[49m\u001b[38;5;241;43m=\u001b[39;49m\u001b[43m[\u001b[49m\u001b[38;5;124;43m\"\u001b[39;49m\u001b[38;5;124;43mcsc\u001b[39;49m\u001b[38;5;124;43m\"\u001b[39;49m\u001b[43m]\u001b[49m\u001b[43m,\u001b[49m\u001b[43m \u001b[49m\u001b[43mdtype\u001b[49m\u001b[38;5;241;43m=\u001b[39;49m\u001b[43mtree_dtype\u001b[49m\u001b[43m)\u001b[49m\n\u001b[0;32m    291\u001b[0m     \u001b[38;5;28;01mif\u001b[39;00m issparse(X):\n\u001b[0;32m    292\u001b[0m         \u001b[38;5;66;03m# Pre-sort indices to avoid that each individual tree of the\u001b[39;00m\n\u001b[0;32m    293\u001b[0m         \u001b[38;5;66;03m# ensemble sorts the indices.\u001b[39;00m\n\u001b[0;32m    294\u001b[0m         X\u001b[38;5;241m.\u001b[39msort_indices()\n",
      "File \u001b[1;32mc:\\Users\\Bhuvaneswari\\AppData\\Local\\Programs\\Python\\Python311\\Lib\\site-packages\\sklearn\\base.py:605\u001b[0m, in \u001b[0;36mBaseEstimator._validate_data\u001b[1;34m(self, X, y, reset, validate_separately, cast_to_ndarray, **check_params)\u001b[0m\n\u001b[0;32m    603\u001b[0m         out \u001b[38;5;241m=\u001b[39m X, y\n\u001b[0;32m    604\u001b[0m \u001b[38;5;28;01melif\u001b[39;00m \u001b[38;5;129;01mnot\u001b[39;00m no_val_X \u001b[38;5;129;01mand\u001b[39;00m no_val_y:\n\u001b[1;32m--> 605\u001b[0m     out \u001b[38;5;241m=\u001b[39m \u001b[43mcheck_array\u001b[49m\u001b[43m(\u001b[49m\u001b[43mX\u001b[49m\u001b[43m,\u001b[49m\u001b[43m \u001b[49m\u001b[43minput_name\u001b[49m\u001b[38;5;241;43m=\u001b[39;49m\u001b[38;5;124;43m\"\u001b[39;49m\u001b[38;5;124;43mX\u001b[39;49m\u001b[38;5;124;43m\"\u001b[39;49m\u001b[43m,\u001b[49m\u001b[43m \u001b[49m\u001b[38;5;241;43m*\u001b[39;49m\u001b[38;5;241;43m*\u001b[39;49m\u001b[43mcheck_params\u001b[49m\u001b[43m)\u001b[49m\n\u001b[0;32m    606\u001b[0m \u001b[38;5;28;01melif\u001b[39;00m no_val_X \u001b[38;5;129;01mand\u001b[39;00m \u001b[38;5;129;01mnot\u001b[39;00m no_val_y:\n\u001b[0;32m    607\u001b[0m     out \u001b[38;5;241m=\u001b[39m _check_y(y, \u001b[38;5;241m*\u001b[39m\u001b[38;5;241m*\u001b[39mcheck_params)\n",
      "File \u001b[1;32mc:\\Users\\Bhuvaneswari\\AppData\\Local\\Programs\\Python\\Python311\\Lib\\site-packages\\sklearn\\utils\\validation.py:915\u001b[0m, in \u001b[0;36mcheck_array\u001b[1;34m(array, accept_sparse, accept_large_sparse, dtype, order, copy, force_all_finite, ensure_2d, allow_nd, ensure_min_samples, ensure_min_features, estimator, input_name)\u001b[0m\n\u001b[0;32m    913\u001b[0m         array \u001b[38;5;241m=\u001b[39m xp\u001b[38;5;241m.\u001b[39mastype(array, dtype, copy\u001b[38;5;241m=\u001b[39m\u001b[38;5;28;01mFalse\u001b[39;00m)\n\u001b[0;32m    914\u001b[0m     \u001b[38;5;28;01melse\u001b[39;00m:\n\u001b[1;32m--> 915\u001b[0m         array \u001b[38;5;241m=\u001b[39m \u001b[43m_asarray_with_order\u001b[49m\u001b[43m(\u001b[49m\u001b[43marray\u001b[49m\u001b[43m,\u001b[49m\u001b[43m \u001b[49m\u001b[43morder\u001b[49m\u001b[38;5;241;43m=\u001b[39;49m\u001b[43morder\u001b[49m\u001b[43m,\u001b[49m\u001b[43m \u001b[49m\u001b[43mdtype\u001b[49m\u001b[38;5;241;43m=\u001b[39;49m\u001b[43mdtype\u001b[49m\u001b[43m,\u001b[49m\u001b[43m \u001b[49m\u001b[43mxp\u001b[49m\u001b[38;5;241;43m=\u001b[39;49m\u001b[43mxp\u001b[49m\u001b[43m)\u001b[49m\n\u001b[0;32m    916\u001b[0m \u001b[38;5;28;01mexcept\u001b[39;00m ComplexWarning \u001b[38;5;28;01mas\u001b[39;00m complex_warning:\n\u001b[0;32m    917\u001b[0m     \u001b[38;5;28;01mraise\u001b[39;00m \u001b[38;5;167;01mValueError\u001b[39;00m(\n\u001b[0;32m    918\u001b[0m         \u001b[38;5;124m\"\u001b[39m\u001b[38;5;124mComplex data not supported\u001b[39m\u001b[38;5;130;01m\\n\u001b[39;00m\u001b[38;5;132;01m{}\u001b[39;00m\u001b[38;5;130;01m\\n\u001b[39;00m\u001b[38;5;124m\"\u001b[39m\u001b[38;5;241m.\u001b[39mformat(array)\n\u001b[0;32m    919\u001b[0m     ) \u001b[38;5;28;01mfrom\u001b[39;00m \u001b[38;5;21;01mcomplex_warning\u001b[39;00m\n",
      "File \u001b[1;32mc:\\Users\\Bhuvaneswari\\AppData\\Local\\Programs\\Python\\Python311\\Lib\\site-packages\\sklearn\\utils\\_array_api.py:380\u001b[0m, in \u001b[0;36m_asarray_with_order\u001b[1;34m(array, dtype, order, copy, xp)\u001b[0m\n\u001b[0;32m    378\u001b[0m     array \u001b[38;5;241m=\u001b[39m numpy\u001b[38;5;241m.\u001b[39marray(array, order\u001b[38;5;241m=\u001b[39morder, dtype\u001b[38;5;241m=\u001b[39mdtype)\n\u001b[0;32m    379\u001b[0m \u001b[38;5;28;01melse\u001b[39;00m:\n\u001b[1;32m--> 380\u001b[0m     array \u001b[38;5;241m=\u001b[39m numpy\u001b[38;5;241m.\u001b[39masarray(array, order\u001b[38;5;241m=\u001b[39morder, dtype\u001b[38;5;241m=\u001b[39mdtype)\n\u001b[0;32m    382\u001b[0m \u001b[38;5;66;03m# At this point array is a NumPy ndarray. We convert it to an array\u001b[39;00m\n\u001b[0;32m    383\u001b[0m \u001b[38;5;66;03m# container that is consistent with the input's namespace.\u001b[39;00m\n\u001b[0;32m    384\u001b[0m \u001b[38;5;28;01mreturn\u001b[39;00m xp\u001b[38;5;241m.\u001b[39masarray(array)\n",
      "\u001b[1;31mTypeError\u001b[0m: float() argument must be a string or a real number, not 'Timestamp'"
     ]
    }
   ],
   "source": [
    "# Initializing the IsolationForest model with a contamination parameter of 0.05\n",
    "model = IsolationForest(contamination=0.05, random_state=0)\n",
    "\n",
    "# Fitting the model on our dataset (converting DataFrame to NumPy to avoid warning)\n",
    "customer_data['Outlier_Scores'] = model.fit_predict(customer_data.iloc[:, 1:].to_numpy())\n",
    "\n",
    "# Creating a new column to identify outliers (1 for inliers and -1 for outliers)\n",
    "customer_data['Is_Outlier'] = [1 if x == -1 else 0 for x in customer_data['Outlier_Scores']]\n",
    "\n",
    "# Display the first few rows of the customer_data dataframe\n",
    "customer_data.head()"
   ]
  },
  {
   "cell_type": "markdown",
   "id": "16a1388e",
   "metadata": {
    "papermill": {
     "duration": 0.070961,
     "end_time": "2023-09-13T18:56:08.782642",
     "exception": false,
     "start_time": "2023-09-13T18:56:08.711681",
     "status": "completed"
    },
    "tags": []
   },
   "source": [
    "<div style=\"border-radius:10px; padding: 15px; background-color: #ffeacc; font-size:120%; text-align:left\">\n",
    "    \n",
    "After applying the Isolation Forest algorithm, we have identified the outliers and marked them in a new column named `Is_Outlier`. We have also calculated the outlier scores which represent the anomaly score of each record. \n",
    "\n",
    "Now let's visualize the distribution of these scores and the number of inliers and outliers detected by the model:"
   ]
  },
  {
   "cell_type": "code",
   "execution_count": null,
   "id": "2a156aa4",
   "metadata": {
    "execution": {
     "iopub.execute_input": "2023-09-13T18:56:08.929583Z",
     "iopub.status.busy": "2023-09-13T18:56:08.928621Z",
     "iopub.status.idle": "2023-09-13T18:56:09.491850Z",
     "shell.execute_reply": "2023-09-13T18:56:09.490605Z"
    },
    "papermill": {
     "duration": 0.637863,
     "end_time": "2023-09-13T18:56:09.494637",
     "exception": false,
     "start_time": "2023-09-13T18:56:08.856774",
     "status": "completed"
    },
    "tags": []
   },
   "outputs": [
    {
     "ename": "KeyError",
     "evalue": "'Is_Outlier'",
     "output_type": "error",
     "traceback": [
      "\u001b[1;31m---------------------------------------------------------------------------\u001b[0m",
      "\u001b[1;31mKeyError\u001b[0m                                  Traceback (most recent call last)",
      "File \u001b[1;32mc:\\Users\\Bhuvaneswari\\AppData\\Local\\Programs\\Python\\Python311\\Lib\\site-packages\\pandas\\core\\indexes\\base.py:3790\u001b[0m, in \u001b[0;36mIndex.get_loc\u001b[1;34m(self, key)\u001b[0m\n\u001b[0;32m   3789\u001b[0m \u001b[38;5;28;01mtry\u001b[39;00m:\n\u001b[1;32m-> 3790\u001b[0m     \u001b[38;5;28;01mreturn\u001b[39;00m \u001b[38;5;28;43mself\u001b[39;49m\u001b[38;5;241;43m.\u001b[39;49m\u001b[43m_engine\u001b[49m\u001b[38;5;241;43m.\u001b[39;49m\u001b[43mget_loc\u001b[49m\u001b[43m(\u001b[49m\u001b[43mcasted_key\u001b[49m\u001b[43m)\u001b[49m\n\u001b[0;32m   3791\u001b[0m \u001b[38;5;28;01mexcept\u001b[39;00m \u001b[38;5;167;01mKeyError\u001b[39;00m \u001b[38;5;28;01mas\u001b[39;00m err:\n",
      "File \u001b[1;32mindex.pyx:152\u001b[0m, in \u001b[0;36mpandas._libs.index.IndexEngine.get_loc\u001b[1;34m()\u001b[0m\n",
      "File \u001b[1;32mindex.pyx:181\u001b[0m, in \u001b[0;36mpandas._libs.index.IndexEngine.get_loc\u001b[1;34m()\u001b[0m\n",
      "File \u001b[1;32mpandas\\_libs\\hashtable_class_helper.pxi:7080\u001b[0m, in \u001b[0;36mpandas._libs.hashtable.PyObjectHashTable.get_item\u001b[1;34m()\u001b[0m\n",
      "File \u001b[1;32mpandas\\_libs\\hashtable_class_helper.pxi:7088\u001b[0m, in \u001b[0;36mpandas._libs.hashtable.PyObjectHashTable.get_item\u001b[1;34m()\u001b[0m\n",
      "\u001b[1;31mKeyError\u001b[0m: 'Is_Outlier'",
      "\nThe above exception was the direct cause of the following exception:\n",
      "\u001b[1;31mKeyError\u001b[0m                                  Traceback (most recent call last)",
      "Cell \u001b[1;32mIn[87], line 2\u001b[0m\n\u001b[0;32m      1\u001b[0m \u001b[38;5;66;03m# Calculate the percentage of inliers and outliers\u001b[39;00m\n\u001b[1;32m----> 2\u001b[0m outlier_percentage \u001b[38;5;241m=\u001b[39m \u001b[43mcustomer_data\u001b[49m\u001b[43m[\u001b[49m\u001b[38;5;124;43m'\u001b[39;49m\u001b[38;5;124;43mIs_Outlier\u001b[39;49m\u001b[38;5;124;43m'\u001b[39;49m\u001b[43m]\u001b[49m\u001b[38;5;241m.\u001b[39mvalue_counts(normalize\u001b[38;5;241m=\u001b[39m\u001b[38;5;28;01mTrue\u001b[39;00m) \u001b[38;5;241m*\u001b[39m \u001b[38;5;241m100\u001b[39m\n\u001b[0;32m      4\u001b[0m \u001b[38;5;66;03m# Plotting the percentage of inliers and outliers\u001b[39;00m\n\u001b[0;32m      5\u001b[0m plt\u001b[38;5;241m.\u001b[39mfigure(figsize\u001b[38;5;241m=\u001b[39m(\u001b[38;5;241m12\u001b[39m, \u001b[38;5;241m4\u001b[39m))\n",
      "File \u001b[1;32mc:\\Users\\Bhuvaneswari\\AppData\\Local\\Programs\\Python\\Python311\\Lib\\site-packages\\pandas\\core\\frame.py:3893\u001b[0m, in \u001b[0;36mDataFrame.__getitem__\u001b[1;34m(self, key)\u001b[0m\n\u001b[0;32m   3891\u001b[0m \u001b[38;5;28;01mif\u001b[39;00m \u001b[38;5;28mself\u001b[39m\u001b[38;5;241m.\u001b[39mcolumns\u001b[38;5;241m.\u001b[39mnlevels \u001b[38;5;241m>\u001b[39m \u001b[38;5;241m1\u001b[39m:\n\u001b[0;32m   3892\u001b[0m     \u001b[38;5;28;01mreturn\u001b[39;00m \u001b[38;5;28mself\u001b[39m\u001b[38;5;241m.\u001b[39m_getitem_multilevel(key)\n\u001b[1;32m-> 3893\u001b[0m indexer \u001b[38;5;241m=\u001b[39m \u001b[38;5;28;43mself\u001b[39;49m\u001b[38;5;241;43m.\u001b[39;49m\u001b[43mcolumns\u001b[49m\u001b[38;5;241;43m.\u001b[39;49m\u001b[43mget_loc\u001b[49m\u001b[43m(\u001b[49m\u001b[43mkey\u001b[49m\u001b[43m)\u001b[49m\n\u001b[0;32m   3894\u001b[0m \u001b[38;5;28;01mif\u001b[39;00m is_integer(indexer):\n\u001b[0;32m   3895\u001b[0m     indexer \u001b[38;5;241m=\u001b[39m [indexer]\n",
      "File \u001b[1;32mc:\\Users\\Bhuvaneswari\\AppData\\Local\\Programs\\Python\\Python311\\Lib\\site-packages\\pandas\\core\\indexes\\base.py:3797\u001b[0m, in \u001b[0;36mIndex.get_loc\u001b[1;34m(self, key)\u001b[0m\n\u001b[0;32m   3792\u001b[0m     \u001b[38;5;28;01mif\u001b[39;00m \u001b[38;5;28misinstance\u001b[39m(casted_key, \u001b[38;5;28mslice\u001b[39m) \u001b[38;5;129;01mor\u001b[39;00m (\n\u001b[0;32m   3793\u001b[0m         \u001b[38;5;28misinstance\u001b[39m(casted_key, abc\u001b[38;5;241m.\u001b[39mIterable)\n\u001b[0;32m   3794\u001b[0m         \u001b[38;5;129;01mand\u001b[39;00m \u001b[38;5;28many\u001b[39m(\u001b[38;5;28misinstance\u001b[39m(x, \u001b[38;5;28mslice\u001b[39m) \u001b[38;5;28;01mfor\u001b[39;00m x \u001b[38;5;129;01min\u001b[39;00m casted_key)\n\u001b[0;32m   3795\u001b[0m     ):\n\u001b[0;32m   3796\u001b[0m         \u001b[38;5;28;01mraise\u001b[39;00m InvalidIndexError(key)\n\u001b[1;32m-> 3797\u001b[0m     \u001b[38;5;28;01mraise\u001b[39;00m \u001b[38;5;167;01mKeyError\u001b[39;00m(key) \u001b[38;5;28;01mfrom\u001b[39;00m \u001b[38;5;21;01merr\u001b[39;00m\n\u001b[0;32m   3798\u001b[0m \u001b[38;5;28;01mexcept\u001b[39;00m \u001b[38;5;167;01mTypeError\u001b[39;00m:\n\u001b[0;32m   3799\u001b[0m     \u001b[38;5;66;03m# If we have a listlike key, _check_indexing_error will raise\u001b[39;00m\n\u001b[0;32m   3800\u001b[0m     \u001b[38;5;66;03m#  InvalidIndexError. Otherwise we fall through and re-raise\u001b[39;00m\n\u001b[0;32m   3801\u001b[0m     \u001b[38;5;66;03m#  the TypeError.\u001b[39;00m\n\u001b[0;32m   3802\u001b[0m     \u001b[38;5;28mself\u001b[39m\u001b[38;5;241m.\u001b[39m_check_indexing_error(key)\n",
      "\u001b[1;31mKeyError\u001b[0m: 'Is_Outlier'"
     ]
    }
   ],
   "source": [
    "# Calculate the percentage of inliers and outliers\n",
    "outlier_percentage = customer_data['Is_Outlier'].value_counts(normalize=True) * 100\n",
    "\n",
    "# Plotting the percentage of inliers and outliers\n",
    "plt.figure(figsize=(12, 4))\n",
    "outlier_percentage.plot(kind='barh', color='#ff6200')\n",
    "\n",
    "# Adding the percentage labels on the bars\n",
    "for index, value in enumerate(outlier_percentage):\n",
    "    plt.text(value, index, f'{value:.2f}%', fontsize=15)\n",
    "\n",
    "plt.title('Percentage of Inliers and Outliers')\n",
    "plt.xticks(ticks=np.arange(0, 115, 5))\n",
    "plt.xlabel('Percentage (%)')\n",
    "plt.ylabel('Is_Outlier')\n",
    "plt.gca().invert_yaxis()\n",
    "plt.show()"
   ]
  },
  {
   "cell_type": "markdown",
   "id": "0e41f9f5",
   "metadata": {
    "papermill": {
     "duration": 0.071032,
     "end_time": "2023-09-13T18:56:09.635360",
     "exception": false,
     "start_time": "2023-09-13T18:56:09.564328",
     "status": "completed"
    },
    "tags": []
   },
   "source": [
    "<div style=\"border-radius:10px; padding: 15px; background-color: #ffeacc; font-size:120%; text-align:left\">\n",
    "<h3 align=\"left\"><font color=#ff6200>Inference: </font></h3>\n",
    "    \n",
    "Write Inference : \n",
    "From the above plot, we can observe that about 5% of the customers have been identified as outliers in our dataset. This percentage seems to be a reasonable proportion, not too high to lose a significant amount of data, and not too low to retain potentially noisy data points. It suggests that our isolation forest algorithm has worked well in identifying a moderate percentage of outliers, which will be critical in refining our customer segmentation."
   ]
  },
  {
   "cell_type": "markdown",
   "id": "0a076661",
   "metadata": {
    "papermill": {
     "duration": 0.072984,
     "end_time": "2023-09-13T18:56:09.779213",
     "exception": false,
     "start_time": "2023-09-13T18:56:09.706229",
     "status": "completed"
    },
    "tags": []
   },
   "source": [
    "<div style=\"border-radius:10px; padding: 15px; background-color: #ffeacc; font-size:120%; text-align:left\">\n",
    "<h3 align=\"left\"><font color=#ff6200>Strategy: </font></h3>\n",
    "\n",
    "Considering the nature of the project (customer segmentation using clustering), it is crucial to handle these outliers to prevent them from affecting the clusters' quality significantly. Therefore, I will separate these outliers for further analysis and remove them from our main dataset to prepare it for the clustering analysis. \n",
    "\n",
    "Let's proceed with the following steps:\n",
    "\n",
    "- Separate the identified outliers for further analysis and save them as a separate file (optional).\n",
    "- Remove the outliers from the main dataset to prevent them from influencing the clustering process.\n",
    "- Drop the `Outlier_Scores` and `Is_Outlier` columns as they were auxiliary columns used for the outlier detection process.\n",
    "\n",
    "Let's implement these steps:"
   ]
  },
  {
   "cell_type": "code",
   "execution_count": null,
   "id": "4662a17f",
   "metadata": {
    "execution": {
     "iopub.execute_input": "2023-09-13T18:56:09.923849Z",
     "iopub.status.busy": "2023-09-13T18:56:09.923393Z",
     "iopub.status.idle": "2023-09-13T18:56:09.942815Z",
     "shell.execute_reply": "2023-09-13T18:56:09.941389Z"
    },
    "papermill": {
     "duration": 0.095994,
     "end_time": "2023-09-13T18:56:09.945790",
     "exception": false,
     "start_time": "2023-09-13T18:56:09.849796",
     "status": "completed"
    },
    "tags": []
   },
   "outputs": [
    {
     "name": "stdout",
     "output_type": "stream",
     "text": [
      "      CustomerID  Days_Since_Last_Purchase  Total_Transactions  \\\n",
      "4062     18280.0                       277                   1   \n",
      "4063     18281.0                       180                   1   \n",
      "4064     18282.0                         7                   3   \n",
      "4065     18283.0                         3                  16   \n",
      "4066     18287.0                        42                   3   \n",
      "\n",
      "      Total_Products_Purchased  Total_Spend  Average_Transaction_Value  \\\n",
      "4062                        45       180.60                 180.600000   \n",
      "4063                        54        80.82                  80.820000   \n",
      "4064                        98       176.60                  58.866667   \n",
      "4065                      1355      2039.58                 127.473750   \n",
      "4066                      1586      1837.28                 612.426667   \n",
      "\n",
      "      Unique_Products_Purchased  Average_Days_Between_Purchases  Day_Of_Week  \\\n",
      "4062                         10                        0.000000            0   \n",
      "4063                          7                        0.000000            6   \n",
      "4064                         12                        9.916667            4   \n",
      "4065                        262                        0.465181            3   \n",
      "4066                         59                        2.304348            2   \n",
      "\n",
      "      Hour  Is_UK  Cancellation_Frequency  Cancellation_Rate  \\\n",
      "4062     9      1                     0.0           0.000000   \n",
      "4063    10      1                     0.0           0.000000   \n",
      "4064    13      1                     1.0           0.142857   \n",
      "4065    14      1                     0.0           0.000000   \n",
      "4066    10      1                     0.0           0.000000   \n",
      "\n",
      "      Monthly_Spending_Mean  Monthly_Spending_Std  Spending_Trend  \n",
      "4062                180.600              0.000000        0.000000  \n",
      "4063                 80.820              0.000000        0.000000  \n",
      "4064                 88.300             14.792674      -20.920000  \n",
      "4065                203.958            165.798738       22.319273  \n",
      "4066                918.640            216.883792      306.720000  \n"
     ]
    }
   ],
   "source": [
    "# Separate the outliers for analysis\n",
    "outliers_data = customer_data[customer_data['Is_Outlier'] == 1]\n",
    "\n",
    "# Remove the outliers from the main dataset\n",
    "customer_data_cleaned = customer_data[customer_data['Is_Outlier'] == 0]\n",
    "\n",
    "# Drop the 'Outlier_Scores' and 'Is_Outlier' columns\n",
    "customer_data_cleaned = customer_data_cleaned.drop(columns=['Outlier_Scores', 'Is_Outlier'])\n",
    "\n",
    "# Reset the index of the cleaned data\n",
    "customer_data_cleaned.reset_index(drop=True, inplace=True)\n",
    "print(customer_data_cleaned.tail(5))"
   ]
  },
  {
   "cell_type": "markdown",
   "id": "1a030cce",
   "metadata": {
    "papermill": {
     "duration": 0.071319,
     "end_time": "2023-09-13T18:56:10.088406",
     "exception": false,
     "start_time": "2023-09-13T18:56:10.017087",
     "status": "completed"
    },
    "tags": []
   },
   "source": [
    "<div style=\"border-radius:10px; padding: 15px; background-color: #ffeacc; font-size:120%; text-align:left\">\n",
    "    \n",
    "We have successfully separated the outliers for further analysis and cleaned our main dataset by removing these outliers. This cleaned dataset is now ready for the next steps in our customer segmentation project, which includes scaling the features and applying clustering algorithms to identify distinct customer segments."
   ]
  }
 ],
 "metadata": {
  "kernelspec": {
   "display_name": "Python 3 (ipykernel)",
   "language": "python",
   "name": "python3"
  },
  "language_info": {
   "codemirror_mode": {
    "name": "ipython",
    "version": 3
   },
   "file_extension": ".py",
   "mimetype": "text/x-python",
   "name": "python",
   "nbconvert_exporter": "python",
   "pygments_lexer": "ipython3",
   "version": "3.11.6"
  },
  "papermill": {
   "default_parameters": {},
   "duration": 168.09806,
   "end_time": "2023-09-13T18:58:13.013821",
   "environment_variables": {},
   "exception": null,
   "input_path": "__notebook__.ipynb",
   "output_path": "__notebook__.ipynb",
   "parameters": {},
   "start_time": "2023-09-13T18:55:24.915761",
   "version": "2.4.0"
  }
 },
 "nbformat": 4,
 "nbformat_minor": 5
}
